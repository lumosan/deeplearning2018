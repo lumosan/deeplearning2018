{
 "cells": [
  {
   "cell_type": "code",
   "execution_count": 1,
   "metadata": {},
   "outputs": [],
   "source": [
    "import torch\n",
    "\n",
    "input_dim=10\n",
    "output_dim = 2\n",
    "layer_n=3\n",
    "x = torch.Tensor([0,1,2,3,4,5,6,7,8,9])\n",
    "w1 = torch.Tensor(layer_n, input_dim).normal_(mean=0, std=1e-6)\n",
    "b1 = torch.Tensor(layer_n).normal_(mean=0, std=1e-6)\n",
    "w2 = torch.Tensor(output_dim, layer_n).normal_(mean=0, std=1e-6)\n",
    "b2 = torch.Tensor(output_dim).normal_(mean=0, std=1e-6)\n",
    "\n",
    "# 1 Activation function\n",
    "\n",
    "def sigma(x):\n",
    "    return torch.tanh(x)\n",
    "\n",
    "def dsigma(x):\n",
    "    return torch.mul(torch.tanh(x), (torch.exp(-x)/(1 + torch.exp(-x))))\n",
    "\n",
    "# 2 Loss\n",
    "\n",
    "def loss(v, t):\n",
    "    return torch.sum(torch.pow(v-t, 2))\n",
    "\n",
    "def dloss(v, t):\n",
    "    return torch.mul(t-v, -2)\n",
    "\n",
    "# 3 Forward and backward passes\n",
    "\n",
    "def forward_pass(w1, b1, w2, b2, x):\n",
    "    \"\"\"\n",
    "    Inputs:\n",
    "    w1, b1 weight and bias of first layer\n",
    "    w2, b2 weight and bias of second layer\n",
    "    x an input vector to the network\n",
    "    \n",
    "    Outputs:\n",
    "    x, s1, x1, s2, x2\n",
    "    \"\"\"\n",
    "    s1 = torch.mv(w1, x) + b1\n",
    "    x1 = sigma(s1)\n",
    "    s2 = torch.mv(w2, x1) + b2\n",
    "    x2 = sigma(s2)\n",
    "    return x, s1, x1, s2, x2\n",
    "\n",
    "def backward_pass(w1, b1, w2, b2,\n",
    "    t,\n",
    "    x, s1, x1, s2, x2,\n",
    "    dl_dw1, dl_db1, dl_dw2, dl_db2):\n",
    "    \"\"\"\n",
    "    Inputs:\n",
    "    w1, b1 weight and bias of first layer\n",
    "    w2, b2 weight and bias of second layer\n",
    "    t target vector\n",
    "    x, s1, x1, s2, x2 the ones computed in forward_pass\n",
    "    dl_dw1, dl_db1, dl_dw2, dl_db2 tensors used to store the\n",
    "        cumulated sums of the gradient on individual samples\n",
    "    \"\"\"\n",
    "    dl_dw1 = x * dsigma(s1)\n",
    "    dl_db1 = dsigma(s1)\n",
    "    dl_dw2 = x1 * dsigma(s2)\n",
    "    dl_db2 = dsigma(s2)"
   ]
  },
  {
   "cell_type": "code",
   "execution_count": 2,
   "metadata": {
    "collapsed": true
   },
   "outputs": [],
   "source": [
    "x, s1, x1, s2, x2 = forward_pass(w1, b1, w2, b2, x)"
   ]
  },
  {
   "cell_type": "code",
   "execution_count": null,
   "metadata": {
    "collapsed": true
   },
   "outputs": [],
   "source": []
  },
  {
   "cell_type": "markdown",
   "metadata": {},
   "source": [
    "# 4 Training the network"
   ]
  },
  {
   "cell_type": "code",
   "execution_count": null,
   "metadata": {
    "collapsed": true
   },
   "outputs": [],
   "source": []
  }
 ],
 "metadata": {
  "kernelspec": {
   "display_name": "Python 3",
   "language": "python",
   "name": "python3"
  },
  "language_info": {
   "codemirror_mode": {
    "name": "ipython",
    "version": 3
   },
   "file_extension": ".py",
   "mimetype": "text/x-python",
   "name": "python",
   "nbconvert_exporter": "python",
   "pygments_lexer": "ipython3",
   "version": "3.6.3"
  }
 },
 "nbformat": 4,
 "nbformat_minor": 2
}
