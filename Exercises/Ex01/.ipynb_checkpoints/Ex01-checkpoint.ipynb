{
 "cells": [
  {
   "cell_type": "code",
   "execution_count": 1,
   "metadata": {
    "collapsed": true
   },
   "outputs": [],
   "source": [
    "import torch\n",
    "from torch import Tensor\n",
    "import numpy as np"
   ]
  },
  {
   "cell_type": "markdown",
   "metadata": {},
   "source": [
    "# 1 Multiple views of a storage"
   ]
  },
  {
   "cell_type": "code",
   "execution_count": 2,
   "metadata": {},
   "outputs": [
    {
     "data": {
      "text/plain": [
       "\n",
       "    1     2     1     1     1     1     2     1     1     1     1     1     2\n",
       "    2     2     2     2     2     2     2     2     2     2     2     2     2\n",
       "    1     2     1     1     1     1     2     1     1     1     1     1     2\n",
       "    1     2     1     3     3     1     2     1     3     3     1     1     2\n",
       "    1     2     1     3     3     1     2     1     3     3     1     1     2\n",
       "    1     2     1     1     1     1     2     1     1     1     1     1     2\n",
       "    2     2     2     2     2     2     2     2     2     2     2     2     2\n",
       "    1     2     1     1     1     1     2     1     1     1     1     1     2\n",
       "    1     2     1     3     3     1     2     1     3     3     1     1     2\n",
       "    1     2     1     3     3     1     2     1     3     3     1     1     2\n",
       "    1     2     1     1     1     1     2     1     1     1     1     1     2\n",
       "    1     2     1     1     1     1     2     1     1     1     1     1     2\n",
       "    2     2     2     2     2     2     2     2     2     2     2     2     2\n",
       "[torch.FloatTensor of size 13x13]"
      ]
     },
     "execution_count": 2,
     "metadata": {},
     "output_type": "execute_result"
    }
   ],
   "source": [
    "t0 = Tensor(13,13).fill_(3.0)\n",
    "\n",
    "t0.narrow(0,0,3).fill_(1.0)\n",
    "t0.narrow(0,5,3).fill_(1.0)\n",
    "t0.narrow(0,10,3).fill_(1.0)\n",
    "\n",
    "t0.narrow(1,0,3).fill_(1.0)\n",
    "t0.narrow(1,5,3).fill_(1.0)\n",
    "t0.narrow(1,10,3).fill_(1.0)\n",
    "\n",
    "t0.narrow(0,1,1).fill_(2.0)\n",
    "t0.narrow(0,6,1).fill_(2.0)\n",
    "t0.narrow(0,12,1).fill_(2.0)\n",
    "\n",
    "t0.narrow(1,1,1).fill_(2.0)\n",
    "t0.narrow(1,6,1).fill_(2.0)\n",
    "t0.narrow(1,12,1).fill_(2.0)\n",
    "\n",
    "t0"
   ]
  },
  {
   "cell_type": "markdown",
   "metadata": {},
   "source": [
    "# 2 Eigendecomposition"
   ]
  },
  {
   "cell_type": "code",
   "execution_count": 3,
   "metadata": {},
   "outputs": [
    {
     "name": "stdout",
     "output_type": "stream",
     "text": [
      "\n",
      "  1.0000\n",
      "  2.0000\n",
      "  3.0000\n",
      "  4.0000\n",
      "  5.0000\n",
      "  6.0000\n",
      "  7.0000\n",
      "  8.0000\n",
      "  9.0000\n",
      " 10.0000\n",
      " 11.0000\n",
      " 12.0000\n",
      " 13.0000\n",
      " 14.0000\n",
      " 15.0000\n",
      " 16.0000\n",
      " 17.0000\n",
      " 18.0000\n",
      " 19.0000\n",
      " 20.0000\n",
      "[torch.FloatTensor of size 20]\n",
      "\n"
     ]
    }
   ],
   "source": [
    "m_mat = Tensor(20,20).normal_()\n",
    "m_dia = torch.diag(torch.arange(1,m_mat.size(0)+1))\n",
    "\n",
    "prod = m_mat.inverse().mm(m_dia).mm(m_mat)\n",
    "\n",
    "v, _ = torch.eig(prod)\n",
    "print(v.narrow(1,0,1).squeeze().sort()[0])"
   ]
  },
  {
   "cell_type": "markdown",
   "metadata": {},
   "source": [
    "\n",
    "# 3 Flops per second"
   ]
  },
  {
   "cell_type": "code",
   "execution_count": 4,
   "metadata": {
    "collapsed": true
   },
   "outputs": [],
   "source": [
    "import time"
   ]
  },
  {
   "cell_type": "code",
   "execution_count": 9,
   "metadata": {},
   "outputs": [
    {
     "name": "stdout",
     "output_type": "stream",
     "text": [
      "time: 1.3851563069911208\n"
     ]
    }
   ],
   "source": [
    "d = 5000\n",
    "m_1 = Tensor(d, d).normal_()\n",
    "m_2 = Tensor(d, d).normal_()\n",
    "\n",
    "time_t0 = time.perf_counter()\n",
    "m_prod = m_1.mm(m_2)\n",
    "time_t1 = time.perf_counter()\n",
    "\n",
    "time_diff = time_t1 - time_t0\n",
    "print(f'time: {time_diff}')"
   ]
  },
  {
   "cell_type": "markdown",
   "metadata": {},
   "source": [
    "Estimation of floating point products per second (in billions - 1,000,000,000):"
   ]
  },
  {
   "cell_type": "code",
   "execution_count": 13,
   "metadata": {},
   "outputs": [
    {
     "data": {
      "text/plain": [
       "90.24252307779535"
      ]
     },
     "execution_count": 13,
     "metadata": {},
     "output_type": "execute_result"
    }
   ],
   "source": [
    "d**3/time_diff*1e-9"
   ]
  },
  {
   "cell_type": "markdown",
   "metadata": {},
   "source": [
    "# 4 Playing with strides"
   ]
  },
  {
   "cell_type": "markdown",
   "metadata": {},
   "source": [
    "Slow function:"
   ]
  },
  {
   "cell_type": "code",
   "execution_count": 14,
   "metadata": {
    "collapsed": true
   },
   "outputs": [],
   "source": [
    "def mul_row(m):\n",
    "    m2 = torch.Tensor(m.size())\n",
    "    for i in range(0, m.size()[0]):\n",
    "        for j in range(0, m.size()[1]):\n",
    "            m2[i,j] = m[i,j]*(i+1)\n",
    "    return m2"
   ]
  },
  {
   "cell_type": "code",
   "execution_count": 15,
   "metadata": {},
   "outputs": [
    {
     "name": "stdout",
     "output_type": "stream",
     "text": [
      "\n",
      "    2     2     2     2     2     2     2     2\n",
      "    4     4     4     4     4     4     4     4\n",
      "    6     6     6     6     6     6     6     6\n",
      "    8     8     8     8     8     8     8     8\n",
      "[torch.FloatTensor of size 4x8]\n",
      "\n"
     ]
    }
   ],
   "source": [
    "# Verify it's correct\n",
    "m = torch.Tensor(4,8).fill_(2.0)\n",
    "m2 = mul_row(m)\n",
    "print(m2)"
   ]
  },
  {
   "cell_type": "code",
   "execution_count": 16,
   "metadata": {},
   "outputs": [
    {
     "name": "stdout",
     "output_type": "stream",
     "text": [
      "time: 3.7823165050067473\n"
     ]
    }
   ],
   "source": [
    "# Compute time\n",
    "m = torch.Tensor(10000,400).fill_(2.0)\n",
    "\n",
    "time_t0 = time.perf_counter()\n",
    "m2 = mul_row(m)\n",
    "time_t1 = time.perf_counter()\n",
    "\n",
    "time_diff = time_t1 - time_t0\n",
    "print(f'time: {time_diff}')"
   ]
  },
  {
   "cell_type": "markdown",
   "metadata": {},
   "source": [
    "Fast function:"
   ]
  },
  {
   "cell_type": "code",
   "execution_count": 25,
   "metadata": {
    "collapsed": true
   },
   "outputs": [],
   "source": [
    "def mul_row_fast(m):\n",
    "    #r = torch.arange(1,m.size()[0]+1).view(-1,1)\n",
    "    d = m.size(0)\n",
    "    r = torch.arange(1, d + 1).view(-1, 1)\n",
    "    return m.mul(r)"
   ]
  },
  {
   "cell_type": "code",
   "execution_count": 27,
   "metadata": {},
   "outputs": [
    {
     "name": "stdout",
     "output_type": "stream",
     "text": [
      "\n",
      "    2     2     2     2     2     2     2     2\n",
      "    4     4     4     4     4     4     4     4\n",
      "    6     6     6     6     6     6     6     6\n",
      "    8     8     8     8     8     8     8     8\n",
      "[torch.FloatTensor of size 4x8]\n",
      "\n"
     ]
    }
   ],
   "source": [
    "# Verify it's correct\n",
    "m = torch.Tensor(4,8).fill_(2.0)\n",
    "m2 = mul_row_fast(m)\n",
    "print(m2)"
   ]
  },
  {
   "cell_type": "code",
   "execution_count": 28,
   "metadata": {},
   "outputs": [
    {
     "name": "stdout",
     "output_type": "stream",
     "text": [
      "time: 0.01671235598041676\n"
     ]
    }
   ],
   "source": [
    "# Compute time\n",
    "m = torch.Tensor(10000,400).fill_(2.0)\n",
    "\n",
    "time_t0 = time.perf_counter()\n",
    "m2 = mul_row_fast(m)\n",
    "time_t1 = time.perf_counter()\n",
    "\n",
    "time_diff = time_t1 - time_t0\n",
    "print(f'time: {time_diff}')"
   ]
  },
  {
   "cell_type": "code",
   "execution_count": null,
   "metadata": {
    "collapsed": true
   },
   "outputs": [],
   "source": []
  }
 ],
 "metadata": {
  "kernelspec": {
   "display_name": "Python 3",
   "language": "python",
   "name": "python3"
  },
  "language_info": {
   "codemirror_mode": {
    "name": "ipython",
    "version": 3
   },
   "file_extension": ".py",
   "mimetype": "text/x-python",
   "name": "python",
   "nbconvert_exporter": "python",
   "pygments_lexer": "ipython3",
   "version": "3.6.3"
  }
 },
 "nbformat": 4,
 "nbformat_minor": 2
}
