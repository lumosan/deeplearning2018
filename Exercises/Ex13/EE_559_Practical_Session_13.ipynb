{
  "nbformat": 4,
  "nbformat_minor": 0,
  "metadata": {
    "colab": {
      "name": "EE-559: Practical Session 13",
      "version": "0.3.2",
      "views": {},
      "default_view": {},
      "provenance": [
        {
          "file_id": "1p2Z2vRXCrkB57g20xG1C7qVHFQgdPGGa",
          "timestamp": 1526626146991
        }
      ],
      "collapsed_sections": [
        "JndnmDMp66FL",
        "Z1rcD2oWnQ6i"
      ],
      "toc_visible": true
    },
    "kernelspec": {
      "name": "python3",
      "display_name": "Python 3"
    },
    "accelerator": "GPU"
  },
  "cells": [
    {
      "metadata": {
        "id": "BvkIGwGFr2ci",
        "colab_type": "text"
      },
      "cell_type": "markdown",
      "source": [
        "This Colab is the practical part of the 13th Session \"From PyTorch to TensorFlow\" (guest lecture by Andreas Steiner) in François Fleuret's Deep Learning Course (https://fleuret.org/dlc)"
      ]
    },
    {
      "metadata": {
        "id": "JndnmDMp66FL",
        "colab_type": "text"
      },
      "cell_type": "markdown",
      "source": [
        "##### Copyright 2018 Google LLC.\n",
        "\n",
        "Licensed under the Apache License, Version 2.0 (the \"License\");"
      ]
    },
    {
      "metadata": {
        "id": "hMqWDc_m6rUC",
        "colab_type": "code",
        "colab": {
          "autoexec": {
            "startup": false,
            "wait_interval": 0
          }
        },
        "cellView": "code"
      },
      "cell_type": "code",
      "source": [
        "# Licensed under the Apache License, Version 2.0 (the \"License\");\n",
        "# you may not use this file except in compliance with the License.\n",
        "# You may obtain a copy of the License at\n",
        "#\n",
        "# https://www.apache.org/licenses/LICENSE-2.0\n",
        "#\n",
        "# Unless required by applicable law or agreed to in writing, software\n",
        "# distributed under the License is distributed on an \"AS IS\" BASIS,\n",
        "# WITHOUT WARRANTIES OR CONDITIONS OF ANY KIND, either express or implied.\n",
        "# See the License for the specific language governing permissions and\n",
        "# limitations under the License."
      ],
      "execution_count": 0,
      "outputs": []
    },
    {
      "metadata": {
        "id": "30vGvguDwJJN",
        "colab_type": "text"
      },
      "cell_type": "markdown",
      "source": [
        "# 1. Colab Mechanics"
      ]
    },
    {
      "metadata": {
        "id": "PuaB0JGBw6_5",
        "colab_type": "text"
      },
      "cell_type": "markdown",
      "source": [
        "Important shortcuts – **try them now**!\n",
        "\n",
        "- `<CTRL-ENTER>`  : executes current cell\n",
        "- `<SHIFT-ENTER>` : executes current cell and moves to next cell\n",
        "- `<CTRL-SHIFT-P>` : shows searchable command palette\n",
        "- `<CTRL-M> <A>` : insert cell above\n",
        "- `<CTRL-M> <B>` : append cell below\n",
        "- `<CTRL-M> <Y>` : convert cell to code\n",
        "- `<CTRL-M> <M>` : convert cell to Markdown\n",
        "- ...\n",
        "\n",
        "Note: On OS X you can use `<COMMAND>` instead of `<CTRL>`"
      ]
    },
    {
      "metadata": {
        "id": "q1s8pdeuxH_Q",
        "colab_type": "code",
        "colab": {
          "autoexec": {
            "startup": false,
            "wait_interval": 0
          }
        }
      },
      "cell_type": "code",
      "source": [
        "# Kernel : Before you can execute any code, your Colab needs to be connected\n",
        "# to a Python kernel (only the frontend runs in your browser...)\n",
        "# Colab connects to a hosted kernel automatically when you click on the\n",
        "# \"Connect\" button (top right), or when you execute a first cell.\n",
        "\n",
        "# (There is more about runtimes in the \"Bonus : runtimes\" section below...)"
      ],
      "execution_count": 0,
      "outputs": []
    },
    {
      "metadata": {
        "id": "4VXN2D6TwK6S",
        "colab_type": "code",
        "colab": {
          "autoexec": {
            "startup": false,
            "wait_interval": 0
          },
          "base_uri": "https://localhost:8080/",
          "height": 34
        },
        "outputId": "1f0ce789-553d-40d2-86f2-cc067f986857",
        "executionInfo": {
          "status": "ok",
          "timestamp": 1526658354514,
          "user_tz": 420,
          "elapsed": 680,
          "user": {
            "displayName": "Andreas Steiner",
            "photoUrl": "https://lh3.googleusercontent.com/a/default-user=s128",
            "userId": "115804658599019978174"
          }
        }
      },
      "cell_type": "code",
      "source": [
        "# So let's give it a try : execute this cell\n",
        "# ... you should see the output \"3\" (without quotation marks)\n",
        "\n",
        "1 + 2"
      ],
      "execution_count": 1,
      "outputs": [
        {
          "output_type": "execute_result",
          "data": {
            "text/plain": [
              "3"
            ]
          },
          "metadata": {
            "tags": []
          },
          "execution_count": 1
        }
      ]
    },
    {
      "metadata": {
        "id": "_rqMmYz0jObV",
        "colab_type": "code",
        "colab": {
          "autoexec": {
            "startup": false,
            "wait_interval": 0
          }
        }
      },
      "cell_type": "code",
      "source": [
        "# Note that the Python context spans the entire notebook.\n",
        "# You can define a function in this cell...\n",
        "\n",
        "def hello_world():\n",
        "  print('helle world')"
      ],
      "execution_count": 0,
      "outputs": []
    },
    {
      "metadata": {
        "id": "zloZxSy3jbBG",
        "colab_type": "code",
        "colab": {
          "autoexec": {
            "startup": false,
            "wait_interval": 0
          }
        }
      },
      "cell_type": "code",
      "source": [
        "# ... and then execute it in the next cell:\n",
        "\n",
        "hello_world()\n",
        "\n",
        "# Of course this only works if you have executed the previous cell !"
      ],
      "execution_count": 0,
      "outputs": []
    },
    {
      "metadata": {
        "id": "cuIls7DFjhO9",
        "colab_type": "code",
        "colab": {
          "autoexec": {
            "startup": false,
            "wait_interval": 0
          },
          "base_uri": "https://localhost:8080/",
          "height": 340
        },
        "outputId": "622b75fc-859b-43b5-e95d-c06320712ca3",
        "executionInfo": {
          "status": "ok",
          "timestamp": 1526658434986,
          "user_tz": 420,
          "elapsed": 3841,
          "user": {
            "displayName": "Andreas Steiner",
            "photoUrl": "https://lh3.googleusercontent.com/a/default-user=s128",
            "userId": "115804658599019978174"
          }
        }
      },
      "cell_type": "code",
      "source": [
        "# Colab also has some extra syntax, you can for example run shell\n",
        "# commands like this:\n",
        "\n",
        "! ls -lh\n",
        "! df -h\n",
        "! ps -x"
      ],
      "execution_count": 3,
      "outputs": [
        {
          "output_type": "stream",
          "text": [
            "total 4.0K\r\n",
            "drwxr-xr-x 1 root root 4.0K May 11 18:15 datalab\n",
            "Filesystem      Size  Used Avail Use% Mounted on\n",
            "overlay         359G  6.8G  334G   2% /\n",
            "tmpfs           6.4G     0  6.4G   0% /dev\n",
            "tmpfs           6.4G     0  6.4G   0% /sys/fs/cgroup\n",
            "/dev/root       1.2G  537M  684M  44% /opt/bin\n",
            "tmpfs           6.4G  248M  6.2G   4% /usr/lib64-nvidia\n",
            "/dev/sda1       365G  9.8G  356G   3% /etc/hosts\n",
            "shm              64M     0   64M   0% /dev/shm\n",
            "tmpfs           6.4G     0  6.4G   0% /sys/firmware\n",
            "  PID TTY      STAT   TIME COMMAND\n",
            "    1 ?        Ss     0:00 /bin/bash -e /datalab/run.sh\n",
            "   70 ?        Sl     0:00 node /tools/node/bin/forever --minUptime 1000 --spinS\n",
            "   80 ?        Sl     0:00 /tools/node/bin/node /datalab/web/app.js\n",
            "   90 ?        Sl     0:00 /usr/bin/python2 /usr/local/bin/jupyter-notebook -y -\n",
            "   98 ?        Ssl    0:11 /usr/bin/python3 -m ipykernel_launcher -f /content/.l\n",
            "  132 pts/0    Ss+    0:01 /bin/sh -c  ps -x\n",
            "  133 pts/0    R+     0:00 ps -x\n"
          ],
          "name": "stdout"
        }
      ]
    },
    {
      "metadata": {
        "id": "5s4gpIpCjpgI",
        "colab_type": "code",
        "colab": {
          "autoexec": {
            "startup": false,
            "wait_interval": 0
          }
        }
      },
      "cell_type": "code",
      "source": [
        "# Another special syntax is the so called \"magic commands\".\n",
        "# They are often used to do some \"cell level\" stuff, like for example directly\n",
        "# entering HTML code:\n",
        "%%html\n",
        "<marquee>Cutting-edge HTML tags :-)</marquee>"
      ],
      "execution_count": 0,
      "outputs": []
    },
    {
      "metadata": {
        "id": "NRLTsfrYkIsR",
        "colab_type": "code",
        "colab": {
          "autoexec": {
            "startup": false,
            "wait_interval": 0
          }
        }
      },
      "cell_type": "code",
      "source": [
        "# Magic commands can also be single-line statements:\n",
        "%time print('printing...')"
      ],
      "execution_count": 0,
      "outputs": []
    },
    {
      "metadata": {
        "id": "nma0R_SDkciU",
        "colab_type": "code",
        "colab": {
          "autoexec": {
            "startup": false,
            "wait_interval": 0
          }
        }
      },
      "cell_type": "code",
      "source": [
        "# Let's import some interesting libraries...\n",
        "import tensorflow as tf"
      ],
      "execution_count": 0,
      "outputs": []
    },
    {
      "metadata": {
        "id": "j_8bTQ7ekkIz",
        "colab_type": "code",
        "colab": {
          "autoexec": {
            "startup": false,
            "wait_interval": 0
          }
        }
      },
      "cell_type": "code",
      "source": [
        "# This cell is NOT A VALID STATEMENT.\n",
        "# But you can place the cursor between the parens and press <TAB>.\n",
        "# This will show you pydoc in a popover. Very useful for exploring an API...\n",
        "tf.constant()"
      ],
      "execution_count": 0,
      "outputs": []
    },
    {
      "metadata": {
        "id": "yGO1HHoHmNkg",
        "colab_type": "text"
      },
      "cell_type": "markdown",
      "source": [
        "## TOC, Folding"
      ]
    },
    {
      "metadata": {
        "id": "-ZLA4TvtmO0s",
        "colab_type": "code",
        "colab": {
          "autoexec": {
            "startup": false,
            "wait_interval": 0
          }
        }
      },
      "cell_type": "code",
      "source": [
        "# See the subtitle \"TOC, Folding\" above. See the same subtitle in the TOC to the\n",
        "# left. You can toggle folding of the current subsection with <CTRL-'>."
      ],
      "execution_count": 0,
      "outputs": []
    },
    {
      "metadata": {
        "id": "MCOZutZhmnAv",
        "colab_type": "text"
      },
      "cell_type": "markdown",
      "source": [
        "## Code Snippets"
      ]
    },
    {
      "metadata": {
        "id": "FGlpdHuImol0",
        "colab_type": "code",
        "colab": {
          "autoexec": {
            "startup": false,
            "wait_interval": 0
          }
        }
      },
      "cell_type": "code",
      "source": [
        "# Choose the tab \"Code snippets\" next to \"Table of Contents\" on the left.\n",
        "# Then search for \"torch\" and click on \"INSERT\".\n",
        "# This will paste a snippet below and executing this snippet will install\n",
        "# PyTorch on the machine running this kernel! Neat.\n",
        "\n",
        "# But please continue with TensorFlow for the other exercises ;-)\n",
        "\n",
        "# (You probably want to switch back to \"Table of Contents\" tab again.)"
      ],
      "execution_count": 0,
      "outputs": []
    },
    {
      "metadata": {
        "id": "bM5UjADP7ijg",
        "colab_type": "code",
        "colab": {
          "autoexec": {
            "startup": false,
            "wait_interval": 0
          }
        }
      },
      "cell_type": "code",
      "source": [
        "# http://pytorch.org/\n",
        "from os import path\n",
        "from wheel.pep425tags import get_abbr_impl, get_impl_ver, get_abi_tag\n",
        "platform = '{}{}-{}'.format(get_abbr_impl(), get_impl_ver(), get_abi_tag())\n",
        "\n",
        "accelerator = 'cu80' if path.exists('/opt/bin/nvidia-smi') else 'cpu'\n",
        "\n",
        "!pip install -q http://download.pytorch.org/whl/{accelerator}/torch-0.3.0.post4-{platform}-linux_x86_64.whl torchvision\n",
        "import torch"
      ],
      "execution_count": 0,
      "outputs": []
    },
    {
      "metadata": {
        "id": "Z1rcD2oWnQ6i",
        "colab_type": "text"
      },
      "cell_type": "markdown",
      "source": [
        "-> Please finish the remainder of this Colab **BEFORE unfolding this section** ...\n",
        "\n",
        "## Bonus : runtimes"
      ]
    },
    {
      "metadata": {
        "id": "sAIMalWJnXz-",
        "colab_type": "code",
        "colab": {
          "autoexec": {
            "startup": false,
            "wait_interval": 0
          }
        }
      },
      "cell_type": "code",
      "source": [
        "# You should now be connected to a default hosted Phyton 3 runtime.\n",
        "# You can switch the runtime with \"Change Runtime type\" command in the \"Runtime\"\n",
        "# menu.\n",
        "\n",
        "import sys\n",
        "sys.version"
      ],
      "execution_count": 0,
      "outputs": []
    },
    {
      "metadata": {
        "id": "GNeryMU-n7gM",
        "colab_type": "code",
        "colab": {
          "autoexec": {
            "startup": false,
            "wait_interval": 0
          }
        }
      },
      "cell_type": "code",
      "source": [
        "# Execute this cell to see files in the current directory.\n",
        "! ls -lh"
      ],
      "execution_count": 0,
      "outputs": []
    },
    {
      "metadata": {
        "id": "CYhakVCxpKTm",
        "colab_type": "code",
        "colab": {
          "autoexec": {
            "startup": false,
            "wait_interval": 0
          }
        }
      },
      "cell_type": "code",
      "source": [
        "# Generate a new timestamp file in the current directory.\n",
        "! touch $(date +%Y%m%d_%H%M%S)"
      ],
      "execution_count": 0,
      "outputs": []
    },
    {
      "metadata": {
        "id": "chBrdNSFp2hi",
        "colab_type": "code",
        "colab": {
          "autoexec": {
            "startup": false,
            "wait_interval": 0
          }
        }
      },
      "cell_type": "code",
      "source": [
        "# We can also define some variable\n",
        "foo = 'bar'"
      ],
      "execution_count": 0,
      "outputs": []
    },
    {
      "metadata": {
        "id": "EoodYqAdp5iD",
        "colab_type": "code",
        "colab": {
          "autoexec": {
            "startup": false,
            "wait_interval": 0
          }
        }
      },
      "cell_type": "code",
      "source": [
        "# And then check whether that variable is currently defined.\n",
        "'foo' in globals()"
      ],
      "execution_count": 0,
      "outputs": []
    },
    {
      "metadata": {
        "id": "BYFPwsorpz7w",
        "colab_type": "code",
        "colab": {
          "autoexec": {
            "startup": false,
            "wait_interval": 0
          }
        }
      },
      "cell_type": "code",
      "source": [
        "# Try to change runtiome type Python 2<->3 and check:\n",
        "# - Do you see the same files? Do the processes run on the same computer?\n",
        "# - Do you reset the kernel when changing the runtime?\n",
        "\n",
        "# More things to try out:\n",
        "# - What happens when you restart the runtime with \"<CTRL-M> .\" ?\n",
        "# - Do you have access to the same files in a new Colab? (File/New ...)\n",
        "# - What about state and files when you open the SAME notebook in a second tab?"
      ],
      "execution_count": 0,
      "outputs": []
    },
    {
      "metadata": {
        "id": "1dEIUWz2qJYU",
        "colab_type": "code",
        "colab": {
          "autoexec": {
            "startup": false,
            "wait_interval": 0
          }
        }
      },
      "cell_type": "code",
      "source": [
        "# Let's check our hardware configuration...\n",
        "from tensorflow.python.client import device_lib\n",
        "device_lib.list_local_devices()"
      ],
      "execution_count": 0,
      "outputs": []
    },
    {
      "metadata": {
        "id": "feBcQHVnqhr9",
        "colab_type": "code",
        "colab": {
          "autoexec": {
            "startup": false,
            "wait_interval": 0
          }
        }
      },
      "cell_type": "code",
      "source": [
        "# When changing the runtime you can select \"GPU\" !\n",
        "# - You should see a different output above.\n",
        "# - What about files and state?"
      ],
      "execution_count": 0,
      "outputs": []
    },
    {
      "metadata": {
        "id": "o0TPOWgVrDA8",
        "colab_type": "code",
        "colab": {
          "autoexec": {
            "startup": false,
            "wait_interval": 0
          }
        }
      },
      "cell_type": "code",
      "source": [
        "# You can also connect Colab to a locally running Jupyter instance. You'll need\n",
        "# to install the jupyter_http_over_ws extension.\n",
        "# See detailed instructions here:\n",
        "# https://research.google.com/colaboratory/local-runtimes.html"
      ],
      "execution_count": 0,
      "outputs": []
    },
    {
      "metadata": {
        "id": "70ZOfisBrjBe",
        "colab_type": "text"
      },
      "cell_type": "markdown",
      "source": [
        "# 2. Low-Level TensorFlow\n",
        "\n",
        "Note : This entire section is mostly copied from the AMLD workshop notebook\n",
        "[2_tf_basics](https://colab.research.google.com/github/andsteing/workshops/blob/master/extras/amld/notebooks/exercises/2_tf_basics.ipynb)."
      ]
    },
    {
      "metadata": {
        "id": "9eJjQ5KFxOAp",
        "colab_type": "code",
        "colab": {
          "autoexec": {
            "startup": false,
            "wait_interval": 0
          }
        }
      },
      "cell_type": "code",
      "source": [
        "from __future__ import division, print_function\n",
        "\n",
        "import tensorflow as tf\n",
        "# Always make sure you are using running the expected version.\n",
        "# There are considerable differences between versions...\n",
        "# Tested with 1.7.0\n",
        "tf.__version__"
      ],
      "execution_count": 0,
      "outputs": []
    },
    {
      "metadata": {
        "id": "RH3jdFIkxOAv",
        "colab_type": "text"
      },
      "cell_type": "markdown",
      "source": [
        "#### The Graph\n",
        "\n",
        "Most important concept with Tensorflow : There is a Graph to which\n",
        "tensors are attached. This graph is never specified explicitly but\n",
        "has important consequences for the tensors that are attached to it\n",
        "(e.g. you cannot connect two tensors that are in different graphs).\n",
        "\n",
        "The python variable \"tensor\" is simply a reference to the actual\n",
        "tensor in the Graph. More precisely, it is a reference to an operation\n",
        "that will produce a tensor (in the Tensorflow Graph, the nodes are\n",
        "actually operations and the tensors \"flow\" on the edges between\n",
        "the nodes...)"
      ]
    },
    {
      "metadata": {
        "id": "ZxnQp6q0xOAw",
        "colab_type": "code",
        "colab": {
          "autoexec": {
            "startup": false,
            "wait_interval": 0
          }
        }
      },
      "cell_type": "code",
      "source": [
        "# There is always a \"graph\" even if you haven't defined one.\n",
        "tf.get_default_graph()"
      ],
      "execution_count": 0,
      "outputs": []
    },
    {
      "metadata": {
        "id": "R-1h4d4axOAz",
        "colab_type": "code",
        "colab": {
          "autoexec": {
            "startup": false,
            "wait_interval": 0
          }
        }
      },
      "cell_type": "code",
      "source": [
        "# Store the default graph in a variable for exploration.\n",
        "graph = tf.get_default_graph()"
      ],
      "execution_count": 0,
      "outputs": []
    },
    {
      "metadata": {
        "id": "ySQ7SNTVxOA1",
        "colab_type": "code",
        "colab": {
          "autoexec": {
            "startup": false,
            "wait_interval": 0
          }
        }
      },
      "cell_type": "code",
      "source": [
        "# Ok let's try to get all \"operations\" that are currently defined in this\n",
        "# default graph.\n",
        "# Remember : Placing the caret at the end of the line and typing <tab> will\n",
        "# show an auto-completed list of methods...\n",
        "graph.get_\n"
      ],
      "execution_count": 0,
      "outputs": []
    },
    {
      "metadata": {
        "id": "Ab9ySQ2zxOA5",
        "colab_type": "code",
        "colab": {
          "autoexec": {
            "startup": false,
            "wait_interval": 0
          }
        }
      },
      "cell_type": "code",
      "source": [
        "# Let's create a separate graph:\n",
        "graph2 = tf.Graph()\n",
        "\n",
        "# Try to predict what these statements will output.\n",
        "print(tf.get_default_graph() == graph)\n",
        "print(tf.get_default_graph() == graph2)\n",
        "with graph2.as_default():\n",
        "    print(tf.get_default_graph() == graph)\n",
        "    print(tf.get_default_graph() == graph2)"
      ],
      "execution_count": 0,
      "outputs": []
    },
    {
      "metadata": {
        "id": "ulxaFHDyxOA8",
        "colab_type": "code",
        "colab": {
          "autoexec": {
            "startup": false,
            "wait_interval": 0
          }
        }
      },
      "cell_type": "code",
      "source": [
        "# We define our first TENSOR. Fill in your favourite numbers\n",
        "# You can find documentation to this function here:\n",
        "# https://www.tensorflow.org/versions/master/api_docs/python/tf/constant\n",
        "\n",
        "# Try to change data type and shape of the tensor...\n",
        "\n",
        "favorite_numbers = tf.constant([13, 22, 83])\n",
        "\n",
        "print(favorite_numbers)\n",
        "\n",
        "# (Note that this only prints the \"properties\" of the tensor\n",
        "# and not its actual value -- more about this strange behavior\n",
        "# in the section \"The Session\".)"
      ],
      "execution_count": 0,
      "outputs": []
    },
    {
      "metadata": {
        "id": "UkMXRxeKxOA_",
        "colab_type": "code",
        "colab": {
          "autoexec": {
            "startup": false,
            "wait_interval": 0
          }
        }
      },
      "cell_type": "code",
      "source": [
        "# Remember that graph that is always in the background? All the\n",
        "# tensors that you defined above have been duefully attached to the\n",
        "# graph by Tensorflow -- check this out:\n",
        "# (Also note how the operations are named by default)\n",
        "\n",
        "graph.get_operations()  # Show graph operations."
      ],
      "execution_count": 0,
      "outputs": []
    },
    {
      "metadata": {
        "id": "ohfBUsFgxOBC",
        "colab_type": "code",
        "colab": {
          "autoexec": {
            "startup": false,
            "wait_interval": 0
          }
        }
      },
      "cell_type": "code",
      "source": [
        "# Note that above are the OPERATIONS that are the nodes in the\n",
        "# graph (in our the case the \"Const\" operation creates a constant\n",
        "# tensor). The tensors themselves are the EDGES between the nodes,\n",
        "# and their name is usually the operation's name + \":0\".\n",
        "favorite_numbers.name"
      ],
      "execution_count": 0,
      "outputs": []
    },
    {
      "metadata": {
        "id": "2nGYfTenxOBF",
        "colab_type": "code",
        "colab": {
          "autoexec": {
            "startup": false,
            "wait_interval": 0
          }
        }
      },
      "cell_type": "code",
      "source": [
        "# Let's say we want to clean up our experimental mess...\n",
        "# Search on Tensorflow homepage for a command to \"reset\" the graph:\n",
        "# https://www.tensorflow.org/api_docs/\n",
        "\n",
        "# YOUR ACTION REQUIRED:\n",
        "# Find the right Tensorflow command to reset the graph.\n",
        "tf.\n",
        "tf.get_default_graph().get_operations()"
      ],
      "execution_count": 0,
      "outputs": []
    },
    {
      "metadata": {
        "id": "snGe8-AYxOBJ",
        "colab_type": "code",
        "colab": {
          "autoexec": {
            "startup": false,
            "wait_interval": 0
          }
        }
      },
      "cell_type": "code",
      "source": [
        "# Important note: \"resetting\" didn't clear our original graph but\n",
        "# rather replace it with a new graph:\n",
        "tf.get_default_graph() == graph"
      ],
      "execution_count": 0,
      "outputs": []
    },
    {
      "metadata": {
        "id": "lCuLWaz3xOBN",
        "colab_type": "code",
        "colab": {
          "autoexec": {
            "startup": false,
            "wait_interval": 0
          }
        }
      },
      "cell_type": "code",
      "source": [
        "# Because we cannot define operations across graphs, we need to\n",
        "# redefine our favorite numbers in the context of the new\n",
        "# graph:\n",
        "\n",
        "favorite_numbers = tf.constant([13, 22, 83])"
      ],
      "execution_count": 0,
      "outputs": []
    },
    {
      "metadata": {
        "id": "gMtLdjN3xOBQ",
        "colab_type": "code",
        "colab": {
          "autoexec": {
            "startup": false,
            "wait_interval": 0
          }
        }
      },
      "cell_type": "code",
      "source": [
        "# Now let's do some computations. Actually we don't really execute\n",
        "# any computation yet (see next section \"The Session\" for that), but\n",
        "# rather define how we intend to do computation later on...\n",
        "\n",
        "# We first multiply our favorite numbers with our favorite multiplier:\n",
        "favorite_multiplier = tf.constant(7)\n",
        "# Do you have an idea how to write below multiplication more succinctly?\n",
        "# Try it! (Hint: operator overloading)\n",
        "favorite_products = tf.multiply(favorite_multiplier, favorite_numbers)\n",
        "print('favorite_products.shape=', favorite_products.shape)\n",
        "\n",
        "# Now we want to add up all the favorite products to a single scalar\n",
        "# (0-dim tensor).\n",
        "# There is a Tensorflow function for this. It starts with \"reduce\"...\n",
        "# (Use <tab> auto-completion and/or tensorflow documentation)\n",
        "# YOUR ACTION REQUIRED:\n",
        "# Find the correct Tensorflow command to sum up the numbers.\n",
        "favorite_sum = tf.\n",
        "print('favorite_sum.shape=', favorite_sum.shape)"
      ],
      "execution_count": 0,
      "outputs": []
    },
    {
      "metadata": {
        "id": "l_CdnD1bxOBU",
        "colab_type": "code",
        "colab": {
          "autoexec": {
            "startup": false,
            "wait_interval": 0
          }
        }
      },
      "cell_type": "code",
      "source": [
        "# Because we really like our \"first\" favorite number we add this number\n",
        "# again to the sum:\n",
        "\n",
        "favorite_sum_enhanced = favorite_sum + favorite_numbers[0]\n",
        "# See how we used Python's overloaded \"+\" and \"[]\" operators?\n",
        "\n",
        "# You could also define the same computation using Tensorflow\n",
        "# functions only:\n",
        "# favorite_sum_enhanced = tf.add(favorite_sum, tf.slice(favorite_numbers, [0], [1]))"
      ],
      "execution_count": 0,
      "outputs": []
    },
    {
      "metadata": {
        "id": "7gjdxz22xOBY",
        "colab_type": "code",
        "colab": {
          "autoexec": {
            "startup": false,
            "wait_interval": 0
          }
        }
      },
      "cell_type": "code",
      "source": [
        "# Of course, it's good practice to avoid a global invisible graph, and\n",
        "# you can use a Python \"with\" block to explicitly specify the graph for\n",
        "# a codeblock:\n",
        "with tf.Graph().as_default():\n",
        "    within_with = tf.constant([1, 2, 3], name='within_with')\n",
        "    print('within with:')\n",
        "    print(tf.get_default_graph())\n",
        "    print(within_with)\n",
        "    print(tf.get_default_graph().get_operations())\n",
        "print('\\noutside with:')\n",
        "print(tf.get_default_graph())\n",
        "print(within_with)\n",
        "print(tf.get_default_graph().get_operations())\n",
        "\n",
        "# You can execute this cell multiple times without messing up any graph.\n",
        "# Note that you won't be able to connect the tensor to other tensors\n",
        "# because we didn't store a reference to the graph of the with statement."
      ],
      "execution_count": 0,
      "outputs": []
    },
    {
      "metadata": {
        "id": "Ovc8DfZOxOBd",
        "colab_type": "code",
        "colab": {
          "autoexec": {
            "startup": false,
            "wait_interval": 0
          }
        }
      },
      "cell_type": "code",
      "source": [
        "# Note : Tested with Chrome 66 -- might not work with all browsers :-(\n",
        "\n",
        "# Let's visualize our graph!\n",
        "# Tip: to make your graph more readable you can add a\n",
        "# name=\"...\" parameter to the individual Ops.\n",
        "\n",
        "# src: https://github.com/tensorflow/tensorflow/blob/master/tensorflow/examples/tutorials/deepdream/deepdream.ipynb\n",
        "\n",
        "import numpy as np\n",
        "import tensorflow as tf\n",
        "from IPython.display import clear_output, Image, display, HTML\n",
        "\n",
        "def strip_consts(graph_def, max_const_size=32):\n",
        "    \"\"\"Strip large constant values from graph_def.\"\"\"\n",
        "    strip_def = tf.GraphDef()\n",
        "    for n0 in graph_def.node:\n",
        "        n = strip_def.node.add() \n",
        "        n.MergeFrom(n0)\n",
        "        if n.op == 'Const':\n",
        "            tensor = n.attr['value'].tensor\n",
        "            size = len(tensor.tensor_content)\n",
        "            if size > max_const_size:\n",
        "                tensor.tensor_content = \"<stripped %d bytes>\"%size\n",
        "    return strip_def\n",
        "\n",
        "def show_graph(graph_def, max_const_size=32):\n",
        "    \"\"\"Visualize TensorFlow graph.\"\"\"\n",
        "    if hasattr(graph_def, 'as_graph_def'):\n",
        "        graph_def = graph_def.as_graph_def()\n",
        "    strip_def = strip_consts(graph_def, max_const_size=max_const_size)\n",
        "    code = \"\"\"\n",
        "        <script>\n",
        "          function load() {{\n",
        "            document.getElementById(\"{id}\").pbtxt = {data};\n",
        "          }}\n",
        "        </script>\n",
        "        <link rel=\"import\" href=\"https://tensorboard.appspot.com/tf-graph-basic.build.html\" onload=load()>\n",
        "        <div style=\"height:600px\">\n",
        "          <tf-graph-basic id=\"{id}\"></tf-graph-basic>\n",
        "        </div>\n",
        "    \"\"\".format(data=repr(str(strip_def)), id='graph'+str(np.random.rand()))\n",
        "\n",
        "    iframe = \"\"\"\n",
        "        <iframe seamless style=\"width:1200px;height:620px;border:0\" srcdoc=\"{}\"></iframe>\n",
        "    \"\"\".format(code.replace('\"', '&quot;'))\n",
        "    display(HTML(iframe))"
      ],
      "execution_count": 0,
      "outputs": []
    },
    {
      "metadata": {
        "id": "PhyYTO6xxOBg",
        "colab_type": "code",
        "colab": {
          "autoexec": {
            "startup": false,
            "wait_interval": 0
          }
        }
      },
      "cell_type": "code",
      "source": [
        "show_graph(tf.get_default_graph())"
      ],
      "execution_count": 0,
      "outputs": []
    },
    {
      "metadata": {
        "id": "TeiG9THKxOBk",
        "colab_type": "text"
      },
      "cell_type": "markdown",
      "source": [
        "## The Session\n",
        "\n",
        "So far we have only setup our computational Graph -- If you want to actually\n",
        "*do* any computations, you need to attach the graph to a Session."
      ]
    },
    {
      "metadata": {
        "id": "V71TTQs4xOBm",
        "colab_type": "code",
        "colab": {
          "autoexec": {
            "startup": false,
            "wait_interval": 0
          }
        }
      },
      "cell_type": "code",
      "source": [
        "# The only difference to a \"normal\" session is that the interactive\n",
        "# session registers itself as default so .eval() and .run() methods\n",
        "# know which session to use...\n",
        "interactive_session = tf.InteractiveSession()"
      ],
      "execution_count": 0,
      "outputs": []
    },
    {
      "metadata": {
        "id": "U10ozP51xOBs",
        "colab_type": "code",
        "colab": {
          "autoexec": {
            "startup": false,
            "wait_interval": 0
          }
        }
      },
      "cell_type": "code",
      "source": [
        "# Hooray -- try printing other tensors of above to see the intermediate\n",
        "# steps. What is their type and shape ?\n",
        "print(favorite_sum.eval())"
      ],
      "execution_count": 0,
      "outputs": []
    },
    {
      "metadata": {
        "id": "iH1OyWxSxOBw",
        "colab_type": "code",
        "colab": {
          "autoexec": {
            "startup": false,
            "wait_interval": 0
          }
        }
      },
      "cell_type": "code",
      "source": [
        "# Note that the session is also connected to a Graph, and if no Graph\n",
        "# is specified then it will connect to the default Graph. Try to fix\n",
        "# the following code snippet:\n",
        "\n",
        "graph2 = tf.Graph()\n",
        "with graph2.as_default():\n",
        "    graph2_tensor = tf.constant([1])\n",
        "with tf.Session() as sess:\n",
        "    print(graph2_tensor.eval())"
      ],
      "execution_count": 0,
      "outputs": []
    },
    {
      "metadata": {
        "id": "ydbeO2boxOBz",
        "colab_type": "code",
        "colab": {
          "autoexec": {
            "startup": false,
            "wait_interval": 0
          }
        }
      },
      "cell_type": "code",
      "source": [
        "# Providing input to the graph: The value of any tensor can be overwritten\n",
        "# by the \"feed_dict\" parameter provided to Session's run() method:\n",
        "a = tf.constant(1)\n",
        "b = tf.constant(2)\n",
        "a_plus_b = tf.add(a, b)\n",
        "print(interactive_session.run(a_plus_b))\n",
        "print(interactive_session.run(a_plus_b, feed_dict={a: 123000, b:456}))"
      ],
      "execution_count": 0,
      "outputs": []
    },
    {
      "metadata": {
        "id": "8TVilx6pxOB8",
        "colab_type": "code",
        "colab": {
          "autoexec": {
            "startup": false,
            "wait_interval": 0
          }
        }
      },
      "cell_type": "code",
      "source": [
        "# It's good practice not to override just any tensor in the graph, but to\n",
        "# rather use \"tf.placeholder\" that indicates that this tensor must be\n",
        "# provided through the feed_dict:\n",
        "placeholder = tf.placeholder(tf.int32)\n",
        "placeholder_double = 2 * placeholder\n",
        "# YOUR ACTION REQUIRED:\n",
        "# Modify below command to make it work.\n",
        "placeholder_double.eval()\n"
      ],
      "execution_count": 0,
      "outputs": []
    },
    {
      "metadata": {
        "id": "VdFM1-rNxOB-",
        "colab_type": "text"
      },
      "cell_type": "markdown",
      "source": [
        "## The Shapes\n",
        "\n",
        "Another basic skill with Tensorflow is the handling of shapes. This\n",
        "sounds pretty simple but you will be surprised by how much time of\n",
        "your Tensorflow coding you will spend on massaging Tensors in the\n",
        "right form...\n",
        "\n",
        "Here we go with a couple of exercises with increasing difficulty...\n",
        "\n",
        "Please refer to the Tensorflow documentation\n",
        "[Tensor Transformations](https://www.tensorflow.org/versions/master/api_guides/python/array_ops#Shapes_and_Shaping)\n",
        "for useful functions."
      ]
    },
    {
      "metadata": {
        "id": "aXNhbHlfxOB-",
        "colab_type": "code",
        "colab": {
          "autoexec": {
            "startup": false,
            "wait_interval": 0
          }
        }
      },
      "cell_type": "code",
      "source": [
        "tensor12 = tf.constant([1, 2, 3, 4, 5, 6, 7, 8, 9, 10, 11, 12])\n",
        "print(tensor12)\n",
        "batch = tf.placeholder(tf.int32, shape=[None, 3])\n",
        "print(batch)"
      ],
      "execution_count": 0,
      "outputs": []
    },
    {
      "metadata": {
        "id": "hNwBPobqxOCB",
        "colab_type": "code",
        "colab": {
          "autoexec": {
            "startup": false,
            "wait_interval": 0
          }
        }
      },
      "cell_type": "code",
      "source": [
        "# Tensor must be of same datatype. Try to change the datatype\n",
        "# of one of the tensors to fix the ValueError...\n",
        "multiplier = tf.constant(1.5)\n",
        "# YOUR ACTION REQUIRED:\n",
        "# Fix error below.\n",
        "tensor12 * multiplier\n"
      ],
      "execution_count": 0,
      "outputs": []
    },
    {
      "metadata": {
        "id": "oMZlSGNIxOCF",
        "colab_type": "code",
        "colab": {
          "autoexec": {
            "startup": false,
            "wait_interval": 0
          }
        }
      },
      "cell_type": "code",
      "source": [
        "# What does tf.squeeze() do? Try it out on tensor12_3!\n",
        "tensor12_3 = tf.reshape(tensor12, [3, 2, 2, 1])\n",
        "# YOUR ACTION REQUIRED:\n",
        "# Checkout the effects of tf.squeeze()\n",
        "tensor12_3.shape\n"
      ],
      "execution_count": 0,
      "outputs": []
    },
    {
      "metadata": {
        "id": "-0whr-HkxOCI",
        "colab_type": "code",
        "colab": {
          "autoexec": {
            "startup": false,
            "wait_interval": 0
          }
        }
      },
      "cell_type": "code",
      "source": [
        "# This cell is about accessing individual elements of a 2D tensor:\n",
        "batch = tf.constant([[1, 2, 3, 0, 0],\n",
        "                     [2, 4, 6, 8, 0],\n",
        "                     [3, 6, 0, 0, 0]])\n",
        "# Note that individual elements have lengths < batch.shape[1] but\n",
        "# are zero padded.\n",
        "lengths = tf.constant([3, 4, 2])\n",
        "\n",
        "# The FIRST elements can be accessed by using Python's\n",
        "# overloaded bracket indexing OR the related tf.slice():\n",
        "print('first elements:')\n",
        "print(batch[:, 0].eval())\n",
        "print(tf.slice(batch, [0, 0], [3, 1]).eval())"
      ],
      "execution_count": 0,
      "outputs": []
    },
    {
      "metadata": {
        "id": "8LlbAaQOxOCM",
        "colab_type": "code",
        "colab": {
          "autoexec": {
            "startup": false,
            "wait_interval": 0
          }
        }
      },
      "cell_type": "code",
      "source": [
        "# Accessing the LAST (non-padded) element within every sequence is\n",
        "# somewhat more involved -- you need to specify both the indices in\n",
        "# the first and the second dimension and then use tf.gather_nd():\n",
        "# YOUR ACTION REQUIRED:\n",
        "# Define provide the correct expression for indices_0 and indices_1.\n",
        "indices_0 =\n",
        "indices_1 =\n",
        "print('last elements:')\n",
        "print(tf.gather_nd(batch, tf.transpose([indices_0, indices_1])).eval())"
      ],
      "execution_count": 0,
      "outputs": []
    },
    {
      "metadata": {
        "id": "lWMMeVxJxOCV",
        "colab_type": "code",
        "colab": {
          "autoexec": {
            "startup": false,
            "wait_interval": 0
          }
        }
      },
      "cell_type": "code",
      "source": [
        "# Below you have an integer tensor and then an expression that is set True\n",
        "# for all elements that are odd. Try to print those elements using the\n",
        "# operations tf.where() and tf.gather()\n",
        "numbers = tf.range(1, 11)\n",
        "odd_condition = tf.logical_not(tf.equal(0, tf.mod(numbers, 2)))\n",
        "# YOUR ACTION REQUIRED:\n",
        "# Define provide the correct expression for odd_indices and odd_numbers.\n",
        "odd_indices =\n",
        "odd_numbers =\n",
        "odd_numbers.eval()"
      ],
      "execution_count": 0,
      "outputs": []
    },
    {
      "metadata": {
        "id": "vYvL40zZxOCY",
        "colab_type": "code",
        "colab": {
          "autoexec": {
            "startup": false,
            "wait_interval": 0
          }
        }
      },
      "cell_type": "code",
      "source": [
        "# \"Dynamic shapes\" : This feature is mainly used for variable size batches.\n",
        "# \"Dynamic\" means that one (or multiple) dimensions are not specified\n",
        "# before graph execution time (when running the graph with a session).\n",
        "batch_of_pairs = tf.placeholder(dtype=tf.int32, shape=(None, 2))\n",
        "\n",
        "# Note how the \"unknown\" dimension displays as a \"?\".\n",
        "batch_of_pairs"
      ],
      "execution_count": 0,
      "outputs": []
    },
    {
      "metadata": {
        "id": "beFeXpHDxOCb",
        "colab_type": "code",
        "colab": {
          "autoexec": {
            "startup": false,
            "wait_interval": 0
          }
        }
      },
      "cell_type": "code",
      "source": [
        "# So we want to reshape the batch of pairs into a batch of quadruples.\n",
        "# Since we don't know the batch size at runtime we will use the special\n",
        "# value \"-1\" (meaning \"as many as needed\") for the first dimension.\n",
        "# (Note that this wouldn't work for batch_of_triplets.)\n",
        "# YOUR ACTION REQUIRED:\n",
        "# Complete next line.\n",
        "batch_of_quadruples = tf.reshape(batch_of_pairs, \n",
        "\n",
        "# Test run our batch of quadruples:\n",
        "batch_of_quadruples.eval(feed_dict={\n",
        "    batch_of_pairs: [[1,2], [3,4], [5,6], [7,8]]})"
      ],
      "execution_count": 0,
      "outputs": []
    },
    {
      "metadata": {
        "id": "0VDQ2caRxOCd",
        "colab_type": "code",
        "colab": {
          "autoexec": {
            "startup": false,
            "wait_interval": 0
          }
        }
      },
      "cell_type": "code",
      "source": [
        "# Dynamic shapes cannot be accessed at graph construction time;\n",
        "# accessing the \".shape\" attribute (which is equivalent to the\n",
        "# .get_shape() method) will return a \"TensorShape\" with \"Dimension(None)\".\n",
        "batch_of_pairs.shape\n",
        "\n",
        "# i.e. .shape is a property of every tensor that can contain\n",
        "# values that are not specified -- Dimension(None)"
      ],
      "execution_count": 0,
      "outputs": []
    },
    {
      "metadata": {
        "id": "5pdeSJQ6xOCf",
        "colab_type": "code",
        "colab": {
          "autoexec": {
            "startup": false,
            "wait_interval": 0
          }
        }
      },
      "cell_type": "code",
      "source": [
        "# i.e. first dimension is dynamic and only known at runtime\n",
        "batch_of_pairs.shape[0].value == None"
      ],
      "execution_count": 0,
      "outputs": []
    },
    {
      "metadata": {
        "id": "zQUBg8yAxOCj",
        "colab_type": "code",
        "colab": {
          "autoexec": {
            "startup": false,
            "wait_interval": 0
          }
        }
      },
      "cell_type": "code",
      "source": [
        "# The actual dimensions can only be determined at runtime\n",
        "# by calling tf.shape() -- the output of the tf.shape() Op\n",
        "# is a tensor like any other tensor whose value is only known\n",
        "# at runtime (when also all dynamic shapes are known).\n",
        "batch_of_pairs_shape = tf.shape(batch_of_pairs)\n",
        "batch_of_pairs_shape.eval(feed_dict={\n",
        "    batch_of_pairs: [[1, 2]]\n",
        "})\n",
        "\n",
        "# i.e. tf.shape() is an Op that takes a tensor (that might have\n",
        "# a dynamic shape or not) as input and outputs another tensor\n",
        "# that fully specifies the shape of the input tensor."
      ],
      "execution_count": 0,
      "outputs": []
    },
    {
      "metadata": {
        "id": "joMpXIKHxOCl",
        "colab_type": "code",
        "colab": {
          "autoexec": {
            "startup": false,
            "wait_interval": 0
          }
        }
      },
      "cell_type": "code",
      "source": [
        "# So you think shapes are easy, right?\n",
        "# Well... Then here we go with a real-world shape challenge!\n",
        "#\n",
        "# (You probably won't have time to finish this challenge during\n",
        "# the workshop; come back to this later and don't feel bad about\n",
        "# consulting the solution...)\n",
        "#\n",
        "# Imagine you have a recurrent neural network that outputs a \"sequence\"\n",
        "# tensor with dimension [?, max_len, ?], where\n",
        "# - the first (dynamic) dimension is the number of elements in the batch\n",
        "# - the second dimension is the maximum sequence length\n",
        "# - the third (dynamic) dimension is the number of number per element\n",
        "#\n",
        "# The actual length of every sequence in the batch (<= max_len) is also\n",
        "# specified in the tensor \"lens\" (length=number of elements in batch).\n",
        "#\n",
        "# The task at hand is to extract the \"nth\" element of every sequence.\n",
        "# The resulting tensor \"last_elements\" should have the shape [?, ?],\n",
        "# matching the first and third dimension of tensor \"sequence\".\n",
        "#\n",
        "# Hint: The idea is to reshape the \"sequence\" to \"partially_flattened\"\n",
        "# and then construct a \"idxs\" tensor (within this partially flattened\n",
        "# tensor) that returns the requested elements.\n",
        "#\n",
        "# Handy functions:\n",
        "# tf.gather()\n",
        "# tf.range()\n",
        "# tf.reshape()\n",
        "# tf.shape()\n",
        "\n",
        "lens = tf.placeholder(dtype=tf.int32, shape=(None,))\n",
        "max_len = 5\n",
        "sequences = tf.placeholder(dtype=tf.int32, shape=(None, max_len, None))\n",
        "# YOUR ACTION REQUIRED:\n",
        "# Find the correct expression for below tensors.\n",
        "batch_size = \n",
        "hidden_state_size = \n",
        "idxs = \n",
        "partially_flattened =\n",
        "last_elements =\n",
        "\n",
        "sequences_data = [\n",
        "    [[1,1], [1,1], [2,2], [0,0], [0,0]],\n",
        "    [[1,1], [1,1], [1,1], [3,3], [0,0]],\n",
        "    [[1,1], [1,1], [1,1], [1,1], [4,4]],\n",
        "]\n",
        "lens_data = [3, 4, 5]\n",
        "# Should output [[2,2], [3,3], [4,4]]\n",
        "last_elements.eval(feed_dict={sequences: sequences_data, lens: lens_data})"
      ],
      "execution_count": 0,
      "outputs": []
    },
    {
      "metadata": {
        "id": "sI4ihVQexOCp",
        "colab_type": "text"
      },
      "cell_type": "markdown",
      "source": [
        "## Variables\n",
        "\n",
        "So far all our computations have been purely stateless. Obviously,\n",
        "programming become much more fun once we add some state to our code...\n",
        "Tensorflow's **variables** encode state that persists between calls to\n",
        "`Session.run()`.\n",
        "\n",
        "The confusion with Tensorflow and variables comes from the fact that we\n",
        "usually \"execute\" the graph from within Python by running some nodes of\n",
        "the graph -- via `Session.run()` -- and that variable assignments are also\n",
        "encoded through nodes in the graph that only get executed if we ask the\n",
        "value of one of its descendants (see explanatory code below).\n",
        "\n",
        "Tensorflow's overview of\n",
        "[variable related functions](https://www.tensorflow.org/versions/r1.0/api_guides/python/state_ops#Variables),\n",
        "the\n",
        "[variable HOWTO](https://www.tensorflow.org/versions/r1.0/programmers_guide/variables),\n",
        "and the\n",
        "[variable guide](https://www.tensorflow.org/programmers_guide/variables).\n",
        "\n",
        "And finally some notes on [sharing variables](https://www.tensorflow.org/api_guides/python/state_ops#Sharing_Variables)."
      ]
    },
    {
      "metadata": {
        "id": "6DE0SLuGxOCq",
        "colab_type": "code",
        "colab": {
          "autoexec": {
            "startup": false,
            "wait_interval": 0
          }
        }
      },
      "cell_type": "code",
      "source": [
        "counter = tf.Variable(0)\n",
        "increment_counter = tf.assign_add(counter, 1)\n",
        "with tf.Session() as sess:\n",
        "    # Something is missing here...\n",
        "    # -> Search the world wide web for the error message...\n",
        "    # YOUR ACTION REQUIRED:\n",
        "    # Add a statement that fixes the error.\n",
        "\n",
        "    print(increment_counter.eval())\n",
        "    print(increment_counter.eval())\n",
        "    print(increment_counter.eval())"
      ],
      "execution_count": 0,
      "outputs": []
    },
    {
      "metadata": {
        "id": "IYNOLm6LxOCu",
        "colab_type": "code",
        "colab": {
          "autoexec": {
            "startup": false,
            "wait_interval": 0
          }
        }
      },
      "cell_type": "code",
      "source": [
        "# Same conditions apply when we use our global interactive session...\n",
        "interactive_session.run([tf.global_variables_initializer()])\n",
        "increment_counter.eval()"
      ],
      "execution_count": 0,
      "outputs": []
    },
    {
      "metadata": {
        "id": "tBMRBEJexOCx",
        "colab_type": "code",
        "colab": {
          "autoexec": {
            "startup": false,
            "wait_interval": 0
          }
        }
      },
      "cell_type": "code",
      "source": [
        "# Execute this cell multiple times and note how our global interactive\n",
        "# sessions keeps state between cell executions.\n",
        "increment_counter.eval()"
      ],
      "execution_count": 0,
      "outputs": []
    },
    {
      "metadata": {
        "id": "NVf_gyhgxOC1",
        "colab_type": "code",
        "colab": {
          "autoexec": {
            "startup": false,
            "wait_interval": 0
          }
        }
      },
      "cell_type": "code",
      "source": [
        "# Usually you would create variables with tf.get_variable() which makes\n",
        "# it possible to \"look up\" variables later on.\n",
        "\n",
        "# For a change let's not try to fix a code snippet but rather to make it\n",
        "# fail:\n",
        "# 1. What happens if the block is not wrapped in a tf.Graph()?\n",
        "# 2. What happens if reuse= is not set?\n",
        "# 3. What happens if dtype= is not set?\n",
        "\n",
        "with tf.Graph().as_default():\n",
        "    with tf.variable_scope('counters'):\n",
        "        counter1 = tf.get_variable('counter1', initializer=1)\n",
        "        counter2 = tf.get_variable('counter2', initializer=2)\n",
        "        counter3 = tf.get_variable('counter3', initializer=3)\n",
        "    with tf.Session() as sess:\n",
        "        sess.run([tf.global_variables_initializer()])\n",
        "        print(counter1.eval())\n",
        "        with tf.variable_scope('counters', reuse=True):\n",
        "            print(tf.get_variable('counter2', dtype=tf.int32).eval())"
      ],
      "execution_count": 0,
      "outputs": []
    },
    {
      "metadata": {
        "id": "Gbf9VCmHroSS",
        "colab_type": "text"
      },
      "cell_type": "markdown",
      "source": [
        "# 3. MNIST CodeJam\n",
        "\n",
        "Refer back to the lecture accompanying Colab (https://goo.gl/xYKeWD) for a simple working example. It's fine to copy the code from \"putting it all together\", but you should play around with it to make sure you understand everything completely.\n",
        "\n",
        "Recommended next steps:\n",
        "- Add some plotting of loss/accuracy (train/test) over time.\n",
        "- Implement a model using convolutions using the following helpers : tf.layers.conv2d(), tf.layers.max_pooling2d(), tf.layers.dense().\n",
        "- You can get inspiration from https://www.tensorflow.org/tutorials/layers\n",
        "- Compare the difference in runtime when using a GPU (\"Change Runtime Type\" in the \"Runtime\" menu).\n",
        "- Implement the same model using Keras (you probably need to restart the kernel for this).\n",
        "- Implement the same model using Eager (you need to restart the kernel for this)."
      ]
    },
    {
      "metadata": {
        "id": "-f0cVygdBzZi",
        "colab_type": "code",
        "colab": {
          "autoexec": {
            "startup": false,
            "wait_interval": 0
          }
        }
      },
      "cell_type": "code",
      "source": [
        "import tensorflow as tf\n",
        "print (tf.__version__)\n",
        "\n",
        "from tensorflow.python.client import device_lib\n",
        "device_lib.list_local_devices()"
      ],
      "execution_count": 0,
      "outputs": []
    },
    {
      "metadata": {
        "id": "RJ2aHBLa5jHF",
        "colab_type": "code",
        "colab": {
          "autoexec": {
            "startup": false,
            "wait_interval": 0
          }
        }
      },
      "cell_type": "code",
      "source": [
        "# Download MNIST data.\n",
        "from tensorflow.examples.tutorials.mnist import input_data\n",
        "mnist = input_data.read_data_sets(\"MNIST_data/\", one_hot=True)"
      ],
      "execution_count": 0,
      "outputs": []
    },
    {
      "metadata": {
        "id": "ILm2xyrrKrkc",
        "colab_type": "code",
        "colab": {
          "autoexec": {
            "startup": false,
            "wait_interval": 0
          }
        }
      },
      "cell_type": "code",
      "source": [
        "# ~~ YOUR TURN ~~"
      ],
      "execution_count": 0,
      "outputs": []
    }
  ]
}