{
 "cells": [
  {
   "cell_type": "code",
   "execution_count": 1,
   "metadata": {
    "collapsed": true
   },
   "outputs": [],
   "source": [
    "import torch\n",
    "from torch import Tensor\n",
    "import numpy as np"
   ]
  },
  {
   "cell_type": "markdown",
   "metadata": {},
   "source": [
    "#### Modules"
   ]
  },
  {
   "cell_type": "code",
   "execution_count": 2,
   "metadata": {
    "collapsed": true
   },
   "outputs": [],
   "source": [
    "class Module(object):\n",
    "    def forward(self, *input):\n",
    "        raise NotImplementedError\n",
    "    def backward(self, *gradwrtoutput):\n",
    "        raise NotImplementedError\n",
    "    def param(self):\n",
    "        return []\n",
    "    def update(self, lr=None):\n",
    "        pass"
   ]
  },
  {
   "cell_type": "code",
   "execution_count": 3,
   "metadata": {
    "collapsed": true
   },
   "outputs": [],
   "source": [
    "class Linear(Module):\n",
    "    \"\"\"Implements the fully connected layer module\n",
    "    \n",
    "    It requires the number of inputs and outputs.\n",
    "\n",
    "    Weights are initialized assuming that a ReLU module\n",
    "    will be used afterwards. If a Tanh module will be used\n",
    "    instead, it is recommended to set\n",
    "    std_w = 1 / np.sqrt(n_input)\n",
    "    \n",
    "    It is possible to set a default learning rate that will be used\n",
    "    during backpropagation if no other learning rate is stated.\n",
    "    \"\"\"\n",
    "    def __init__(self, n_input, n_output, lr=1e-5,\n",
    "        std_w=None, bias=True, std_b=0):\n",
    "\n",
    "        if std_w is None:\n",
    "            # \"Xavier\" initialization\n",
    "            std_w = 1 / np.sqrt(.5 * n_input)\n",
    "        \n",
    "        # Set parameters\n",
    "        self.lr = lr\n",
    "        self.w = Tensor(n_output, n_input).normal_(0, std_w)\n",
    "        self.dw = Tensor(self.w.size()).zero_()\n",
    "        self.cum_dw = Tensor(self.w.size()).zero_()\n",
    "        self.bias = bias\n",
    "        \n",
    "        if bias:\n",
    "            if not std_b:\n",
    "                self.b = Tensor(n_output, 1).fill_(0)\n",
    "            else:\n",
    "                self.b = Tensor(n_output, 1).normal_(0, std_b)\n",
    "            self.db = Tensor(self.b.size()).zero_()\n",
    "            self.cum_db = Tensor(self.b.size()).zero_()\n",
    "\n",
    "    def forward(self, x):\n",
    "        \"\"\"Carries out the forward pass for backpropagation.\"\"\"\n",
    "        if len(x.shape) < 2:\n",
    "            # reshape if required\n",
    "            x = x.view(-1,1)\n",
    "        self.x = x\n",
    "        self.s = self.w @ x\n",
    "        if self.bias:\n",
    "            self.s += self.b\n",
    "        return self.s\n",
    "\n",
    "    def backward(self, grad):\n",
    "        \"\"\"Carries out the backward pass for backpropagation.\n",
    "        It does not update the parameters.\n",
    "        \"\"\"\n",
    "        if len(grad.shape) < 2:\n",
    "            # reshape if required\n",
    "            grad = grad.view(1,-1)\n",
    "        out = grad @ self.w\n",
    "        self.dw = (self.x @ grad).t()\n",
    "        self.cum_dw.add_(self.dw)\n",
    "        if self.bias:\n",
    "            self.db = grad.t()\n",
    "            self.cum_db.add_(self.db)\n",
    "        return out\n",
    "\n",
    "    def param(self):\n",
    "        \"\"\"Returns the list of parameters and gradients.\"\"\"\n",
    "        out = [(self.w, self.dw)]\n",
    "        if self.bias:\n",
    "            out.append((self.b, self.db))\n",
    "        return out\n",
    "    \n",
    "    def update(self, lr=None):\n",
    "        \"\"\"Updates the parameters with the accumulated gradients.\n",
    "        It must be called explicitly. If no lr is stated, the\n",
    "        default lr of the module is used.\n",
    "        \"\"\"\n",
    "        if lr is None:\n",
    "            lr = self.lr\n",
    "        self.w.add_(-lr * self.cum_dw)\n",
    "        self.cum_dw = Tensor(self.w.size()).zero_()\n",
    "        if self.bias:\n",
    "            self.b.add_(-lr * self.cum_db)\n",
    "            self.cum_db = Tensor(self.b.size()).zero_()"
   ]
  },
  {
   "cell_type": "code",
   "execution_count": 4,
   "metadata": {
    "collapsed": true
   },
   "outputs": [],
   "source": [
    "class ReLU(Module):\n",
    "    \"\"\"Implements the Rectified Linear Unit activation layer\"\"\"\n",
    "    def forward(self, x):\n",
    "        \"\"\"Carries out the forward pass for backpropagation.\"\"\"\n",
    "        self.x = x\n",
    "        return self.x.clamp(min=0)\n",
    "\n",
    "    def backward(self, grad):\n",
    "        \"\"\"Carries out the backward pass for backpropagation.\"\"\"\n",
    "        return grad * Tensor(np.where(self.x <= 0,\n",
    "            0, 1)).view(grad.size())"
   ]
  },
  {
   "cell_type": "code",
   "execution_count": 5,
   "metadata": {
    "collapsed": true
   },
   "outputs": [],
   "source": [
    "class LeakyReLU(Module):\n",
    "    \"\"\"Implements the Leaky ReLU activation layer\"\"\"\n",
    "    def __init__(self, a=.001):\n",
    "        self.a = a\n",
    "        \n",
    "        \"\"\"Carries out the forward pass for backpropagation.\"\"\"\n",
    "        self.x = x\n",
    "        return Tensor(np.where(x >= 0, x, self.a * x ))\n",
    "\n",
    "    def backward(self, grad):\n",
    "        \"\"\"Carries out the backward pass for backpropagation.\"\"\"\n",
    "        return grad * Tensor(np.where(self.x >= 0,\n",
    "            1, self.a)).view(grad.size())"
   ]
  },
  {
   "cell_type": "code",
   "execution_count": 6,
   "metadata": {
    "collapsed": true
   },
   "outputs": [],
   "source": [
    "class Tanh(Module):\n",
    "    \"\"\"Implements the Tanh activation layer\"\"\"\n",
    "    def forward(self, x):\n",
    "        \"\"\"Carries out the forward pass for backpropagation.\"\"\"\n",
    "        self.x_tanh = x.tanh()\n",
    "        return self.x_tanh\n",
    "\n",
    "    def backward(self, grad):\n",
    "        \"\"\"Carries out the backward pass for backpropagation.\"\"\"\n",
    "        return grad * (1 - self.x_tanh ** 2).view(grad.size())"
   ]
  },
  {
   "cell_type": "code",
   "execution_count": 7,
   "metadata": {
    "collapsed": true
   },
   "outputs": [],
   "source": [
    "class Sigmoid(Module):\n",
    "    \"\"\"Implements the Rectified Linear Unit activation layer\n",
    "    It is recommended to use the Tanh module instead.\n",
    "    \"\"\"\n",
    "    def forward(self, x):\n",
    "        \"\"\"Carries out the forward pass for backpropagation.\"\"\"\n",
    "        self.sigmoid = (1 + (x / 2).tanh()) / 2\n",
    "        return self.sigmoid\n",
    "\n",
    "    def backward(self, grad):\n",
    "        \"\"\"Carries out the backward pass for backpropagation.\"\"\"\n",
    "        return grad * (self.sigmoid * (1 - self.sigmoid)).view(grad.size())"
   ]
  },
  {
   "cell_type": "code",
   "execution_count": 8,
   "metadata": {
    "collapsed": true
   },
   "outputs": [],
   "source": [
    "class LossMSE(Module):\n",
    "    \"\"\"Implements the MSE loss computation\"\"\"\n",
    "    def forward(self, output, target):\n",
    "        \"\"\"Carries out the forward pass for backpropagation.\"\"\"\n",
    "        self.diff = output.float() - target.float().view(output.size())\n",
    "        return (self.diff ** 2).sum()\n",
    "\n",
    "    def backward(self):\n",
    "        \"\"\"Carries out the backward pass for backpropagation.\"\"\"\n",
    "        return self.diff * 2"
   ]
  },
  {
   "cell_type": "code",
   "execution_count": 9,
   "metadata": {
    "collapsed": true
   },
   "outputs": [],
   "source": [
    "class Sequential(Module):\n",
    "    \"\"\"Allows to combine several modules sequentially\n",
    "    It is possible to either include a loss module in the Sequential\n",
    "    module or to not include it and use a loss module defined outside\n",
    "    of the Sequential module instead.\n",
    "    \"\"\"\n",
    "    def __init__(self, layers, loss=None):\n",
    "        self.layers = layers\n",
    "        self.loss = loss\n",
    "\n",
    "    def forward(self, x, target=None):\n",
    "        \"\"\"Carries out the forward pass for backpropagation\n",
    "        To do it it calls the forward functions of each individual\n",
    "        module.\n",
    "        \"\"\"\n",
    "        if self.loss is not None:\n",
    "            assert target is not None, \"Target required for loss module\"\n",
    "        for l in self.layers:\n",
    "            x = l.forward(x)\n",
    "        if self.loss is not None:\n",
    "            x = self.loss.forward(x, target)\n",
    "        self.x = x\n",
    "        return x\n",
    "\n",
    "    def backward(self, grad=None):\n",
    "        \"\"\"Carries out the backward pass for backpropagation\n",
    "        To do it it calls the backward functions of each individual\n",
    "        module\n",
    "        \"\"\"\n",
    "        if self.loss is not None:\n",
    "            grad = self.loss.backward()\n",
    "        else:\n",
    "            assert grad is not None, \"Initial gradient required when no loss module defined\"\n",
    "        for l in reversed(self.layers):\n",
    "            grad = l.backward(grad)\n",
    "\n",
    "    def param(self):\n",
    "        return [p for l in layers for p in l.param()]\n",
    "    \n",
    "    def update(self, lr=None):\n",
    "        for l in self.layers:\n",
    "            l.update(lr)"
   ]
  },
  {
   "cell_type": "code",
   "execution_count": 10,
   "metadata": {},
   "outputs": [
    {
     "name": "stdout",
     "output_type": "stream",
     "text": [
      "L:2.7445003986358643\n",
      "L:2.010528564453125\n"
     ]
    }
   ],
   "source": [
    "## Example 1:\n",
    "\n",
    "l1 = Linear(3, 2, lr=.1)\n",
    "l2 = Tanh()\n",
    "l3 = Linear(2, 1, lr=.1)\n",
    "l4 = Tanh()\n",
    "\n",
    "layers = [l1, l2, l3, l4]\n",
    "loss = LossMSE()\n",
    "\n",
    "s = Sequential(layers, loss)\n",
    "\n",
    "#Forward\n",
    "x = Tensor([1,.5,1])\n",
    "L = s.forward(x, Tensor([1]))\n",
    "print(\"L:{}\".format(L))\n",
    "\n",
    "#Backward\n",
    "s.backward()\n",
    "\n",
    "\n",
    "\n",
    "## Example 2:\n",
    "\n",
    "l1 = Linear(3, 2, lr=.1)\n",
    "l2 = Tanh()\n",
    "l3 = Linear(2, 1, lr=.1)\n",
    "l4 = Tanh()\n",
    "\n",
    "layers = [l1, l2, l3, l4]\n",
    "loss = LossMSE()\n",
    "\n",
    "s = Sequential(layers)\n",
    "\n",
    "#Forward\n",
    "x = Tensor([1,.5,1])\n",
    "y = s.forward(x)\n",
    "\n",
    "L = loss.forward(y, Tensor([1]))\n",
    "print(\"L:{}\".format(L))\n",
    "\n",
    "#Backward\n",
    "grad = loss.backward()\n",
    "s.backward(grad)"
   ]
  },
  {
   "cell_type": "markdown",
   "metadata": {},
   "source": [
    "#### Training"
   ]
  },
  {
   "cell_type": "code",
   "execution_count": 11,
   "metadata": {
    "collapsed": true
   },
   "outputs": [],
   "source": [
    "def adaptive_lr(kappa=0.75, eta0=1e-5):\n",
    "    \"\"\"Adaptive learning rate. After creating the lr with the\n",
    "    values for kappa and eta0, it yields the value for the learning\n",
    "    rate of the next iteration. Used for (Stochastic) Gradient Descent\n",
    "    methods.\n",
    "    \"\"\"\n",
    "    t = 1\n",
    "    while True:\n",
    "        yield eta0 * t ** -kappa\n",
    "        t += 1"
   ]
  },
  {
   "cell_type": "code",
   "execution_count": 12,
   "metadata": {
    "collapsed": true
   },
   "outputs": [],
   "source": [
    "def SGD(model, loss, train_input, train_target, n_epochs, mini_batch_size, a_lr):\n",
    "    \"\"\"Trains a model, which is usually defined as a Sequential module\"\"\"\n",
    "    for e in range(n_epochs):\n",
    "        L_tot = 0\n",
    "        errors_tot = 0\n",
    "\n",
    "        p = np.random.permutation(len(train_target))\n",
    "        train_zipped = zip(train_input[p], train_target[p])\n",
    "        predicted_labels = []        \n",
    "        \n",
    "        for i, (data, label) in enumerate(train_zipped):\n",
    "            d = Tensor(data)\n",
    "            l = Tensor(1).fill_(label)\n",
    "\n",
    "            # Forward pass\n",
    "            output = model.forward(d)\n",
    "            L = loss.forward(output, l)\n",
    "            predicted_labels.append(output)            \n",
    "\n",
    "            # Backward pass\n",
    "            grad = loss.backward()\n",
    "            model.backward(grad)\n",
    "\n",
    "            # update gradients\n",
    "            if not (i + 1) % mini_batch_size:\n",
    "                next_a_lr = next(a_lr)\n",
    "                model.update(next_a_lr)\n",
    "            \n",
    "            # Compute total loss and accuracy\n",
    "            L_tot += L\n",
    "            errors = (l != (output >= 0.5).float() ).sum()\n",
    "            errors_tot += errors\n",
    "            \n",
    "        next_a_lr = next(a_lr)\n",
    "        model.update(next_a_lr)\n",
    "\n",
    "        accuracy = (len(train_target) - errors_tot) / len(train_target)\n",
    "        print('Epoch {:d}  Loss {:.08f}  Accuracy {:.02f}  Errors {}'.format(\n",
    "            e, L_tot, accuracy, errors_tot))\n",
    "    \n",
    "    return train_input[p], train_target[p], np.array(predicted_labels)"
   ]
  },
  {
   "cell_type": "markdown",
   "metadata": {},
   "source": [
    "#### Generate dataset\n",
    "\n",
    "Where is the disk centered? We assume (0,0)"
   ]
  },
  {
   "cell_type": "code",
   "execution_count": 13,
   "metadata": {
    "collapsed": true
   },
   "outputs": [],
   "source": [
    "def generate_disc_set(nb):\n",
    "    data = np.random.uniform(0, 1, size=(nb, 2))\n",
    "    label = ((data - .5) ** 2).sum(1) <= 1 / (2 * np.pi)\n",
    "    return data, label.astype(float)"
   ]
  },
  {
   "cell_type": "code",
   "execution_count": 14,
   "metadata": {
    "collapsed": true
   },
   "outputs": [],
   "source": [
    "train_input, train_target = generate_disc_set(1000)\n",
    "train_data_0 = train_input[train_target == 0]\n",
    "train_data_1 = train_input[train_target == 1]"
   ]
  },
  {
   "cell_type": "code",
   "execution_count": 15,
   "metadata": {},
   "outputs": [
    {
     "data": {
      "image/png": "[encoded data removed]",
      "text/plain": [
       "<matplotlib.figure.Figure at 0x7f141e7e8470>"
      ]
     },
     "metadata": {},
     "output_type": "display_data"
    }
   ],
   "source": [
    "# Plot data points\n",
    "import matplotlib.pyplot as plt\n",
    "plt.scatter(train_data_0.transpose()[0], train_data_0.transpose()[1], c=\"red\")\n",
    "plt.scatter(train_data_1.transpose()[0], train_data_1.transpose()[1], c=\"blue\")\n",
    "plt.show()"
   ]
  },
  {
   "cell_type": "markdown",
   "metadata": {},
   "source": [
    "#### Test\n",
    "Why two output units?"
   ]
  },
  {
   "cell_type": "code",
   "execution_count": 16,
   "metadata": {
    "collapsed": true
   },
   "outputs": [],
   "source": [
    "def get_rand_params():\n",
    "    \"\"\"Generates random parameters for testing purposes\"\"\"\n",
    "    kappas = np.linspace(.5, .95, 30)\n",
    "    #kappas = np.linspace(.76, .92, 10)\n",
    "    \n",
    "    etas = np.logspace(-7, -1, 30)\n",
    "    #etas = np.logspace(-4.32, -2, 10)\n",
    "    \n",
    "    mbs = np.linspace(20, 160, 30).round()\n",
    "    \n",
    "    return (np.random.choice(kappas),\n",
    "           np.random.choice(etas),\n",
    "           np.random.choice(mbs))"
   ]
  },
  {
   "cell_type": "raw",
   "metadata": {
    "scrolled": true
   },
   "source": [
    "# Iterate through several combinations of random parameters\n",
    "# This should be helpful for finding the learning rate and minibatch size\n",
    "for i in range(10):\n",
    "    k, e0, mb = get_rand_params()\n",
    "    a_lr = adaptive_lr(kappa=k, eta0=e0)\n",
    "    print()\n",
    "    print()\n",
    "    print(\"-------------------\")\n",
    "    print(\"k:{}, e0:{}, mb:{}\".format(k, e0, mb))\n",
    "    print(\"-------------------\")\n",
    "\n",
    "    loss = LossMSE()\n",
    "    hl1 = [Linear(2, 25, lr=0), ReLU()]\n",
    "    hl2 = [Linear(25, 25, lr=0), ReLU()]\n",
    "    hl3 = [Linear(25, 25, lr=0), ReLU()]\n",
    "    out = [Linear(25, 1, lr=0), Sigmoid()]\n",
    "\n",
    "    model = Sequential(hl1 + hl2 + hl3 + out)\n",
    "\n",
    "    SGD(model, loss, train_input, train_target, 20, mb, a_lr)"
   ]
  },
  {
   "cell_type": "code",
   "execution_count": 17,
   "metadata": {},
   "outputs": [
    {
     "name": "stdout",
     "output_type": "stream",
     "text": [
      "Epoch 0  Loss 225.82689095  Accuracy 0.62  Errors 376\n",
      "Epoch 1  Loss 201.84159687  Accuracy 0.69  Errors 313\n",
      "Epoch 2  Loss 191.21314197  Accuracy 0.70  Errors 303\n",
      "Epoch 3  Loss 183.62486647  Accuracy 0.70  Errors 295\n",
      "Epoch 4  Loss 176.33252970  Accuracy 0.72  Errors 278\n",
      "Epoch 5  Loss 171.19320162  Accuracy 0.74  Errors 263\n",
      "Epoch 6  Loss 164.85092580  Accuracy 0.75  Errors 249\n",
      "Epoch 7  Loss 160.36441337  Accuracy 0.76  Errors 238\n",
      "Epoch 8  Loss 155.10753114  Accuracy 0.77  Errors 232\n",
      "Epoch 9  Loss 150.53851214  Accuracy 0.80  Errors 203\n",
      "Epoch 10  Loss 145.03882344  Accuracy 0.81  Errors 188\n",
      "Epoch 11  Loss 140.21297172  Accuracy 0.83  Errors 172\n",
      "Epoch 12  Loss 135.47441675  Accuracy 0.84  Errors 160\n",
      "Epoch 13  Loss 129.94991522  Accuracy 0.85  Errors 152\n",
      "Epoch 14  Loss 126.11909989  Accuracy 0.87  Errors 131\n",
      "Epoch 15  Loss 123.46348655  Accuracy 0.87  Errors 126\n",
      "Epoch 16  Loss 117.47193889  Accuracy 0.89  Errors 115\n",
      "Epoch 17  Loss 113.25409829  Accuracy 0.90  Errors 104\n",
      "Epoch 18  Loss 111.12097476  Accuracy 0.90  Errors 102\n",
      "Epoch 19  Loss 106.58846934  Accuracy 0.91  Errors 91\n",
      "Epoch 20  Loss 104.60122190  Accuracy 0.91  Errors 92\n",
      "Epoch 21  Loss 99.75439996  Accuracy 0.92  Errors 79\n",
      "Epoch 22  Loss 97.29302663  Accuracy 0.92  Errors 81\n",
      "Epoch 23  Loss 96.12409306  Accuracy 0.92  Errors 78\n",
      "Epoch 24  Loss 91.91281247  Accuracy 0.92  Errors 76\n",
      "Epoch 25  Loss 90.28550174  Accuracy 0.93  Errors 68\n",
      "Epoch 26  Loss 87.92760529  Accuracy 0.93  Errors 72\n",
      "Epoch 27  Loss 85.13382911  Accuracy 0.94  Errors 64\n",
      "Epoch 28  Loss 84.68498524  Accuracy 0.94  Errors 60\n",
      "Epoch 29  Loss 80.97846426  Accuracy 0.94  Errors 62\n",
      "Epoch 30  Loss 79.42433874  Accuracy 0.94  Errors 56\n",
      "Epoch 31  Loss 76.98180399  Accuracy 0.94  Errors 56\n",
      "Epoch 32  Loss 75.94613756  Accuracy 0.95  Errors 52\n",
      "Epoch 33  Loss 74.48420596  Accuracy 0.95  Errors 50\n",
      "Epoch 34  Loss 72.61259827  Accuracy 0.94  Errors 57\n",
      "Epoch 35  Loss 71.10143997  Accuracy 0.95  Errors 47\n",
      "Epoch 36  Loss 69.08626327  Accuracy 0.95  Errors 45\n",
      "Epoch 37  Loss 69.03782824  Accuracy 0.96  Errors 44\n",
      "Epoch 38  Loss 68.02429693  Accuracy 0.95  Errors 46\n",
      "Epoch 39  Loss 65.53245797  Accuracy 0.96  Errors 43\n",
      "Epoch 40  Loss 65.57130297  Accuracy 0.96  Errors 43\n",
      "Epoch 41  Loss 63.61246676  Accuracy 0.96  Errors 37\n",
      "Epoch 42  Loss 63.38802884  Accuracy 0.95  Errors 45\n",
      "Epoch 43  Loss 62.26940551  Accuracy 0.96  Errors 41\n",
      "Epoch 44  Loss 61.87285237  Accuracy 0.96  Errors 43\n",
      "Epoch 45  Loss 60.16681394  Accuracy 0.97  Errors 33\n",
      "Epoch 46  Loss 59.57290598  Accuracy 0.97  Errors 32\n",
      "Epoch 47  Loss 58.80063195  Accuracy 0.97  Errors 31\n",
      "Epoch 48  Loss 58.11299669  Accuracy 0.96  Errors 35\n",
      "Epoch 49  Loss 56.49968641  Accuracy 0.97  Errors 29\n",
      "Epoch 50  Loss 56.12572483  Accuracy 0.97  Errors 31\n",
      "Epoch 51  Loss 55.01887371  Accuracy 0.97  Errors 26\n",
      "Epoch 52  Loss 54.59290323  Accuracy 0.97  Errors 27\n",
      "Epoch 53  Loss 53.46240286  Accuracy 0.98  Errors 24\n",
      "Epoch 54  Loss 53.57263424  Accuracy 0.97  Errors 28\n",
      "Epoch 55  Loss 52.40002774  Accuracy 0.98  Errors 22\n",
      "Epoch 56  Loss 52.17155671  Accuracy 0.97  Errors 25\n",
      "Epoch 57  Loss 51.12398068  Accuracy 0.97  Errors 25\n",
      "Epoch 58  Loss 50.39170997  Accuracy 0.98  Errors 16\n",
      "Epoch 59  Loss 49.71163213  Accuracy 0.98  Errors 24\n",
      "Epoch 60  Loss 50.00933586  Accuracy 0.97  Errors 27\n",
      "Epoch 61  Loss 49.34529149  Accuracy 0.98  Errors 22\n",
      "Epoch 62  Loss 48.22384868  Accuracy 0.98  Errors 18\n",
      "Epoch 63  Loss 48.40092075  Accuracy 0.98  Errors 18\n",
      "Epoch 64  Loss 48.13727409  Accuracy 0.98  Errors 20\n",
      "Epoch 65  Loss 46.52441166  Accuracy 0.98  Errors 20\n",
      "Epoch 66  Loss 47.27522254  Accuracy 0.98  Errors 22\n",
      "Epoch 67  Loss 46.88262484  Accuracy 0.98  Errors 19\n",
      "Epoch 68  Loss 45.97789620  Accuracy 0.98  Errors 15\n",
      "Epoch 69  Loss 45.47835885  Accuracy 0.98  Errors 18\n",
      "Epoch 70  Loss 45.06080517  Accuracy 0.98  Errors 16\n",
      "Epoch 71  Loss 44.56634877  Accuracy 0.98  Errors 16\n",
      "Epoch 72  Loss 44.16429294  Accuracy 0.99  Errors 14\n",
      "Epoch 73  Loss 44.04401606  Accuracy 0.98  Errors 23\n",
      "Epoch 74  Loss 43.78545041  Accuracy 0.98  Errors 18\n",
      "Epoch 75  Loss 43.30262895  Accuracy 0.98  Errors 16\n",
      "Epoch 76  Loss 43.23040829  Accuracy 0.99  Errors 13\n",
      "Epoch 77  Loss 42.57701458  Accuracy 0.98  Errors 18\n",
      "Epoch 78  Loss 41.84991595  Accuracy 0.99  Errors 14\n",
      "Epoch 79  Loss 42.00481352  Accuracy 0.99  Errors 11\n",
      "Epoch 80  Loss 42.12742185  Accuracy 0.99  Errors 12\n",
      "Epoch 81  Loss 41.40683938  Accuracy 0.98  Errors 18\n",
      "Epoch 82  Loss 41.47323586  Accuracy 0.98  Errors 15\n",
      "Epoch 83  Loss 40.94939697  Accuracy 0.99  Errors 10\n",
      "Epoch 84  Loss 40.45463046  Accuracy 0.99  Errors 12\n",
      "Epoch 85  Loss 40.13610310  Accuracy 0.98  Errors 16\n",
      "Epoch 86  Loss 40.31470719  Accuracy 0.98  Errors 15\n",
      "Epoch 87  Loss 40.17871048  Accuracy 0.98  Errors 18\n",
      "Epoch 88  Loss 39.88164321  Accuracy 0.99  Errors 10\n",
      "Epoch 89  Loss 38.96249301  Accuracy 0.98  Errors 15\n",
      "Epoch 90  Loss 39.53251802  Accuracy 0.99  Errors 13\n",
      "Epoch 91  Loss 39.27833181  Accuracy 0.98  Errors 16\n",
      "Epoch 92  Loss 39.07994975  Accuracy 0.99  Errors 14\n",
      "Epoch 93  Loss 39.06067436  Accuracy 0.99  Errors 13\n",
      "Epoch 94  Loss 38.57061851  Accuracy 0.99  Errors 13\n",
      "Epoch 95  Loss 38.07674720  Accuracy 0.98  Errors 15\n",
      "Epoch 96  Loss 37.66093790  Accuracy 0.99  Errors 11\n",
      "Epoch 97  Loss 37.85113654  Accuracy 0.99  Errors 14\n",
      "Epoch 98  Loss 37.69442067  Accuracy 0.99  Errors 9\n",
      "Epoch 99  Loss 36.96308077  Accuracy 0.99  Errors 9\n",
      "Epoch 100  Loss 37.14874899  Accuracy 0.98  Errors 16\n",
      "Epoch 101  Loss 37.12920956  Accuracy 0.99  Errors 12\n",
      "Epoch 102  Loss 36.54109333  Accuracy 0.99  Errors 10\n",
      "Epoch 103  Loss 36.34599673  Accuracy 0.99  Errors 13\n",
      "Epoch 104  Loss 36.37688479  Accuracy 0.99  Errors 11\n",
      "Epoch 105  Loss 35.96590220  Accuracy 0.99  Errors 10\n",
      "Epoch 106  Loss 36.00395757  Accuracy 0.99  Errors 11\n",
      "Epoch 107  Loss 36.22845482  Accuracy 0.99  Errors 12\n",
      "Epoch 108  Loss 36.92452182  Accuracy 0.98  Errors 18\n",
      "Epoch 109  Loss 35.10298527  Accuracy 0.99  Errors 7\n",
      "Epoch 110  Loss 35.23215164  Accuracy 0.99  Errors 12\n",
      "Epoch 111  Loss 35.11205902  Accuracy 0.99  Errors 14\n",
      "Epoch 112  Loss 34.94425474  Accuracy 0.99  Errors 12\n",
      "Epoch 113  Loss 34.36987962  Accuracy 0.99  Errors 12\n",
      "Epoch 114  Loss 34.68592067  Accuracy 0.99  Errors 11\n",
      "Epoch 115  Loss 34.52351222  Accuracy 0.99  Errors 10\n",
      "Epoch 116  Loss 35.06492061  Accuracy 0.99  Errors 12\n",
      "Epoch 117  Loss 34.55099144  Accuracy 0.99  Errors 13\n",
      "Epoch 118  Loss 34.24756642  Accuracy 0.99  Errors 13\n",
      "Epoch 119  Loss 34.28656593  Accuracy 0.99  Errors 12\n",
      "Epoch 120  Loss 33.64626381  Accuracy 0.99  Errors 10\n",
      "Epoch 121  Loss 33.35884349  Accuracy 0.99  Errors 7\n",
      "Epoch 122  Loss 33.69485484  Accuracy 0.99  Errors 13\n",
      "Epoch 123  Loss 33.45593049  Accuracy 0.99  Errors 14\n",
      "Epoch 124  Loss 33.27284241  Accuracy 0.99  Errors 8\n",
      "Epoch 125  Loss 32.93724900  Accuracy 0.99  Errors 11\n",
      "Epoch 126  Loss 33.01073270  Accuracy 0.99  Errors 13\n",
      "Epoch 127  Loss 32.30442626  Accuracy 0.99  Errors 9\n",
      "Epoch 128  Loss 32.51078131  Accuracy 0.99  Errors 12\n",
      "Epoch 129  Loss 32.45298858  Accuracy 0.99  Errors 9\n",
      "Epoch 130  Loss 32.48449808  Accuracy 0.99  Errors 14\n",
      "Epoch 131  Loss 32.36091307  Accuracy 0.99  Errors 8\n",
      "Epoch 132  Loss 32.04060250  Accuracy 0.99  Errors 10\n",
      "Epoch 133  Loss 32.52071313  Accuracy 0.99  Errors 12\n",
      "Epoch 134  Loss 31.92432525  Accuracy 0.99  Errors 9\n",
      "Epoch 135  Loss 31.87956976  Accuracy 0.99  Errors 11\n",
      "Epoch 136  Loss 31.40043515  Accuracy 0.99  Errors 10\n",
      "Epoch 137  Loss 31.42262797  Accuracy 0.99  Errors 11\n",
      "Epoch 138  Loss 31.46827767  Accuracy 0.99  Errors 14\n",
      "Epoch 139  Loss 31.44063208  Accuracy 0.99  Errors 11\n",
      "Epoch 140  Loss 31.23711007  Accuracy 0.99  Errors 10\n",
      "Epoch 141  Loss 31.36323968  Accuracy 0.99  Errors 11\n",
      "Epoch 142  Loss 31.02538522  Accuracy 0.99  Errors 11\n",
      "Epoch 143  Loss 30.63326406  Accuracy 0.99  Errors 11\n",
      "Epoch 144  Loss 30.88540746  Accuracy 0.99  Errors 11\n",
      "Epoch 145  Loss 30.76515717  Accuracy 0.99  Errors 8\n",
      "Epoch 146  Loss 30.58265286  Accuracy 0.99  Errors 9\n",
      "Epoch 147  Loss 30.42052030  Accuracy 0.99  Errors 9\n",
      "Epoch 148  Loss 30.40426766  Accuracy 0.99  Errors 11\n",
      "Epoch 149  Loss 30.20319985  Accuracy 0.99  Errors 10\n",
      "Epoch 150  Loss 30.18979608  Accuracy 0.99  Errors 11\n",
      "Epoch 151  Loss 29.80377741  Accuracy 0.99  Errors 11\n",
      "Epoch 152  Loss 30.28470000  Accuracy 0.99  Errors 12\n",
      "Epoch 153  Loss 30.00365070  Accuracy 0.99  Errors 9\n"
     ]
    },
    {
     "name": "stdout",
     "output_type": "stream",
     "text": [
      "Epoch 154  Loss 29.80930024  Accuracy 0.99  Errors 8\n",
      "Epoch 155  Loss 30.55576159  Accuracy 0.98  Errors 15\n",
      "Epoch 156  Loss 29.84912359  Accuracy 0.99  Errors 12\n",
      "Epoch 157  Loss 29.46044529  Accuracy 0.99  Errors 12\n",
      "Epoch 158  Loss 29.87968219  Accuracy 0.99  Errors 10\n",
      "Epoch 159  Loss 29.26886902  Accuracy 0.99  Errors 8\n",
      "Epoch 160  Loss 28.97751866  Accuracy 0.99  Errors 12\n",
      "Epoch 161  Loss 29.16178844  Accuracy 0.99  Errors 10\n",
      "Epoch 162  Loss 28.79206122  Accuracy 0.99  Errors 7\n",
      "Epoch 163  Loss 29.22951231  Accuracy 0.99  Errors 11\n",
      "Epoch 164  Loss 29.39683846  Accuracy 0.99  Errors 12\n",
      "Epoch 165  Loss 29.17813003  Accuracy 0.99  Errors 13\n",
      "Epoch 166  Loss 28.97166342  Accuracy 0.99  Errors 13\n",
      "Epoch 167  Loss 28.80874688  Accuracy 0.99  Errors 12\n",
      "Epoch 168  Loss 28.94481505  Accuracy 0.99  Errors 9\n",
      "Epoch 169  Loss 28.89349113  Accuracy 0.99  Errors 11\n",
      "Epoch 170  Loss 28.62524757  Accuracy 0.99  Errors 10\n",
      "Epoch 171  Loss 28.78492959  Accuracy 0.99  Errors 13\n",
      "Epoch 172  Loss 28.45690123  Accuracy 0.99  Errors 11\n",
      "Epoch 173  Loss 28.63170984  Accuracy 0.99  Errors 9\n",
      "Epoch 174  Loss 28.48853720  Accuracy 0.99  Errors 8\n",
      "Epoch 175  Loss 28.22868445  Accuracy 0.99  Errors 10\n",
      "Epoch 176  Loss 27.70355625  Accuracy 0.99  Errors 10\n",
      "Epoch 177  Loss 28.25624677  Accuracy 0.99  Errors 11\n",
      "Epoch 178  Loss 27.92657668  Accuracy 0.99  Errors 9\n",
      "Epoch 179  Loss 28.37097009  Accuracy 0.99  Errors 14\n",
      "Epoch 180  Loss 27.65003772  Accuracy 0.99  Errors 9\n",
      "Epoch 181  Loss 27.54995472  Accuracy 0.99  Errors 6\n",
      "Epoch 182  Loss 27.85905921  Accuracy 0.99  Errors 8\n",
      "Epoch 183  Loss 27.38858556  Accuracy 0.99  Errors 6\n",
      "Epoch 184  Loss 27.57898465  Accuracy 0.99  Errors 11\n",
      "Epoch 185  Loss 27.46637898  Accuracy 0.99  Errors 10\n",
      "Epoch 186  Loss 27.06928296  Accuracy 0.99  Errors 5\n",
      "Epoch 187  Loss 27.52514696  Accuracy 0.99  Errors 10\n",
      "Epoch 188  Loss 27.04390432  Accuracy 0.99  Errors 13\n",
      "Epoch 189  Loss 27.14734202  Accuracy 0.99  Errors 11\n",
      "Epoch 190  Loss 27.26506765  Accuracy 0.99  Errors 14\n",
      "Epoch 191  Loss 26.80018734  Accuracy 0.99  Errors 13\n",
      "Epoch 192  Loss 27.21419529  Accuracy 0.99  Errors 11\n",
      "Epoch 193  Loss 26.70461460  Accuracy 0.99  Errors 10\n",
      "Epoch 194  Loss 26.83265476  Accuracy 0.99  Errors 9\n",
      "Epoch 195  Loss 26.67695862  Accuracy 0.99  Errors 9\n",
      "Epoch 196  Loss 26.76980913  Accuracy 0.99  Errors 10\n",
      "Epoch 197  Loss 26.64971118  Accuracy 0.99  Errors 7\n",
      "Epoch 198  Loss 26.38238726  Accuracy 0.99  Errors 8\n",
      "Epoch 199  Loss 26.60580404  Accuracy 0.99  Errors 12\n"
     ]
    }
   ],
   "source": [
    "# Some good parameter combinations:\n",
    "#k:0.593103448275862, e0:0.014873521072935119, mb:112.0\n",
    "#k:0.5, e0:0.009236708571873866, mb:34.0\n",
    "#k:0.6241379310344828, e0:0.03856620421163472, mb:92.0\n",
    "\n",
    "k, e0, mb = (.6, 3.5e-2, 60)\n",
    "a_lr = adaptive_lr(kappa=k, eta0=e0)\n",
    "\n",
    "loss = LossMSE()\n",
    "hl1 = [Linear(2, 25, lr=0), ReLU()]\n",
    "hl2 = [Linear(25, 25, lr=0), ReLU()]\n",
    "hl3 = [Linear(25, 25, lr=0), ReLU()]\n",
    "out = [Linear(25, 1, lr=0), Sigmoid()]\n",
    "\n",
    "model = Sequential(hl1 + hl2 + hl3 + out)\n",
    "\n",
    "p_data, p_target, pred_labels = SGD(model, loss, train_input, train_target, 200, mb, a_lr)\n",
    "pred_labels = (pred_labels >= 0.5)"
   ]
  },
  {
   "cell_type": "code",
   "execution_count": 18,
   "metadata": {},
   "outputs": [
    {
     "data": {
      "image/png": "[encoded data removed]",
      "text/plain": [
       "<matplotlib.figure.Figure at 0x7f14171ddcf8>"
      ]
     },
     "metadata": {},
     "output_type": "display_data"
    }
   ],
   "source": [
    "pred_data_errors = p_data[pred_labels != p_target]\n",
    "\n",
    "# Plot predicted labels\n",
    "plt.scatter(train_data_0.transpose()[0], train_data_0.transpose()[1], c=\"red\", alpha=.3)\n",
    "plt.scatter(train_data_1.transpose()[0], train_data_1.transpose()[1], c=\"blue\", alpha=.3)\n",
    "plt.scatter(pred_data_errors.transpose()[0], pred_data_errors.transpose()[1], c=\"yellow\", alpha=.5)\n",
    "\n",
    "plt.show()"
   ]
  },
  {
   "cell_type": "code",
   "execution_count": 19,
   "metadata": {
    "collapsed": true
   },
   "outputs": [],
   "source": [
    "test_input, test_target = generate_disc_set(1000)"
   ]
  },
  {
   "cell_type": "code",
   "execution_count": 20,
   "metadata": {
    "collapsed": true
   },
   "outputs": [],
   "source": [
    "def testing(model, loss, test_input, test_target):\n",
    "    \"\"\"Tests a model, which is usually defined as a Sequential module\"\"\"\n",
    "    L_tot = 0\n",
    "    errors_tot = 0\n",
    "\n",
    "    test_zipped = zip(test_input, test_target)\n",
    "    predicted_labels = []\n",
    "\n",
    "    for data, label in test_zipped:\n",
    "        d = Tensor(data)\n",
    "        l = Tensor(1).fill_(label)\n",
    "\n",
    "        # Get predicted label and loss\n",
    "        output = model.forward(d)\n",
    "        predicted_labels.append(output)\n",
    "        L = loss.forward(output, l)\n",
    "\n",
    "        # Compute total loss and accuracy\n",
    "        L_tot += L\n",
    "        errors = (l != (output >= 0.5).float() ).sum()\n",
    "        errors_tot += errors\n",
    "\n",
    "    accuracy = (len(test_target) - errors_tot) / len(test_target)\n",
    "    print('Loss {:.08f}  Accuracy {:.02f}  Errors {}'.format(\n",
    "        L_tot, accuracy, errors_tot))\n",
    "    \n",
    "    return np.array(predicted_labels)"
   ]
  },
  {
   "cell_type": "code",
   "execution_count": 21,
   "metadata": {},
   "outputs": [
    {
     "name": "stdout",
     "output_type": "stream",
     "text": [
      "Loss 29.50580169  Accuracy 0.99  Errors 11\n"
     ]
    }
   ],
   "source": [
    "pred_labels = testing(model, loss, test_input, test_target)\n",
    "pred_labels = (pred_labels >= 0.5)"
   ]
  },
  {
   "cell_type": "code",
   "execution_count": 22,
   "metadata": {},
   "outputs": [
    {
     "data": {
      "image/png": "[encoded data removed]",
      "text/plain": [
       "<matplotlib.figure.Figure at 0x7f14171d72b0>"
      ]
     },
     "metadata": {},
     "output_type": "display_data"
    }
   ],
   "source": [
    "test_data_0 = test_input[test_target == 0]\n",
    "test_data_1 = test_input[test_target == 1]\n",
    "pred_data_errors = test_input[pred_labels != test_target]\n",
    "\n",
    "# Plot data points\n",
    "\n",
    "plt.scatter(test_data_0.transpose()[0], test_data_0.transpose()[1], c=\"red\", alpha=.3)\n",
    "plt.scatter(test_data_1.transpose()[0], test_data_1.transpose()[1], c=\"blue\", alpha=.3)\n",
    "plt.scatter(pred_data_errors.transpose()[0], pred_data_errors.transpose()[1], c=\"yellow\", alpha=.5)\n",
    "plt.show()"
   ]
  },
  {
   "cell_type": "code",
   "execution_count": null,
   "metadata": {
    "collapsed": true
   },
   "outputs": [],
   "source": []
  }
 ],
 "metadata": {
  "kernelspec": {
   "display_name": "Python 3",
   "language": "python",
   "name": "python3"
  },
  "language_info": {
   "codemirror_mode": {
    "name": "ipython",
    "version": 3
   },
   "file_extension": ".py",
   "mimetype": "text/x-python",
   "name": "python",
   "nbconvert_exporter": "python",
   "pygments_lexer": "ipython3",
   "version": "3.6.3"
  }
 },
 "nbformat": 4,
 "nbformat_minor": 2
}
