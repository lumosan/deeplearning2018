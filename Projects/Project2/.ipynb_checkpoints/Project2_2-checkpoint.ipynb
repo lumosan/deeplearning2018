{
 "cells": [
  {
   "cell_type": "markdown",
   "metadata": {
    "colab_type": "text",
    "id": "hoJfjcWf-MMP"
   },
   "source": [
    "# Installs"
   ]
  },
  {
   "cell_type": "code",
   "execution_count": 1,
   "metadata": {
    "colab": {
     "autoexec": {
      "startup": false,
      "wait_interval": 0
     },
     "base_uri": "https://localhost:8080/",
     "height": 87
    },
    "colab_type": "code",
    "executionInfo": {
     "elapsed": 2966,
     "status": "ok",
     "timestamp": 1525253341526,
     "user": {
      "displayName": "Lucía Montero",
      "photoUrl": "//lh6.googleusercontent.com/-Ww5K6BI_qeA/AAAAAAAAAAI/AAAAAAAAARM/-MLT50nAXhA/s50-c-k-no/photo.jpg",
      "userId": "110608870269195945728"
     },
     "user_tz": -120
    },
    "id": "Lxr3zgrv-MMT",
    "outputId": "43d18acf-b5ad-4bb9-aa44-76bfb2d0708a"
   },
   "outputs": [
    {
     "name": "stdout",
     "output_type": "stream",
     "text": [
      "Requirement already satisfied: torch==0.3.0.post4 from http://download.pytorch.org/whl/cu80/torch-0.3.0.post4-cp36-cp36m-linux_x86_64.whl in /home/lucia/anaconda3/lib/python3.6/site-packages (0.3.0.post4)\n",
      "Requirement already satisfied: pyyaml in /home/lucia/anaconda3/lib/python3.6/site-packages (from torch==0.3.0.post4) (3.12)\n",
      "Requirement already satisfied: numpy in /home/lucia/anaconda3/lib/python3.6/site-packages (from torch==0.3.0.post4) (1.14.2)\n",
      "\u001b[31mspacy 1.9.0 has requirement pip<10.0.0,>=9.0.0, but you'll have pip 10.0.1 which is incompatible.\u001b[0m\n"
     ]
    }
   ],
   "source": [
    "!pip3 install http://download.pytorch.org/whl/cu80/torch-0.3.0.post4-cp36-cp36m-linux_x86_64.whl "
   ]
  },
  {
   "cell_type": "markdown",
   "metadata": {
    "colab_type": "text",
    "id": "K6DKnw_s-MMn"
   },
   "source": [
    "# Implementation"
   ]
  },
  {
   "cell_type": "code",
   "execution_count": 1,
   "metadata": {
    "colab": {
     "autoexec": {
      "startup": false,
      "wait_interval": 0
     }
    },
    "colab_type": "code",
    "collapsed": true,
    "id": "9Rdg3lwZ87KD"
   },
   "outputs": [],
   "source": [
    "import torch\n",
    "from torch import Tensor\n",
    "import numpy as np\n",
    "import matplotlib.pyplot as plt"
   ]
  },
  {
   "cell_type": "code",
   "execution_count": 2,
   "metadata": {
    "colab": {
     "autoexec": {
      "startup": false,
      "wait_interval": 0
     }
    },
    "colab_type": "code",
    "collapsed": true,
    "id": "vG_0DXHr-MMx"
   },
   "outputs": [],
   "source": [
    "# import warnings\n",
    "# warnings.filterwarnings('error')"
   ]
  },
  {
   "cell_type": "markdown",
   "metadata": {
    "colab_type": "text",
    "id": "WCcTUFo1PPg0"
   },
   "source": [
    "## Generate dataset"
   ]
  },
  {
   "cell_type": "code",
   "execution_count": 3,
   "metadata": {
    "colab": {
     "autoexec": {
      "startup": false,
      "wait_interval": 0
     }
    },
    "colab_type": "code",
    "collapsed": true,
    "id": "LB88A1cc0Zhw"
   },
   "outputs": [],
   "source": [
    "def generate_disc_set(nb):\n",
    "    data = torch.Tensor(nb, 2).uniform_(0, 1)\n",
    "    label = ((data - .5) ** 2).sum(1) <= 1 / (2 * np.pi)\n",
    "    return data, convert_to_one_hot_labels(data, label.long())"
   ]
  },
  {
   "cell_type": "code",
   "execution_count": 4,
   "metadata": {
    "colab": {
     "autoexec": {
      "startup": false,
      "wait_interval": 0
     }
    },
    "colab_type": "code",
    "collapsed": true,
    "id": "znNKtC5i4vGy"
   },
   "outputs": [],
   "source": [
    "def convert_to_one_hot_labels(input_, target):\n",
    "    tmp = input_.new(target.size(0), max(0, target.max()) + 1).fill_(0)\n",
    "    tmp.scatter_(1, target.view(-1, 1), 1.0)\n",
    "    return tmp.long()"
   ]
  },
  {
   "cell_type": "markdown",
   "metadata": {
    "colab_type": "text",
    "id": "Dkl1zWuH-MNK"
   },
   "source": [
    "## Modules"
   ]
  },
  {
   "cell_type": "code",
   "execution_count": 5,
   "metadata": {
    "colab": {
     "autoexec": {
      "startup": false,
      "wait_interval": 0
     }
    },
    "colab_type": "code",
    "collapsed": true,
    "id": "nLIxGqq18lRU"
   },
   "outputs": [],
   "source": [
    "class Module(object):\n",
    "    def forward(self, *input):\n",
    "        raise NotImplementedError\n",
    "    def backward(self, *gradwrtoutput):\n",
    "        raise NotImplementedError\n",
    "    def param(self):\n",
    "        return []\n",
    "    def update(self, lr=None, values=None):\n",
    "        pass"
   ]
  },
  {
   "cell_type": "markdown",
   "metadata": {
    "colab_type": "text",
    "id": "oTET_xTXONzs"
   },
   "source": [
    "### Linear"
   ]
  },
  {
   "cell_type": "code",
   "execution_count": 6,
   "metadata": {
    "colab": {
     "autoexec": {
      "startup": false,
      "wait_interval": 0
     }
    },
    "colab_type": "code",
    "collapsed": true,
    "id": "836ukJACCgos"
   },
   "outputs": [],
   "source": [
    "class Linear(Module):\n",
    "    \"\"\"Implements the fully connected layer module\n",
    "    \n",
    "    It requires the number of inputs and outputs.\n",
    "\n",
    "    Weights are initialized assuming that a ReLU module\n",
    "    will be used afterwards. If a Tanh module will be used\n",
    "    instead, it is recommended to set\n",
    "    std_w = 1 / np.sqrt(n_input)\n",
    "    \n",
    "    It is possible to set a default learning rate that will be used\n",
    "    during backpropagation if no other learning rate is stated.\n",
    "    \"\"\"\n",
    "    def __init__(self, n_input, n_output, lr=1e-5,\n",
    "        std_w=None, bias=True, std_b=0):\n",
    "\n",
    "        if std_w is None:\n",
    "            # \"Xavier\" initialization\n",
    "            std_w = 1 / np.sqrt(.5 * n_input)\n",
    "        \n",
    "        # Set parameters\n",
    "        self.lr = lr\n",
    "        self.w = Tensor(n_output, n_input).normal_(0, std_w)\n",
    "        self.dw = Tensor(self.w.shape).zero_()\n",
    "        self.bias = bias\n",
    "        \n",
    "        if bias:\n",
    "            if not std_b:\n",
    "                self.b = Tensor(n_output, 1).fill_(0)\n",
    "            else:\n",
    "                self.b = Tensor(n_output, 1).normal_(0, std_b)\n",
    "            self.db = Tensor(self.b.shape).zero_()\n",
    "\n",
    "    def forward(self, x):\n",
    "        \"\"\"Carries out the forward pass for backpropagation.\"\"\"\n",
    "        self.x = x\n",
    "        self.s = self.w.mm(x.t())\n",
    "        if self.bias:\n",
    "            self.s += self.b\n",
    "        return self.s.t()\n",
    "\n",
    "    def backward(self, grad):\n",
    "        \"\"\"Carries out the backward pass for backpropagation.\n",
    "        It does not update the parameters.\n",
    "        \"\"\"\n",
    "        out = grad.mm(self.w)\n",
    "        self.dw = grad.t().mm(self.x)\n",
    "        if self.bias:\n",
    "            self.db = grad.sum(0).view(self.b.shape)\n",
    "        return out\n",
    "\n",
    "    def param(self):\n",
    "        \"\"\"Returns the list of parameters and gradients.\"\"\"\n",
    "        out = [(self.w, self.dw)]\n",
    "        if self.bias:\n",
    "            out.append((self.b, self.db))\n",
    "        return out\n",
    "    \n",
    "    def update(self, lr=None, values=None):\n",
    "        \"\"\"Updates the parameters with the accumulated gradients.\n",
    "        It must be called explicitly. If no lr is stated, the\n",
    "        default lr of the module is used.\n",
    "        \"\"\"\n",
    "        if lr is None:\n",
    "            lr = self.lr\n",
    "\n",
    "        if values is None:\n",
    "            self.w.add_(-lr * self.dw)\n",
    "            if self.bias:\n",
    "                self.b.add_(-lr * self.db)\n",
    "                self.db = Tensor(self.b.shape).zero_()\n",
    "        else:\n",
    "            self.w.add_(-lr * values[0])\n",
    "            self.dw = Tensor(self.w.shape).zero_()\n",
    "            if self.bias:\n",
    "                self.b.add_(-lr * values[1])\n",
    "                self.db = Tensor(self.b.shape).zero_()"
   ]
  },
  {
   "cell_type": "markdown",
   "metadata": {
    "colab_type": "text",
    "id": "-Mz2pw-7JEU2"
   },
   "source": [
    "### Sequential"
   ]
  },
  {
   "cell_type": "code",
   "execution_count": 7,
   "metadata": {
    "colab": {
     "autoexec": {
      "startup": false,
      "wait_interval": 0
     }
    },
    "colab_type": "code",
    "collapsed": true,
    "id": "4GUf1Y74cmCQ"
   },
   "outputs": [],
   "source": [
    "class Sequential(Module):\n",
    "    \"\"\"Allows to combine several modules sequentially\n",
    "    It is possible to either include a loss module in the Sequential\n",
    "    module or to not include it and use a loss module defined outside\n",
    "    of the Sequential module instead.\n",
    "    \"\"\"\n",
    "    def __init__(self, layers, loss=None):\n",
    "        self.layers = layers\n",
    "        self.loss = loss\n",
    "\n",
    "    def forward(self, x, target=None):\n",
    "        \"\"\"Carries out the forward pass for backpropagation\n",
    "        To do it it calls the forward functions of each individual\n",
    "        module.\n",
    "        \"\"\"\n",
    "        if self.loss is not None:\n",
    "            assert target is not None, \"Target required for loss module\"\n",
    "        for l in self.layers:\n",
    "            x = l.forward(x)\n",
    "        if self.loss is not None:\n",
    "            x = self.loss.forward(x, target)\n",
    "        self.x = x\n",
    "        return x\n",
    "\n",
    "    def backward(self, grad=None):\n",
    "        \"\"\"Carries out the backward pass for backpropagation\n",
    "        To do it it calls the backward functions of each individual\n",
    "        module\n",
    "        \"\"\"\n",
    "        if self.loss is not None:\n",
    "            grad = self.loss.backward()\n",
    "        else:\n",
    "            assert grad is not None, \"Initial gradient required when no loss module defined\"\n",
    "        for l in reversed(self.layers):\n",
    "            grad = l.backward(grad)\n",
    "\n",
    "    def param(self):\n",
    "        return [p for l in self.layers for p in l.param()]\n",
    "    \n",
    "    def update(self, lr=None, values=None):\n",
    "        if values is None:\n",
    "            for l in self.layers:\n",
    "                l.update(lr)\n",
    "        else:\n",
    "            init_p = 0\n",
    "            for l in self.layers:\n",
    "                len_p = len(l.param())\n",
    "                if len_p:\n",
    "                    e_p = values[init_p:init_p + len_p]\n",
    "                    l.update(lr, e_p)\n",
    "                    init_p += len_p\n",
    "                else:\n",
    "                    l.update(lr)"
   ]
  },
  {
   "cell_type": "markdown",
   "metadata": {
    "colab_type": "text",
    "id": "KlFp13k1_-FD"
   },
   "source": [
    "### Dropout"
   ]
  },
  {
   "cell_type": "code",
   "execution_count": 8,
   "metadata": {
    "colab": {
     "autoexec": {
      "startup": false,
      "wait_interval": 0
     }
    },
    "colab_type": "code",
    "collapsed": true,
    "id": "Q4PBipABACC2"
   },
   "outputs": [],
   "source": [
    "class Dropout(Module):\n",
    "    \"\"\"Dropout module\"\"\"\n",
    "    def __init__(self, drop_prob):\n",
    "        self.drop_prob=drop_prob\n",
    "    def forward(self, X):\n",
    "        #Mask with size of input with random numbers between 0 and 1\n",
    "        self.mask = torch.Tensor(X.size()).uniform_()\n",
    "        # Everything with a probability bigger than the drop probability is shutdown\n",
    "        self.mask = (self.mask > self.drop_prob).float()\n",
    "        # Shutdown neurons and normalize\n",
    "        return (X * self.mask)/(1-self.drop_prob)\n",
    "    def backward(self, grad):\n",
    "        #Shutdowm same neurons as in forward pass and normalize\n",
    "        return (grad * self.mask)/(1-self.drop_prob)"
   ]
  },
  {
   "cell_type": "markdown",
   "metadata": {
    "colab_type": "text",
    "id": "fwYAkycv_dv_"
   },
   "source": [
    "## Activation functions"
   ]
  },
  {
   "cell_type": "markdown",
   "metadata": {
    "colab_type": "text",
    "id": "qSrfKi-XB20U"
   },
   "source": [
    "### ReLU"
   ]
  },
  {
   "cell_type": "code",
   "execution_count": 9,
   "metadata": {
    "colab": {
     "autoexec": {
      "startup": false,
      "wait_interval": 0
     }
    },
    "colab_type": "code",
    "collapsed": true,
    "id": "yKmfU_5_CtHc"
   },
   "outputs": [],
   "source": [
    "class ReLU(Module):\n",
    "    \"\"\"Implements the Rectified Linear Unit activation layer\"\"\"\n",
    "    def forward(self, x):\n",
    "        \"\"\"Carries out the forward pass for backpropagation.\"\"\"\n",
    "        self.x = x\n",
    "        return self.x.clamp(min=0)\n",
    "\n",
    "    def backward(self, grad):\n",
    "        \"\"\"Carries out the backward pass for backpropagation.\"\"\"\n",
    "        return grad * Tensor(np.where(self.x <= 0, 0, 1)).view(grad.size())\n",
    "   \n",
    "      \n",
    "class LeakyReLU(Module):\n",
    "    \"\"\"Implements the Leaky ReLU activation layer\"\"\"\n",
    "    def __init__(self, a=.001):\n",
    "        self.a = a\n",
    "        \n",
    "        \"\"\"Carries out the forward pass for backpropagation.\"\"\"\n",
    "        self.x = x\n",
    "        return Tensor(np.where(x >= 0, x, self.a * x ))\n",
    "\n",
    "    def backward(self, grad):\n",
    "        \"\"\"Carries out the backward pass for backpropagation.\"\"\"\n",
    "        return grad * Tensor(np.where(self.x >= 0,\n",
    "            1, self.a)).view(grad.size())"
   ]
  },
  {
   "cell_type": "markdown",
   "metadata": {
    "colab_type": "text",
    "id": "H3vX8Rn8Hy-e"
   },
   "source": [
    "### Tanh"
   ]
  },
  {
   "cell_type": "code",
   "execution_count": 10,
   "metadata": {
    "colab": {
     "autoexec": {
      "startup": false,
      "wait_interval": 0
     }
    },
    "colab_type": "code",
    "collapsed": true,
    "id": "GaTvC1yJC1G1"
   },
   "outputs": [],
   "source": [
    "class Tanh(Module):\n",
    "    \"\"\"Implements the Tanh activation layer\"\"\"\n",
    "    def forward(self, x):\n",
    "        \"\"\"Carries out the forward pass for backpropagation.\"\"\"\n",
    "        self.x_tanh = x.tanh()\n",
    "        return self.x_tanh\n",
    "\n",
    "    def backward(self, grad):\n",
    "        \"\"\"Carries out the backward pass for backpropagation.\"\"\"\n",
    "        return grad * (1 - self.x_tanh ** 2).view(grad.size())"
   ]
  },
  {
   "cell_type": "markdown",
   "metadata": {
    "colab_type": "text",
    "id": "4z25GZt-H3gd"
   },
   "source": [
    "### Sigmoid"
   ]
  },
  {
   "cell_type": "code",
   "execution_count": 11,
   "metadata": {
    "colab": {
     "autoexec": {
      "startup": false,
      "wait_interval": 0
     }
    },
    "colab_type": "code",
    "collapsed": true,
    "id": "OL9mz1iQ6O-d"
   },
   "outputs": [],
   "source": [
    "class Sigmoid(Module):\n",
    "    \"\"\"Implements the Rectified Linear Unit activation layer\n",
    "    It is recommended to use the Tanh module instead.\n",
    "    \"\"\"\n",
    "    def forward(self, x):\n",
    "        \"\"\"Carries out the forward pass for backpropagation.\"\"\"\n",
    "        self.sigmoid = (1 + (x / 2).tanh()) / 2 #With tanh to avoid overflow\n",
    "        return self.sigmoid\n",
    "\n",
    "    def backward(self, grad):\n",
    "        \"\"\"Carries out the backward pass for backpropagation.\"\"\"\n",
    "        out = grad * (self.sigmoid * (1 - self.sigmoid)).view(grad.size())\n",
    "        return out"
   ]
  },
  {
   "cell_type": "markdown",
   "metadata": {
    "colab_type": "text",
    "id": "OgIrybmf_XHk"
   },
   "source": [
    "## Loss functions"
   ]
  },
  {
   "cell_type": "markdown",
   "metadata": {
    "colab_type": "text",
    "id": "8hJOPpRiB6r5"
   },
   "source": [
    "### MSE loss"
   ]
  },
  {
   "cell_type": "code",
   "execution_count": 12,
   "metadata": {
    "colab": {
     "autoexec": {
      "startup": false,
      "wait_interval": 0
     }
    },
    "colab_type": "code",
    "collapsed": true,
    "id": "CS-jegdtUNNb"
   },
   "outputs": [],
   "source": [
    "class LossMSE(Module):\n",
    "    \"\"\"Implements the MSE loss computation\"\"\"\n",
    "    def forward(self, output, target):\n",
    "        \"\"\"Carries out the forward pass for backpropagation.\"\"\"\n",
    "        self.diff = output.float() - target.float().view(output.size())\n",
    "        return (self.diff ** 2).sum()\n",
    "\n",
    "    def backward(self):\n",
    "        \"\"\"Carries out the backward pass for backpropagation.\"\"\"\n",
    "        return self.diff * 2"
   ]
  },
  {
   "cell_type": "code",
   "execution_count": 13,
   "metadata": {
    "colab": {
     "autoexec": {
      "startup": false,
      "wait_interval": 0
     }
    },
    "colab_type": "code",
    "collapsed": true,
    "id": "33kxgr2uA0Ae"
   },
   "outputs": [],
   "source": [
    "class CrossEntropyLoss(Module):\n",
    "    \"\"\"Implements the Cross-Entropy loss computation\"\"\"\n",
    "    def forward(self, output, target):\n",
    "        # Forward pass\n",
    "        self.target = target\n",
    "        self.p = softmax(output) \n",
    "        return -np.log(self.p[self.target]).sum() / len(target)\n",
    "    \n",
    "\n",
    "    def backward(self):\n",
    "        # Backward pass\n",
    "        self.p[self.target.numpy()] -= 1\n",
    "        return self.p / len(self.target)"
   ]
  },
  {
   "cell_type": "code",
   "execution_count": 14,
   "metadata": {
    "colab": {
     "autoexec": {
      "startup": false,
      "wait_interval": 0
     }
    },
    "colab_type": "code",
    "collapsed": true,
    "id": "PY0UXyW9Mq14"
   },
   "outputs": [],
   "source": [
    "def softmax(X):\n",
    "    exps = np.exp(X - X.max())  #Subtract max(X) to avoid overflow\n",
    "    return exps / exps.sum()"
   ]
  },
  {
   "cell_type": "code",
   "execution_count": 15,
   "metadata": {
    "colab": {
     "autoexec": {
      "startup": false,
      "wait_interval": 0
     }
    },
    "colab_type": "code",
    "collapsed": true,
    "id": "4WzMgkX-BMOv"
   },
   "outputs": [],
   "source": [
    "# class softmax(Module):\n",
    "#     '''\n",
    "#     Softmax loss, auxiliary for cross-entropy\n",
    "#     '''\n",
    "#     def forward(self, X):\n",
    "#         exps = np.exp(X - X.max())  #Substract max(X) to avoid overflow\n",
    "#         return exps / exps.sum()\n",
    "#     def backward(self):\n"
   ]
  },
  {
   "cell_type": "markdown",
   "metadata": {
    "colab_type": "text",
    "id": "dA_KJrv4-MN1"
   },
   "source": [
    "## Optimizers"
   ]
  },
  {
   "cell_type": "code",
   "execution_count": 16,
   "metadata": {
    "colab": {
     "autoexec": {
      "startup": false,
      "wait_interval": 0
     }
    },
    "colab_type": "code",
    "collapsed": true,
    "id": "Bphe2-z8-MN1"
   },
   "outputs": [],
   "source": [
    "def compute_labels(predicted):\n",
    "    #new = predicted.clone()\n",
    "    #new[:,0] = 1 - new[:,0]\n",
    "    #res = new.mean(1).round().long()\n",
    "    res = torch.max(predicted, 1, keepdim=False, out=None)[1]\n",
    "    lbl = convert_to_one_hot_labels(Tensor(), res)\n",
    "    return lbl"
   ]
  },
  {
   "cell_type": "code",
   "execution_count": 17,
   "metadata": {
    "colab": {
     "autoexec": {
      "startup": false,
      "wait_interval": 0
     }
    },
    "colab_type": "code",
    "collapsed": true,
    "id": "RrCQEZqO-MN7"
   },
   "outputs": [],
   "source": [
    "class Optimizer(object):\n",
    "    def __init__(self):\n",
    "        self.model = None\n",
    "\n",
    "    def step(self, *input):\n",
    "        raise NotImplementedError\n",
    "\n",
    "    def adaptive_lr(kappa=0.75, eta0=1e-5):\n",
    "        \"\"\"Adaptive learning rate. After creating the lr with the\n",
    "        values for kappa and eta0, it yields the value for the learning\n",
    "        rate of the next iteration. Used for (Stochastic) Gradient Descent\n",
    "        methods.\n",
    "        \"\"\"\n",
    "        t = 1\n",
    "        while True:\n",
    "            yield eta0 * t ** -kappa\n",
    "            t += 1"
   ]
  },
  {
   "cell_type": "markdown",
   "metadata": {
    "colab_type": "text",
    "id": "wXjoAkB6P6S9"
   },
   "source": [
    "### SGD"
   ]
  },
  {
   "cell_type": "code",
   "execution_count": 18,
   "metadata": {
    "colab": {
     "autoexec": {
      "startup": false,
      "wait_interval": 0
     }
    },
    "colab_type": "code",
    "collapsed": true,
    "id": "JNUuIELB-MN-"
   },
   "outputs": [],
   "source": [
    "class SGD(Optimizer):\n",
    "    def __init__(self, a_lr=None):\n",
    "        if a_lr is not None:\n",
    "            self.a_lr = Optimizer.adaptive_lr(kappa=a_lr[0], eta0=a_lr[1])\n",
    "        else:\n",
    "            self.a_lr = None\n",
    "\n",
    "    def step(self, model, loss):      \n",
    "        # Update gradients\n",
    "        if self.a_lr is not None:\n",
    "            next_a_lr = next(self.a_lr)\n",
    "        else:\n",
    "            next_a_lr = None\n",
    "        model.update(lr=next_a_lr)"
   ]
  },
  {
   "cell_type": "markdown",
   "metadata": {
    "colab_type": "text",
    "id": "kee_ZwQ5-MOA"
   },
   "source": [
    "### Adam"
   ]
  },
  {
   "cell_type": "code",
   "execution_count": 19,
   "metadata": {
    "colab": {
     "autoexec": {
      "startup": false,
      "wait_interval": 0
     }
    },
    "colab_type": "code",
    "collapsed": true,
    "id": "AqdyuHtZ-MOB"
   },
   "outputs": [],
   "source": [
    "def compute_adam_moment_estimates(m_t_old, v_t_old, gradient,\n",
    "    beta1, beta2, epsilon, t):\n",
    "    # compute bias-corrected first moment estimate\n",
    "    m_t = (beta1 * m_t_old + (1 - beta1) * gradient)\n",
    "    # compute bias-corrected second raw moment estimate\n",
    "    v_t = (beta2 * v_t_old + (1 - beta2) * gradient.pow(2))\n",
    "\n",
    "    out = (m_t / (1 - beta1 ** (t+1)) /\n",
    "        ((v_t / (1 - beta2 ** (t+1))).sqrt() + epsilon))\n",
    "\n",
    "    return out, m_t, v_t"
   ]
  },
  {
   "cell_type": "code",
   "execution_count": 20,
   "metadata": {
    "colab": {
     "autoexec": {
      "startup": false,
      "wait_interval": 0
     }
    },
    "colab_type": "code",
    "collapsed": true,
    "id": "Q3HpCn74-MOD"
   },
   "outputs": [],
   "source": [
    "class Adam(Optimizer):\n",
    "    def __init__(self, alpha=1e-3, beta1=.9, beta2=.999, epsilon=1e-8):\n",
    "        self.alpha = alpha\n",
    "        self.beta1 = beta1\n",
    "        self.beta2 = beta2\n",
    "        self.epsilon = epsilon\n",
    "        self.t = 1\n",
    "        self.m_prev = None\n",
    "        self.v_prev = None\n",
    "\n",
    "    def restart(self):\n",
    "        self.t = 1\n",
    "        self.m_prev = None\n",
    "        self.v_prev = None\n",
    "        \n",
    "    def step(self, model, loss):       \n",
    "        if self.m_prev is None:\n",
    "            # 1st moment vector\n",
    "            self.m_prev = [x[1].clone().fill_(0) for x in model.param()]\n",
    "        if self.v_prev is None:\n",
    "            # 2nd moment vector\n",
    "            self.v_prev = [x[1].clone().fill_(0) for x in model.param()]\n",
    "\n",
    "        # Update parameters\n",
    "        m_e = [compute_adam_moment_estimates(m_p, v_p, g[1], self.beta1,\n",
    "            self.beta2, self.epsilon, self.t) for g, (m_p, v_p) in\n",
    "            zip(model.param(), zip(self.m_prev, self.v_prev))]\n",
    "        \n",
    "        out = [p[0] for p in m_e]\n",
    "        self.m_prev = [p[1] for p in m_e]\n",
    "        self.v_prev = [p[2] for p in m_e]\n",
    "\n",
    "        model.update(lr=self.alpha, values=out)\n",
    "        self.t += 1"
   ]
  },
  {
   "cell_type": "markdown",
   "metadata": {
    "colab_type": "text",
    "id": "tyHjV9jr-MOE"
   },
   "source": [
    "## Run"
   ]
  },
  {
   "cell_type": "code",
   "execution_count": 21,
   "metadata": {
    "colab": {
     "autoexec": {
      "startup": false,
      "wait_interval": 0
     }
    },
    "colab_type": "code",
    "collapsed": true,
    "id": "W0dMLgHk-MOF"
   },
   "outputs": [],
   "source": [
    "def test(model, loss, test_input, test_target):\n",
    "    # Get output and loss\n",
    "    output = model.forward(test_input)\n",
    "    L = loss.forward(output, test_target)\n",
    "    # Get predicted labels\n",
    "    labels = compute_labels(output)[:,0]\n",
    "    # Compute accuracy\n",
    "    errors = (test_target[:,0] != labels).sum()\n",
    "    accuracy = (len(test_target) - errors) / len(test_target)\n",
    "    \n",
    "    print('Loss {:.08f}  Accuracy {:.02f}  Errors {}'.format(\n",
    "        L, accuracy, errors))\n",
    "\n",
    "    return accuracy, labels"
   ]
  },
  {
   "cell_type": "code",
   "execution_count": 22,
   "metadata": {
    "colab": {
     "autoexec": {
      "startup": false,
      "wait_interval": 0
     }
    },
    "colab_type": "code",
    "collapsed": true,
    "id": "PsXER4sJ-MOH"
   },
   "outputs": [],
   "source": [
    "def predict(model, input_):\n",
    "    # Get output\n",
    "    output = model.forward(input_)\n",
    "    # Get predicted labels\n",
    "    labels = compute_labels(output)[:,0]\n",
    "    return labels"
   ]
  },
  {
   "cell_type": "code",
   "execution_count": 23,
   "metadata": {
    "colab": {
     "autoexec": {
      "startup": false,
      "wait_interval": 0
     }
    },
    "colab_type": "code",
    "collapsed": true,
    "id": "_OVn_JMv-MOJ"
   },
   "outputs": [],
   "source": [
    "def train(optimizer, model, loss, n_epochs, mini_batch_size,\n",
    "    train_input, train_target, verbose=True):\n",
    "    \n",
    "    output_vals = Tensor()\n",
    "    max_range = None\n",
    "\n",
    "    if train_input.size(0) % mini_batch_size == 0:\n",
    "        max_range = train_input.size(0)\n",
    "    else:\n",
    "        max_range = train_input.size(0) - mini_batch_size\n",
    "\n",
    "    for e in range(n_epochs):\n",
    "        L_tot = 0\n",
    "        errors_tot = 0\n",
    "        pred_acc = Tensor().long()\n",
    "\n",
    "        for b in range(0, max_range, mini_batch_size):\n",
    "            d = train_input.narrow(0, b, mini_batch_size)\n",
    "            l = train_target.narrow(0, b, mini_batch_size)\n",
    "            \n",
    "            # Forward pass\n",
    "            output = model.forward(d)\n",
    "            L = loss.forward(output, l)\n",
    "\n",
    "            # Backward pass\n",
    "            grad = loss.backward()\n",
    "            model.backward(grad)\n",
    "            \n",
    "            optimizer.step(model, loss)\n",
    "            \n",
    "            # Compute total loss\n",
    "            L_tot += L\n",
    "\n",
    "            # Compute accuracy\n",
    "            r = compute_labels(output)[:,0]\n",
    "            pred_acc = torch.cat([pred_acc, r])\n",
    "            errors = (l[:,0] != r).sum()\n",
    "            errors_tot += errors\n",
    "\n",
    "        accuracy = (len(train_target) - errors_tot) / len(train_target)\n",
    "        if verbose:\n",
    "            print('Epoch {:d}  Loss {:.08f}  Accuracy {:.02f}  Errors {}'.format(\n",
    "                e, L_tot, accuracy, errors_tot))\n",
    "\n",
    "    return accuracy, pred_acc"
   ]
  },
  {
   "cell_type": "code",
   "execution_count": 24,
   "metadata": {
    "colab": {
     "autoexec": {
      "startup": false,
      "wait_interval": 0
     },
     "base_uri": "https://localhost:8080/",
     "height": 347
    },
    "colab_type": "code",
    "executionInfo": {
     "elapsed": 692,
     "status": "ok",
     "timestamp": 1525253503599,
     "user": {
      "displayName": "Lucía Montero",
      "photoUrl": "//lh6.googleusercontent.com/-Ww5K6BI_qeA/AAAAAAAAAAI/AAAAAAAAARM/-MLT50nAXhA/s50-c-k-no/photo.jpg",
      "userId": "110608870269195945728"
     },
     "user_tz": -120
    },
    "id": "MVjI_Rpy-MOL",
    "outputId": "55d1f85b-317e-44cf-c69c-d9ddf1288f11"
   },
   "outputs": [
    {
     "data": {
      "image/png": "[encoded data removed]",
      "text/plain": [
       "<matplotlib.figure.Figure at 0x7ff452191be0>"
      ]
     },
     "metadata": {},
     "output_type": "display_data"
    }
   ],
   "source": [
    "train_input, train_target = generate_disc_set(1000)\n",
    "data_0 = train_input[train_target[:,0].nonzero(),:].view(-1,2)\n",
    "data_1 = train_input[train_target[:,1].nonzero(),:].view(-1,2)\n",
    "\n",
    "# Plot data points\n",
    "import matplotlib.pyplot as plt\n",
    "\n",
    "def plot_points(input_, target, pred=None, alpha=.5, highlight_errors=True,\n",
    "    errors_color=\"red\"):\n",
    "    if highlight_errors:\n",
    "        assert pred is not None\n",
    "    input_0 = input_[target[:,0].nonzero(),:].view(-1,2)\n",
    "    input_1 = input_[target[:,1].nonzero(),:].view(-1,2)\n",
    "    plt.scatter(input_0[:,0], input_0[:,1], c=\"gray\", alpha=1)\n",
    "    plt.scatter(input_1[:,0], input_1[:,1], c=\"lightgray\", alpha=1)\n",
    "    if highlight_errors:\n",
    "        idx = (pred != target[:,0]).nonzero()\n",
    "        if len(idx.shape):\n",
    "            errors = input_[idx,:].view(-1,2)\n",
    "            plt.scatter(errors[:,0], errors[:,1], c=errors_color, alpha=alpha)\n",
    "    plt.show() \n",
    "    \n",
    "plot_points(train_input, train_target, highlight_errors=False)"
   ]
  },
  {
   "cell_type": "markdown",
   "metadata": {
    "colab_type": "text",
    "id": "aVBaodOn-MOP"
   },
   "source": [
    "#### Run with SGD:"
   ]
  },
  {
   "cell_type": "code",
   "execution_count": 25,
   "metadata": {
    "colab": {
     "autoexec": {
      "startup": false,
      "wait_interval": 0
     },
     "base_uri": "https://localhost:8080/",
     "height": 364
    },
    "colab_type": "code",
    "executionInfo": {
     "elapsed": 1645,
     "status": "ok",
     "timestamp": 1525253683804,
     "user": {
      "displayName": "Lucía Montero",
      "photoUrl": "//lh6.googleusercontent.com/-Ww5K6BI_qeA/AAAAAAAAAAI/AAAAAAAAARM/-MLT50nAXhA/s50-c-k-no/photo.jpg",
      "userId": "110608870269195945728"
     },
     "user_tz": -120
    },
    "id": "_7tLN8nvAyvj",
    "outputId": "f19ca89d-e5cc-4b2a-ed00-cc2497ccfcd9"
   },
   "outputs": [
    {
     "name": "stdout",
     "output_type": "stream",
     "text": [
      "Training Accuracy: 0.975\n"
     ]
    },
    {
     "data": {
      "image/png": "[encoded data removed]",
      "text/plain": [
       "<matplotlib.figure.Figure at 0x7ff4524376d8>"
      ]
     },
     "metadata": {},
     "output_type": "display_data"
    }
   ],
   "source": [
    "k, e0, mb = (.6, 3.5e-2, 50)\n",
    "\n",
    "hl1 = [Linear(2, 25, lr=0), ReLU()]\n",
    "hl2 = [Linear(25, 25, lr=0), ReLU()]\n",
    "hl3 = [Linear(25, 30, lr=0), ReLU()]\n",
    "out = [Linear(30, 2, lr=0), Sigmoid()]\n",
    "\n",
    "model = Sequential(hl1 + hl2 + hl3 + out)\n",
    "\n",
    "loss = LossMSE()\n",
    "#loss = CrossEntropyLoss()\n",
    "\n",
    "sgd = SGD([k, e0])\n",
    "\n",
    "tr_acc, train_pred = train(sgd, model, loss, 50, mb, train_input, train_target, verbose=False)\n",
    "print(\"Training Accuracy: {}\".format(tr_acc))\n",
    "plot_points(train_input, train_target, train_pred, highlight_errors=True)"
   ]
  },
  {
   "cell_type": "code",
   "execution_count": 26,
   "metadata": {
    "colab": {
     "autoexec": {
      "startup": false,
      "wait_interval": 0
     },
     "base_uri": "https://localhost:8080/",
     "height": 381
    },
    "colab_type": "code",
    "executionInfo": {
     "elapsed": 737,
     "status": "ok",
     "timestamp": 1525253688938,
     "user": {
      "displayName": "Lucía Montero",
      "photoUrl": "//lh6.googleusercontent.com/-Ww5K6BI_qeA/AAAAAAAAAAI/AAAAAAAAARM/-MLT50nAXhA/s50-c-k-no/photo.jpg",
      "userId": "110608870269195945728"
     },
     "user_tz": -120
    },
    "id": "ZvMWQwJyDYvQ",
    "outputId": "9dc2d454-8d3f-4f79-87cf-99f1158039d5"
   },
   "outputs": [
    {
     "name": "stdout",
     "output_type": "stream",
     "text": [
      "Loss 95.64481162  Accuracy 0.96  Errors 42\n",
      "Testing Accuracy: 0.958\n"
     ]
    },
    {
     "data": {
      "image/png": "[encoded data removed]",
      "text/plain": [
       "<matplotlib.figure.Figure at 0x7ff452420710>"
      ]
     },
     "metadata": {},
     "output_type": "display_data"
    }
   ],
   "source": [
    "test_input, test_target = generate_disc_set(1000)\n",
    "\n",
    "te_acc, test_pred = test(model, loss, test_input, test_target)\n",
    "\n",
    "print(\"Testing Accuracy: {}\".format(te_acc))\n",
    "plot_points(test_input, test_target, test_pred, highlight_errors=True)"
   ]
  },
  {
   "cell_type": "markdown",
   "metadata": {
    "colab_type": "text",
    "id": "oIbg2H5A-MOW"
   },
   "source": [
    "#### Run with Adam"
   ]
  },
  {
   "cell_type": "code",
   "execution_count": 27,
   "metadata": {
    "colab": {
     "autoexec": {
      "startup": false,
      "wait_interval": 0
     },
     "base_uri": "https://localhost:8080/",
     "height": 364
    },
    "colab_type": "code",
    "executionInfo": {
     "elapsed": 2526,
     "status": "ok",
     "timestamp": 1525253513015,
     "user": {
      "displayName": "Lucía Montero",
      "photoUrl": "//lh6.googleusercontent.com/-Ww5K6BI_qeA/AAAAAAAAAAI/AAAAAAAAARM/-MLT50nAXhA/s50-c-k-no/photo.jpg",
      "userId": "110608870269195945728"
     },
     "user_tz": -120
    },
    "id": "E3U0Wk_b-MOY",
    "outputId": "8d957046-e5a8-4629-dda0-cf22dbd094b6"
   },
   "outputs": [
    {
     "name": "stdout",
     "output_type": "stream",
     "text": [
      "Training Accuracy: 0.991\n"
     ]
    },
    {
     "data": {
      "image/png": "[encoded data removed]",
      "text/plain": [
       "<matplotlib.figure.Figure at 0x7ff452437400>"
      ]
     },
     "metadata": {},
     "output_type": "display_data"
    }
   ],
   "source": [
    "k, e0, mb = (.6, 3.5e-2, 50)\n",
    "\n",
    "hl1 = [Linear(2, 25, lr=0), ReLU()]\n",
    "hl2 = [Linear(25, 25, lr=0), ReLU()]\n",
    "hl3 = [Linear(25, 30, lr=0), ReLU()]\n",
    "out = [Linear(30, 2, lr=0), Sigmoid()]\n",
    "\n",
    "model = Sequential(hl1 + hl2 + hl3 + out)\n",
    "\n",
    "loss = LossMSE()\n",
    "\n",
    "adam = Adam()\n",
    "\n",
    "tr_acc, train_pred = train(adam, model, loss, 50, mb, train_input, train_target, verbose=False)\n",
    "print(\"Training Accuracy: {}\".format(tr_acc))\n",
    "plot_points(train_input, train_target, train_pred, highlight_errors=True)"
   ]
  },
  {
   "cell_type": "code",
   "execution_count": 28,
   "metadata": {
    "colab": {
     "autoexec": {
      "startup": false,
      "wait_interval": 0
     },
     "base_uri": "https://localhost:8080/",
     "height": 381
    },
    "colab_type": "code",
    "executionInfo": {
     "elapsed": 1126,
     "status": "ok",
     "timestamp": 1525253514561,
     "user": {
      "displayName": "Lucía Montero",
      "photoUrl": "//lh6.googleusercontent.com/-Ww5K6BI_qeA/AAAAAAAAAAI/AAAAAAAAARM/-MLT50nAXhA/s50-c-k-no/photo.jpg",
      "userId": "110608870269195945728"
     },
     "user_tz": -120
    },
    "id": "fPLk-tNJ-89B",
    "outputId": "743f73cd-7990-49b2-b6eb-da3af6d52539"
   },
   "outputs": [
    {
     "name": "stdout",
     "output_type": "stream",
     "text": [
      "Loss 45.99411059  Accuracy 0.98  Errors 16\n",
      "Testing Accuracy: 0.984\n"
     ]
    },
    {
     "data": {
      "image/png": "[encoded data removed]",
      "text/plain": [
       "<matplotlib.figure.Figure at 0x7ff4500e8c50>"
      ]
     },
     "metadata": {},
     "output_type": "display_data"
    }
   ],
   "source": [
    "test_input, test_target = generate_disc_set(1000)\n",
    "\n",
    "te_acc, test_pred = test(model, loss, test_input, test_target)\n",
    "\n",
    "print(\"Testing Accuracy: {}\".format(te_acc))\n",
    "plot_points(test_input, test_target, test_pred, highlight_errors=True)"
   ]
  },
  {
   "cell_type": "code",
   "execution_count": 0,
   "metadata": {
    "colab": {
     "autoexec": {
      "startup": false,
      "wait_interval": 0
     }
    },
    "colab_type": "code",
    "collapsed": true,
    "id": "B2PwuLgK-_Ch"
   },
   "outputs": [],
   "source": []
  }
 ],
 "metadata": {
  "colab": {
   "collapsed_sections": [],
   "default_view": {},
   "name": "Project2_2.ipynb",
   "provenance": [],
   "version": "0.3.2",
   "views": {}
  },
  "kernelspec": {
   "display_name": "Python 3",
   "language": "python",
   "name": "python3"
  },
  "language_info": {
   "codemirror_mode": {
    "name": "ipython",
    "version": 3
   },
   "file_extension": ".py",
   "mimetype": "text/x-python",
   "name": "python",
   "nbconvert_exporter": "python",
   "pygments_lexer": "ipython3",
   "version": "3.6.3"
  }
 },
 "nbformat": 4,
 "nbformat_minor": 1
}
