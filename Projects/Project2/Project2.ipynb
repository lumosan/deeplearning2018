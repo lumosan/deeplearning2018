{
 "cells": [
  {
   "cell_type": "code",
   "execution_count": 1,
   "metadata": {
    "collapsed": true
   },
   "outputs": [],
   "source": [
    "import torch\n",
    "from torch import Tensor\n",
    "import numpy as np"
   ]
  },
  {
   "cell_type": "markdown",
   "metadata": {},
   "source": [
    "#### Modules"
   ]
  },
  {
   "cell_type": "code",
   "execution_count": 2,
   "metadata": {
    "collapsed": true
   },
   "outputs": [],
   "source": [
    "class Module(object):\n",
    "    def forward(self, *input):\n",
    "        raise NotImplementedError\n",
    "    def backward(self, *gradwrtoutput):\n",
    "        raise NotImplementedError\n",
    "    def param(self):\n",
    "        return []\n",
    "    def update(self, lr=None):\n",
    "        pass"
   ]
  },
  {
   "cell_type": "code",
   "execution_count": 3,
   "metadata": {
    "collapsed": true
   },
   "outputs": [],
   "source": [
    "class Linear(Module):\n",
    "    \"\"\"Implements the fully connected layer module\n",
    "    \n",
    "    It requires the number of inputs and outputs.\n",
    "\n",
    "    Weights are initialized assuming that a ReLU module\n",
    "    will be used afterwards. If a Tanh module will be used\n",
    "    instead, it is recommended to set\n",
    "    std_w = 1 / np.sqrt(n_input)\n",
    "    \n",
    "    It is possible to set a default learning rate that will be used\n",
    "    during backpropagation if no other learning rate is stated.\n",
    "    \"\"\"\n",
    "    def __init__(self, n_input, n_output, lr=1e-5,\n",
    "        std_w=None, bias=True, std_b=0):\n",
    "\n",
    "        if std_w is None:\n",
    "            # \"Xavier\" initialization\n",
    "            std_w = 1 / np.sqrt(.5 * n_input)\n",
    "        \n",
    "        # Set parameters\n",
    "        self.lr = lr\n",
    "        self.w = Tensor(n_output, n_input).normal_(0, std_w)\n",
    "        self.dw = Tensor(self.w.size()).zero_()\n",
    "        self.cum_dw = Tensor(self.w.size()).zero_()\n",
    "        self.bias = bias\n",
    "        \n",
    "        if bias:\n",
    "            if not std_b:\n",
    "                self.b = Tensor(n_output, 1).fill_(0)\n",
    "            else:\n",
    "                self.b = Tensor(n_output, 1).normal_(0, std_b)\n",
    "            self.db = Tensor(self.b.size()).zero_()\n",
    "            self.cum_db = Tensor(self.b.size()).zero_()\n",
    "\n",
    "    def forward(self, x):\n",
    "        \"\"\"Carries out the forward pass for backpropagation.\"\"\"\n",
    "        if len(x.shape) < 2:\n",
    "            # reshape if required\n",
    "            x = x.view(-1,1)\n",
    "        self.x = x\n",
    "        self.s = self.w @ x\n",
    "        if self.bias:\n",
    "            self.s += self.b\n",
    "        return self.s\n",
    "\n",
    "    def backward(self, grad):\n",
    "        \"\"\"Carries out the backward pass for backpropagation.\n",
    "        It does not update the parameters.\n",
    "        \"\"\"\n",
    "        if len(grad.shape) < 2:\n",
    "            # reshape if required\n",
    "            grad = grad.view(1,-1)\n",
    "        out = grad @ self.w\n",
    "        self.dw = (self.x @ grad).t()\n",
    "        self.cum_dw.add_(self.dw)\n",
    "        if self.bias:\n",
    "            self.db = grad.t()\n",
    "            self.cum_db.add_(self.db)\n",
    "        return out\n",
    "\n",
    "    def param(self):\n",
    "        \"\"\"Returns the list of parameters and gradients.\"\"\"\n",
    "        out = [(self.w, self.dw)]\n",
    "        if self.bias:\n",
    "            out.append((self.b, self.db))\n",
    "        return out\n",
    "    \n",
    "    def update(self, lr=None):\n",
    "        \"\"\"Updates the parameters with the accumulated gradients.\n",
    "        It must be called explicitly. If no lr is stated, the\n",
    "        default lr of the module is used.\n",
    "        \"\"\"\n",
    "        if lr is None:\n",
    "            lr = self.lr\n",
    "        self.w.add_(-lr * self.cum_dw)\n",
    "        self.cum_dw = Tensor(self.w.size()).zero_()\n",
    "        if self.bias:\n",
    "            self.b.add_(-lr * self.cum_db)\n",
    "            self.cum_db = Tensor(self.b.size()).zero_()"
   ]
  },
  {
   "cell_type": "code",
   "execution_count": 4,
   "metadata": {
    "collapsed": true
   },
   "outputs": [],
   "source": [
    "class ReLU(Module):\n",
    "    \"\"\"Implements the Rectified Linear Unit activation layer\"\"\"\n",
    "    def forward(self, x):\n",
    "        \"\"\"Carries out the forward pass for backpropagation.\"\"\"\n",
    "        self.x = x\n",
    "        return self.x.clamp(min=0)\n",
    "\n",
    "    def backward(self, grad):\n",
    "        \"\"\"Carries out the backward pass for backpropagation.\"\"\"\n",
    "        return grad * Tensor(np.where(self.x <= 0,\n",
    "            0, 1)).view(grad.size())"
   ]
  },
  {
   "cell_type": "code",
   "execution_count": 5,
   "metadata": {
    "collapsed": true
   },
   "outputs": [],
   "source": [
    "class LeakyReLU(Module):\n",
    "    \"\"\"Implements the Leaky ReLU activation layer\"\"\"\n",
    "    def __init__(self, a=.001):\n",
    "        self.a = a\n",
    "        \n",
    "        \"\"\"Carries out the forward pass for backpropagation.\"\"\"\n",
    "        self.x = x\n",
    "        return Tensor(np.where(x >= 0, x, self.a * x ))\n",
    "\n",
    "    def backward(self, grad):\n",
    "        \"\"\"Carries out the backward pass for backpropagation.\"\"\"\n",
    "        return grad * Tensor(np.where(self.x >= 0,\n",
    "            1, self.a)).view(grad.size())"
   ]
  },
  {
   "cell_type": "code",
   "execution_count": 6,
   "metadata": {
    "collapsed": true
   },
   "outputs": [],
   "source": [
    "class Tanh(Module):\n",
    "    \"\"\"Implements the Tanh activation layer\"\"\"\n",
    "    def forward(self, x):\n",
    "        \"\"\"Carries out the forward pass for backpropagation.\"\"\"\n",
    "        self.x_tanh = x.tanh()\n",
    "        return self.x_tanh\n",
    "\n",
    "    def backward(self, grad):\n",
    "        \"\"\"Carries out the backward pass for backpropagation.\"\"\"\n",
    "        return grad * (1 - self.x_tanh ** 2).view(grad.size())"
   ]
  },
  {
   "cell_type": "code",
   "execution_count": 7,
   "metadata": {
    "collapsed": true
   },
   "outputs": [],
   "source": [
    "class Sigmoid(Module):\n",
    "    \"\"\"Implements the Rectified Linear Unit activation layer\n",
    "    It is recommended to use the Tanh module instead.\n",
    "    \"\"\"\n",
    "    def forward(self, x):\n",
    "        \"\"\"Carries out the forward pass for backpropagation.\"\"\"\n",
    "        self.sigmoid = (1 + (x / 2).tanh()) / 2\n",
    "        return self.sigmoid\n",
    "\n",
    "    def backward(self, grad):\n",
    "        \"\"\"Carries out the backward pass for backpropagation.\"\"\"\n",
    "        return grad * (self.sigmoid * (1 - self.sigmoid)).view(grad.size())"
   ]
  },
  {
   "cell_type": "code",
   "execution_count": 8,
   "metadata": {
    "collapsed": true
   },
   "outputs": [],
   "source": [
    "class LossMSE(Module):\n",
    "    \"\"\"Implements the MSE loss computation\"\"\"\n",
    "    def forward(self, output, target):\n",
    "        \"\"\"Carries out the forward pass for backpropagation.\"\"\"\n",
    "        self.diff = output.float() - target.float().view(output.size())\n",
    "        return (self.diff ** 2).sum()\n",
    "\n",
    "    def backward(self):\n",
    "        \"\"\"Carries out the backward pass for backpropagation.\"\"\"\n",
    "        return self.diff * 2"
   ]
  },
  {
   "cell_type": "code",
   "execution_count": 9,
   "metadata": {
    "collapsed": true
   },
   "outputs": [],
   "source": [
    "class Sequential(Module):\n",
    "    \"\"\"Allows to combine several modules sequentially\n",
    "    It is possible to either include a loss module in the Sequential\n",
    "    module or to not include it and use a loss module defined outside\n",
    "    of the Sequential module instead.\n",
    "    \"\"\"\n",
    "    def __init__(self, layers, loss=None):\n",
    "        self.layers = layers\n",
    "        self.loss = loss\n",
    "\n",
    "    def forward(self, x, target=None):\n",
    "        \"\"\"Carries out the forward pass for backpropagation\n",
    "        To do it it calls the forward functions of each individual\n",
    "        module.\n",
    "        \"\"\"\n",
    "        if self.loss is not None:\n",
    "            assert target is not None, \"Target required for loss module\"\n",
    "        for l in self.layers:\n",
    "            x = l.forward(x)\n",
    "        if self.loss is not None:\n",
    "            x = self.loss.forward(x, target)\n",
    "        self.x = x\n",
    "        return x\n",
    "\n",
    "    def backward(self, grad=None):\n",
    "        \"\"\"Carries out the backward pass for backpropagation\n",
    "        To do it it calls the backward functions of each individual\n",
    "        module\n",
    "        \"\"\"\n",
    "        if self.loss is not None:\n",
    "            grad = self.loss.backward()\n",
    "        else:\n",
    "            assert grad is not None, \"Initial gradient required when no loss module defined\"\n",
    "        for l in reversed(self.layers):\n",
    "            grad = l.backward(grad)\n",
    "\n",
    "    def param(self):\n",
    "        return [p for l in layers for p in l.param()]\n",
    "    \n",
    "    def update(self, lr=None):\n",
    "        for l in self.layers:\n",
    "            l.update(lr)"
   ]
  },
  {
   "cell_type": "code",
   "execution_count": 10,
   "metadata": {},
   "outputs": [
    {
     "name": "stdout",
     "output_type": "stream",
     "text": [
      "L:0.3130382299423218\n",
      "L:0.5811281204223633\n"
     ]
    }
   ],
   "source": [
    "## Example 1:\n",
    "\n",
    "l1 = Linear(3, 2, lr=.1)\n",
    "l2 = Tanh()\n",
    "l3 = Linear(2, 1, lr=.1)\n",
    "l4 = Tanh()\n",
    "\n",
    "layers = [l1, l2, l3, l4]\n",
    "loss = LossMSE()\n",
    "\n",
    "s = Sequential(layers, loss)\n",
    "\n",
    "#Forward\n",
    "x = Tensor([1,.5,1])\n",
    "L = s.forward(x, Tensor([1]))\n",
    "print(\"L:{}\".format(L))\n",
    "\n",
    "#Backward\n",
    "s.backward()\n",
    "\n",
    "\n",
    "\n",
    "## Example 2:\n",
    "\n",
    "l1 = Linear(3, 2, lr=.1)\n",
    "l2 = Tanh()\n",
    "l3 = Linear(2, 1, lr=.1)\n",
    "l4 = Tanh()\n",
    "\n",
    "layers = [l1, l2, l3, l4]\n",
    "loss = LossMSE()\n",
    "\n",
    "s = Sequential(layers)\n",
    "\n",
    "#Forward\n",
    "x = Tensor([1,.5,1])\n",
    "y = s.forward(x)\n",
    "\n",
    "L = loss.forward(y, Tensor([1]))\n",
    "print(\"L:{}\".format(L))\n",
    "\n",
    "#Backward\n",
    "grad = loss.backward()\n",
    "s.backward(grad)"
   ]
  },
  {
   "cell_type": "markdown",
   "metadata": {},
   "source": [
    "#### Training"
   ]
  },
  {
   "cell_type": "code",
   "execution_count": 11,
   "metadata": {
    "collapsed": true
   },
   "outputs": [],
   "source": [
    "def adaptive_lr(kappa=0.75, eta0=1e-5):\n",
    "    \"\"\"Adaptive learning rate. After creating the lr with the\n",
    "    values for kappa and eta0, it yields the value for the learning\n",
    "    rate of the next iteration. Used for (Stochastic) Gradient Descent\n",
    "    methods.\n",
    "    \"\"\"\n",
    "    t = 1\n",
    "    while True:\n",
    "        yield eta0 * t ** -kappa\n",
    "        t += 1"
   ]
  },
  {
   "cell_type": "code",
   "execution_count": 12,
   "metadata": {
    "collapsed": true
   },
   "outputs": [],
   "source": [
    "def SGD(model, loss, train_input, train_target, n_epochs, mini_batch_size, a_lr):\n",
    "    \"\"\"Trains a model, which is usually defined as a Sequential module\"\"\"\n",
    "    for e in range(n_epochs):\n",
    "        L_tot = 0\n",
    "        errors_tot = 0\n",
    "\n",
    "        p = np.random.permutation(len(train_target))\n",
    "        train_zipped = zip(train_input[p], train_target[p])\n",
    "        predicted_labels = []        \n",
    "        \n",
    "        for i, (data, label) in enumerate(train_zipped):\n",
    "            d = Tensor(data)\n",
    "            l = Tensor(1).fill_(label)\n",
    "\n",
    "            # Forward pass\n",
    "            output = model.forward(d)\n",
    "            L = loss.forward(output, l)\n",
    "            predicted_labels.append(output)            \n",
    "\n",
    "            # Backward pass\n",
    "            grad = loss.backward()\n",
    "            model.backward(grad)\n",
    "\n",
    "            # update gradients\n",
    "            if not (i + 1) % mini_batch_size:\n",
    "                next_a_lr = next(a_lr)\n",
    "                model.update(next_a_lr)\n",
    "            \n",
    "            # Compute total loss and accuracy\n",
    "            L_tot += L\n",
    "            errors = (l != (output >= 0.5).float() ).sum()\n",
    "            errors_tot += errors\n",
    "            \n",
    "        next_a_lr = next(a_lr)\n",
    "        model.update(next_a_lr)\n",
    "\n",
    "        accuracy = (len(train_target) - errors_tot) / len(train_target)\n",
    "        print('Epoch {:d}  Loss {:.08f}  Accuracy {:.02f}  Errors {}'.format(\n",
    "            e, L_tot, accuracy, errors_tot))\n",
    "    \n",
    "    return train_input[p], train_target[p], np.array(predicted_labels)"
   ]
  },
  {
   "cell_type": "markdown",
   "metadata": {},
   "source": [
    "#### Generate dataset\n",
    "\n",
    "Where is the disk centered? We assume (0,0)"
   ]
  },
  {
   "cell_type": "code",
   "execution_count": 13,
   "metadata": {
    "collapsed": true
   },
   "outputs": [],
   "source": [
    "def generate_disc_set(nb):\n",
    "    data = np.random.uniform(0, 1, size=(nb, 2))\n",
    "    label = ((data - .5) ** 2).sum(1) <= 1 / (2 * np.pi)\n",
    "    return data, label.astype(float)"
   ]
  },
  {
   "cell_type": "code",
   "execution_count": 14,
   "metadata": {
    "collapsed": true
   },
   "outputs": [],
   "source": [
    "train_input, train_target = generate_disc_set(1000)\n",
    "train_data_0 = train_input[train_target == 0]\n",
    "train_data_1 = train_input[train_target == 1]"
   ]
  },
  {
   "cell_type": "code",
   "execution_count": 15,
   "metadata": {},
   "outputs": [
    {
     "data": {
      "image/png": "[encoded data removed]",
      "text/plain": [
       "<matplotlib.figure.Figure at 0x7f2f6191d710>"
      ]
     },
     "metadata": {},
     "output_type": "display_data"
    }
   ],
   "source": [
    "# Plot data points\n",
    "import matplotlib.pyplot as plt\n",
    "plt.scatter(train_data_0.transpose()[0], train_data_0.transpose()[1], c=\"red\")\n",
    "plt.scatter(train_data_1.transpose()[0], train_data_1.transpose()[1], c=\"blue\")\n",
    "plt.show()"
   ]
  },
  {
   "cell_type": "markdown",
   "metadata": {},
   "source": [
    "#### Test\n",
    "Why two output units?"
   ]
  },
  {
   "cell_type": "code",
   "execution_count": 16,
   "metadata": {
    "collapsed": true
   },
   "outputs": [],
   "source": [
    "def get_rand_params():\n",
    "    \"\"\"Generates random parameters for testing purposes\"\"\"\n",
    "    kappas = np.linspace(.5, .95, 30)\n",
    "    #kappas = np.linspace(.76, .92, 10)\n",
    "    \n",
    "    etas = np.logspace(-7, -1, 30)\n",
    "    #etas = np.logspace(-4.32, -2, 10)\n",
    "    \n",
    "    mbs = np.linspace(20, 160, 30).round()\n",
    "    \n",
    "    return (np.random.choice(kappas),\n",
    "           np.random.choice(etas),\n",
    "           np.random.choice(mbs))"
   ]
  },
  {
   "cell_type": "raw",
   "metadata": {
    "scrolled": true
   },
   "source": [
    "# Iterate through several combinations of random parameters\n",
    "# This should be helpful for finding the learning rate and minibatch size\n",
    "for i in range(10):\n",
    "    k, e0, mb = get_rand_params()\n",
    "    a_lr = adaptive_lr(kappa=k, eta0=e0)\n",
    "    print()\n",
    "    print()\n",
    "    print(\"-------------------\")\n",
    "    print(\"k:{}, e0:{}, mb:{}\".format(k, e0, mb))\n",
    "    print(\"-------------------\")\n",
    "\n",
    "    loss = LossMSE()\n",
    "    hl1 = [Linear(2, 25, lr=0), ReLU()]\n",
    "    hl2 = [Linear(25, 25, lr=0), ReLU()]\n",
    "    hl3 = [Linear(25, 25, lr=0), ReLU()]\n",
    "    out = [Linear(25, 1, lr=0), Sigmoid()]\n",
    "\n",
    "    model = Sequential(hl1 + hl2 + hl3 + out)\n",
    "\n",
    "    SGD(model, loss, train_input, train_target, 20, mb, a_lr)"
   ]
  },
  {
   "cell_type": "code",
   "execution_count": 17,
   "metadata": {
    "scrolled": false
   },
   "outputs": [
    {
     "name": "stdout",
     "output_type": "stream",
     "text": [
      "Epoch 0  Loss 375.02357791  Accuracy 0.49  Errors 514\n",
      "Epoch 1  Loss 236.81257086  Accuracy 0.63  Errors 374\n",
      "Epoch 2  Loss 230.70660017  Accuracy 0.65  Errors 351\n",
      "Epoch 3  Loss 223.44113150  Accuracy 0.70  Errors 300\n",
      "Epoch 4  Loss 217.20262854  Accuracy 0.72  Errors 283\n",
      "Epoch 5  Loss 207.99289186  Accuracy 0.73  Errors 269\n",
      "Epoch 6  Loss 198.92953621  Accuracy 0.74  Errors 259\n",
      "Epoch 7  Loss 191.10043386  Accuracy 0.75  Errors 247\n",
      "Epoch 8  Loss 183.16476624  Accuracy 0.76  Errors 241\n",
      "Epoch 9  Loss 175.18963323  Accuracy 0.78  Errors 224\n",
      "Epoch 10  Loss 169.41248172  Accuracy 0.79  Errors 214\n",
      "Epoch 11  Loss 162.88418756  Accuracy 0.79  Errors 213\n",
      "Epoch 12  Loss 158.28910494  Accuracy 0.80  Errors 200\n",
      "Epoch 13  Loss 152.64935538  Accuracy 0.80  Errors 199\n",
      "Epoch 14  Loss 147.11178312  Accuracy 0.82  Errors 176\n",
      "Epoch 15  Loss 140.94829137  Accuracy 0.84  Errors 164\n",
      "Epoch 16  Loss 136.63433339  Accuracy 0.85  Errors 152\n",
      "Epoch 17  Loss 133.78925845  Accuracy 0.84  Errors 157\n",
      "Epoch 18  Loss 129.64481062  Accuracy 0.86  Errors 143\n",
      "Epoch 19  Loss 125.20618740  Accuracy 0.86  Errors 138\n",
      "Epoch 20  Loss 120.34073595  Accuracy 0.88  Errors 122\n",
      "Epoch 21  Loss 116.33192464  Accuracy 0.88  Errors 120\n",
      "Epoch 22  Loss 111.75752777  Accuracy 0.89  Errors 107\n",
      "Epoch 23  Loss 108.49138096  Accuracy 0.90  Errors 105\n",
      "Epoch 24  Loss 106.00254537  Accuracy 0.91  Errors 93\n",
      "Epoch 25  Loss 101.98228058  Accuracy 0.91  Errors 92\n",
      "Epoch 26  Loss 99.90462445  Accuracy 0.92  Errors 78\n",
      "Epoch 27  Loss 96.79188943  Accuracy 0.92  Errors 77\n",
      "Epoch 28  Loss 92.74709508  Accuracy 0.93  Errors 73\n",
      "Epoch 29  Loss 90.23633326  Accuracy 0.93  Errors 68\n",
      "Epoch 30  Loss 87.72605143  Accuracy 0.94  Errors 61\n",
      "Epoch 31  Loss 85.55216859  Accuracy 0.94  Errors 64\n",
      "Epoch 32  Loss 83.32146318  Accuracy 0.94  Errors 59\n",
      "Epoch 33  Loss 81.64055268  Accuracy 0.94  Errors 64\n",
      "Epoch 34  Loss 78.50227794  Accuracy 0.94  Errors 62\n",
      "Epoch 35  Loss 77.34516319  Accuracy 0.94  Errors 56\n",
      "Epoch 36  Loss 76.59033376  Accuracy 0.94  Errors 60\n",
      "Epoch 37  Loss 74.44539766  Accuracy 0.95  Errors 50\n",
      "Epoch 38  Loss 74.15513064  Accuracy 0.95  Errors 49\n",
      "Epoch 39  Loss 71.21477473  Accuracy 0.96  Errors 38\n",
      "Epoch 40  Loss 70.18801353  Accuracy 0.95  Errors 54\n",
      "Epoch 41  Loss 67.66759415  Accuracy 0.96  Errors 41\n",
      "Epoch 42  Loss 66.34725559  Accuracy 0.96  Errors 42\n",
      "Epoch 43  Loss 65.84203347  Accuracy 0.95  Errors 46\n",
      "Epoch 44  Loss 64.62182668  Accuracy 0.95  Errors 48\n",
      "Epoch 45  Loss 63.26177460  Accuracy 0.96  Errors 36\n",
      "Epoch 46  Loss 62.10754327  Accuracy 0.97  Errors 32\n",
      "Epoch 47  Loss 60.75835741  Accuracy 0.96  Errors 35\n",
      "Epoch 48  Loss 59.58690697  Accuracy 0.97  Errors 32\n",
      "Epoch 49  Loss 58.89549607  Accuracy 0.96  Errors 36\n",
      "Epoch 50  Loss 57.79019487  Accuracy 0.97  Errors 29\n",
      "Epoch 51  Loss 58.19594925  Accuracy 0.96  Errors 36\n",
      "Epoch 52  Loss 56.13883805  Accuracy 0.97  Errors 31\n",
      "Epoch 53  Loss 54.70858484  Accuracy 0.97  Errors 28\n",
      "Epoch 54  Loss 54.50519798  Accuracy 0.97  Errors 31\n",
      "Epoch 55  Loss 53.87426063  Accuracy 0.97  Errors 25\n",
      "Epoch 56  Loss 53.64579938  Accuracy 0.97  Errors 33\n",
      "Epoch 57  Loss 52.59553238  Accuracy 0.97  Errors 30\n",
      "Epoch 58  Loss 52.06400153  Accuracy 0.97  Errors 28\n",
      "Epoch 59  Loss 52.41523038  Accuracy 0.96  Errors 35\n",
      "Epoch 60  Loss 50.51242878  Accuracy 0.97  Errors 25\n",
      "Epoch 61  Loss 50.10395340  Accuracy 0.97  Errors 27\n",
      "Epoch 62  Loss 49.32657166  Accuracy 0.98  Errors 22\n",
      "Epoch 63  Loss 49.85419418  Accuracy 0.97  Errors 28\n",
      "Epoch 64  Loss 49.56226911  Accuracy 0.97  Errors 31\n",
      "Epoch 65  Loss 47.74373251  Accuracy 0.97  Errors 25\n",
      "Epoch 66  Loss 47.39344259  Accuracy 0.98  Errors 23\n",
      "Epoch 67  Loss 46.32365126  Accuracy 0.98  Errors 16\n",
      "Epoch 68  Loss 46.62818261  Accuracy 0.98  Errors 24\n",
      "Epoch 69  Loss 46.22687666  Accuracy 0.98  Errors 23\n",
      "Epoch 70  Loss 46.84385914  Accuracy 0.97  Errors 30\n",
      "Epoch 71  Loss 45.89732975  Accuracy 0.97  Errors 29\n",
      "Epoch 72  Loss 46.10844383  Accuracy 0.97  Errors 29\n",
      "Epoch 73  Loss 44.66394959  Accuracy 0.98  Errors 17\n",
      "Epoch 74  Loss 43.61586924  Accuracy 0.98  Errors 19\n",
      "Epoch 75  Loss 43.63955014  Accuracy 0.98  Errors 22\n",
      "Epoch 76  Loss 44.27326060  Accuracy 0.98  Errors 22\n",
      "Epoch 77  Loss 42.96691018  Accuracy 0.98  Errors 22\n",
      "Epoch 78  Loss 42.08136721  Accuracy 0.99  Errors 13\n",
      "Epoch 79  Loss 41.83849510  Accuracy 0.98  Errors 16\n",
      "Epoch 80  Loss 42.19791695  Accuracy 0.98  Errors 21\n",
      "Epoch 81  Loss 41.39497771  Accuracy 0.98  Errors 20\n",
      "Epoch 82  Loss 41.17313839  Accuracy 0.98  Errors 16\n",
      "Epoch 83  Loss 40.97508872  Accuracy 0.98  Errors 19\n",
      "Epoch 84  Loss 40.56993782  Accuracy 0.98  Errors 17\n",
      "Epoch 85  Loss 40.13543117  Accuracy 0.98  Errors 19\n",
      "Epoch 86  Loss 39.52495966  Accuracy 0.98  Errors 17\n",
      "Epoch 87  Loss 40.99498462  Accuracy 0.98  Errors 21\n",
      "Epoch 88  Loss 39.79820653  Accuracy 0.98  Errors 21\n",
      "Epoch 89  Loss 39.00135902  Accuracy 0.98  Errors 20\n",
      "Epoch 90  Loss 38.41090130  Accuracy 0.98  Errors 17\n",
      "Epoch 91  Loss 38.81587463  Accuracy 0.98  Errors 15\n",
      "Epoch 92  Loss 37.94164760  Accuracy 0.98  Errors 15\n",
      "Epoch 93  Loss 38.02988483  Accuracy 0.98  Errors 17\n",
      "Epoch 94  Loss 37.80634898  Accuracy 0.99  Errors 14\n",
      "Epoch 95  Loss 38.48185261  Accuracy 0.99  Errors 13\n",
      "Epoch 96  Loss 37.08146851  Accuracy 0.98  Errors 17\n",
      "Epoch 97  Loss 37.52793434  Accuracy 0.98  Errors 15\n",
      "Epoch 98  Loss 37.06197306  Accuracy 0.99  Errors 13\n",
      "Epoch 99  Loss 36.22002954  Accuracy 0.98  Errors 16\n",
      "Epoch 100  Loss 36.27566219  Accuracy 0.98  Errors 15\n",
      "Epoch 101  Loss 36.33600366  Accuracy 0.98  Errors 20\n",
      "Epoch 102  Loss 36.31448806  Accuracy 0.98  Errors 16\n",
      "Epoch 103  Loss 35.61824542  Accuracy 0.99  Errors 13\n",
      "Epoch 104  Loss 34.96098499  Accuracy 0.98  Errors 15\n",
      "Epoch 105  Loss 35.35041295  Accuracy 0.99  Errors 14\n",
      "Epoch 106  Loss 35.92631076  Accuracy 0.98  Errors 17\n",
      "Epoch 107  Loss 35.45987603  Accuracy 0.98  Errors 19\n",
      "Epoch 108  Loss 34.55961035  Accuracy 0.99  Errors 12\n",
      "Epoch 109  Loss 34.27403833  Accuracy 0.99  Errors 11\n",
      "Epoch 110  Loss 34.69480637  Accuracy 0.99  Errors 12\n",
      "Epoch 111  Loss 35.04457960  Accuracy 0.98  Errors 17\n",
      "Epoch 112  Loss 33.65870436  Accuracy 0.99  Errors 9\n",
      "Epoch 113  Loss 34.33864983  Accuracy 0.99  Errors 14\n",
      "Epoch 114  Loss 34.14490600  Accuracy 0.99  Errors 13\n",
      "Epoch 115  Loss 34.37925169  Accuracy 0.99  Errors 14\n",
      "Epoch 116  Loss 33.14047861  Accuracy 0.99  Errors 10\n",
      "Epoch 117  Loss 33.17453863  Accuracy 0.99  Errors 13\n",
      "Epoch 118  Loss 33.86813388  Accuracy 0.98  Errors 17\n",
      "Epoch 119  Loss 32.44101306  Accuracy 0.99  Errors 11\n",
      "Epoch 120  Loss 32.54362353  Accuracy 0.99  Errors 10\n",
      "Epoch 121  Loss 32.04985628  Accuracy 0.99  Errors 14\n",
      "Epoch 122  Loss 32.80031364  Accuracy 0.99  Errors 13\n",
      "Epoch 123  Loss 32.45445185  Accuracy 0.99  Errors 11\n",
      "Epoch 124  Loss 31.69865673  Accuracy 0.99  Errors 9\n",
      "Epoch 125  Loss 31.93403752  Accuracy 0.98  Errors 17\n",
      "Epoch 126  Loss 31.63528045  Accuracy 0.99  Errors 11\n",
      "Epoch 127  Loss 31.82886586  Accuracy 0.99  Errors 13\n",
      "Epoch 128  Loss 31.30772031  Accuracy 0.99  Errors 12\n",
      "Epoch 129  Loss 31.46189361  Accuracy 0.99  Errors 12\n",
      "Epoch 130  Loss 31.11885513  Accuracy 0.99  Errors 11\n",
      "Epoch 131  Loss 30.44456999  Accuracy 0.99  Errors 8\n",
      "Epoch 132  Loss 30.63292580  Accuracy 0.99  Errors 11\n",
      "Epoch 133  Loss 30.52519008  Accuracy 0.99  Errors 13\n",
      "Epoch 134  Loss 30.30875872  Accuracy 0.99  Errors 8\n",
      "Epoch 135  Loss 30.02430602  Accuracy 0.99  Errors 10\n",
      "Epoch 136  Loss 29.97543456  Accuracy 0.99  Errors 6\n",
      "Epoch 137  Loss 29.95435500  Accuracy 0.99  Errors 12\n",
      "Epoch 138  Loss 29.77017489  Accuracy 0.99  Errors 8\n",
      "Epoch 139  Loss 30.05388717  Accuracy 0.99  Errors 14\n",
      "Epoch 140  Loss 29.68189596  Accuracy 0.99  Errors 11\n",
      "Epoch 141  Loss 29.65497667  Accuracy 0.99  Errors 11\n",
      "Epoch 142  Loss 29.71876008  Accuracy 0.99  Errors 12\n",
      "Epoch 143  Loss 29.09251595  Accuracy 0.99  Errors 11\n",
      "Epoch 144  Loss 28.99600721  Accuracy 0.99  Errors 8\n",
      "Epoch 145  Loss 29.88846267  Accuracy 0.99  Errors 10\n",
      "Epoch 146  Loss 28.93890162  Accuracy 0.99  Errors 12\n",
      "Epoch 147  Loss 28.46542751  Accuracy 0.99  Errors 8\n",
      "Epoch 148  Loss 28.71724059  Accuracy 0.99  Errors 9\n",
      "Epoch 149  Loss 29.03687368  Accuracy 0.99  Errors 11\n",
      "Epoch 150  Loss 28.44826709  Accuracy 0.99  Errors 12\n",
      "Epoch 151  Loss 28.74627871  Accuracy 0.99  Errors 12\n",
      "Epoch 152  Loss 28.47717420  Accuracy 0.99  Errors 13\n"
     ]
    },
    {
     "name": "stdout",
     "output_type": "stream",
     "text": [
      "Epoch 153  Loss 28.04162769  Accuracy 0.99  Errors 12\n",
      "Epoch 154  Loss 27.84399379  Accuracy 0.99  Errors 9\n",
      "Epoch 155  Loss 28.69592203  Accuracy 0.99  Errors 13\n",
      "Epoch 156  Loss 27.85315369  Accuracy 0.99  Errors 11\n",
      "Epoch 157  Loss 28.99061559  Accuracy 0.99  Errors 13\n",
      "Epoch 158  Loss 27.61964375  Accuracy 0.99  Errors 9\n",
      "Epoch 159  Loss 27.52092072  Accuracy 0.99  Errors 11\n",
      "Epoch 160  Loss 27.95078457  Accuracy 0.99  Errors 10\n",
      "Epoch 161  Loss 27.57369849  Accuracy 0.99  Errors 10\n",
      "Epoch 162  Loss 27.37363873  Accuracy 0.99  Errors 9\n",
      "Epoch 163  Loss 27.04044227  Accuracy 0.99  Errors 9\n",
      "Epoch 164  Loss 27.06488107  Accuracy 0.99  Errors 10\n",
      "Epoch 165  Loss 26.84556303  Accuracy 0.99  Errors 8\n",
      "Epoch 166  Loss 27.20628208  Accuracy 0.99  Errors 12\n",
      "Epoch 167  Loss 26.37396067  Accuracy 0.99  Errors 12\n",
      "Epoch 168  Loss 26.67194021  Accuracy 0.99  Errors 11\n",
      "Epoch 169  Loss 26.86026830  Accuracy 0.99  Errors 8\n",
      "Epoch 170  Loss 26.55009082  Accuracy 0.99  Errors 9\n",
      "Epoch 171  Loss 26.77669651  Accuracy 0.99  Errors 6\n",
      "Epoch 172  Loss 26.42335076  Accuracy 0.99  Errors 10\n",
      "Epoch 173  Loss 27.14219478  Accuracy 0.99  Errors 13\n",
      "Epoch 174  Loss 26.17846946  Accuracy 0.99  Errors 7\n",
      "Epoch 175  Loss 26.23063518  Accuracy 0.99  Errors 9\n",
      "Epoch 176  Loss 25.91900048  Accuracy 0.99  Errors 12\n",
      "Epoch 177  Loss 25.98624412  Accuracy 0.99  Errors 13\n",
      "Epoch 178  Loss 25.48035398  Accuracy 0.99  Errors 8\n",
      "Epoch 179  Loss 26.05336400  Accuracy 0.99  Errors 8\n",
      "Epoch 180  Loss 25.73558491  Accuracy 0.99  Errors 9\n",
      "Epoch 181  Loss 25.75174430  Accuracy 0.99  Errors 9\n",
      "Epoch 182  Loss 25.97583908  Accuracy 0.99  Errors 10\n",
      "Epoch 183  Loss 25.58401424  Accuracy 0.99  Errors 10\n",
      "Epoch 184  Loss 25.65460005  Accuracy 0.99  Errors 11\n",
      "Epoch 185  Loss 24.94342640  Accuracy 0.99  Errors 7\n",
      "Epoch 186  Loss 25.66685211  Accuracy 0.99  Errors 8\n",
      "Epoch 187  Loss 25.24628621  Accuracy 0.99  Errors 12\n",
      "Epoch 188  Loss 25.79017390  Accuracy 0.99  Errors 10\n",
      "Epoch 189  Loss 25.29465197  Accuracy 0.99  Errors 11\n",
      "Epoch 190  Loss 24.77303343  Accuracy 0.99  Errors 9\n",
      "Epoch 191  Loss 24.67105180  Accuracy 0.99  Errors 8\n",
      "Epoch 192  Loss 25.22379973  Accuracy 0.99  Errors 11\n",
      "Epoch 193  Loss 24.70285298  Accuracy 0.99  Errors 8\n",
      "Epoch 194  Loss 24.80166628  Accuracy 0.99  Errors 7\n",
      "Epoch 195  Loss 24.71162222  Accuracy 0.99  Errors 9\n",
      "Epoch 196  Loss 24.82247543  Accuracy 0.99  Errors 11\n",
      "Epoch 197  Loss 24.36357490  Accuracy 0.99  Errors 8\n",
      "Epoch 198  Loss 24.58403900  Accuracy 0.99  Errors 12\n",
      "Epoch 199  Loss 24.47808775  Accuracy 0.99  Errors 10\n"
     ]
    }
   ],
   "source": [
    "# Some good parameter combinations:\n",
    "#k:0.593103448275862, e0:0.014873521072935119, mb:112.0\n",
    "#k:0.5, e0:0.009236708571873866, mb:34.0\n",
    "#k:0.6241379310344828, e0:0.03856620421163472, mb:92.0\n",
    "\n",
    "k, e0, mb = (.6, 3.5e-2, 60)\n",
    "a_lr = adaptive_lr(kappa=k, eta0=e0)\n",
    "\n",
    "loss = LossMSE()\n",
    "hl1 = [Linear(2, 25, lr=0), ReLU()]\n",
    "hl2 = [Linear(25, 25, lr=0), ReLU()]\n",
    "hl3 = [Linear(25, 25, lr=0), ReLU()]\n",
    "out = [Linear(25, 1, lr=0), Sigmoid()]\n",
    "\n",
    "model = Sequential(hl1 + hl2 + hl3 + out)\n",
    "\n",
    "p_data, p_target, pred_labels = SGD(model, loss, train_input, train_target, 200, mb, a_lr)\n",
    "pred_labels = (pred_labels >= 0.5)"
   ]
  },
  {
   "cell_type": "code",
   "execution_count": 18,
   "metadata": {},
   "outputs": [
    {
     "data": {
      "image/png": "[encoded data removed]",
      "text/plain": [
       "<matplotlib.figure.Figure at 0x7f2f5a3252e8>"
      ]
     },
     "metadata": {},
     "output_type": "display_data"
    }
   ],
   "source": [
    "pred_data_errors = p_data[pred_labels != p_target]\n",
    "\n",
    "# Plot predicted labels\n",
    "plt.scatter(train_data_0.transpose()[0], train_data_0.transpose()[1], c=\"red\", alpha=.3)\n",
    "plt.scatter(train_data_1.transpose()[0], train_data_1.transpose()[1], c=\"blue\", alpha=.3)\n",
    "plt.scatter(pred_data_errors.transpose()[0], pred_data_errors.transpose()[1], c=\"yellow\", alpha=.5)\n",
    "\n",
    "plt.show()"
   ]
  },
  {
   "cell_type": "code",
   "execution_count": 19,
   "metadata": {},
   "outputs": [
    {
     "name": "stdout",
     "output_type": "stream",
     "text": [
      "Loss 26.06431415  Accuracy 0.98  Errors 21\n"
     ]
    },
    {
     "data": {
      "image/png": "[encoded data removed]",
      "text/plain": [
       "<matplotlib.figure.Figure at 0x7f2f5c39f240>"
      ]
     },
     "metadata": {},
     "output_type": "display_data"
    }
   ],
   "source": [
    "test_input, test_target = generate_disc_set(1000)\n",
    "\n",
    "def testing(model, loss, test_input, test_target):\n",
    "    \"\"\"Tests a model, which is usually defined as a Sequential module\"\"\"\n",
    "    L_tot = 0\n",
    "    errors_tot = 0\n",
    "\n",
    "    test_zipped = zip(test_input, test_target)\n",
    "    predicted_labels = []\n",
    "\n",
    "    for data, label in test_zipped:\n",
    "        d = Tensor(data)\n",
    "        l = Tensor(1).fill_(label)\n",
    "\n",
    "        # Get predicted label and loss\n",
    "        output = model.forward(d)\n",
    "        predicted_labels.append(output)\n",
    "        L = loss.forward(output, l)\n",
    "\n",
    "        # Compute total loss and accuracy\n",
    "        L_tot += L\n",
    "        errors = (l != (output >= 0.5).float() ).sum()\n",
    "        errors_tot += errors\n",
    "\n",
    "    accuracy = (len(test_target) - errors_tot) / len(test_target)\n",
    "    print('Loss {:.08f}  Accuracy {:.02f}  Errors {}'.format(\n",
    "        L_tot, accuracy, errors_tot))\n",
    "    \n",
    "    return np.array(predicted_labels)\n",
    "\n",
    "pred_labels = testing(model, loss, test_input, test_target)\n",
    "pred_labels = (pred_labels >= 0.5)\n",
    "\n",
    "test_data_0 = test_input[test_target == 0]\n",
    "test_data_1 = test_input[test_target == 1]\n",
    "pred_data_errors = test_input[pred_labels != test_target]\n",
    "\n",
    "# Plot data points\n",
    "\n",
    "plt.scatter(test_data_0.transpose()[0], test_data_0.transpose()[1], c=\"gray\", alpha=1)\n",
    "plt.scatter(test_data_1.transpose()[0], test_data_1.transpose()[1], c=\"lightgray\", alpha=1)\n",
    "plt.scatter(pred_data_errors.transpose()[0], pred_data_errors.transpose()[1], c=\"red\", alpha=1)\n",
    "plt.show()"
   ]
  },
  {
   "cell_type": "code",
   "execution_count": null,
   "metadata": {
    "collapsed": true
   },
   "outputs": [],
   "source": []
  }
 ],
 "metadata": {
  "kernelspec": {
   "display_name": "Python 3",
   "language": "python",
   "name": "python3"
  },
  "language_info": {
   "codemirror_mode": {
    "name": "ipython",
    "version": 3
   },
   "file_extension": ".py",
   "mimetype": "text/x-python",
   "name": "python",
   "nbconvert_exporter": "python",
   "pygments_lexer": "ipython3",
   "version": "3.6.3"
  }
 },
 "nbformat": 4,
 "nbformat_minor": 2
}
