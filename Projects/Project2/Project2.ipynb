{
 "cells": [
  {
   "cell_type": "code",
   "execution_count": 1,
   "metadata": {
    "collapsed": true
   },
   "outputs": [],
   "source": [
    "import torch\n",
    "from torch import Tensor\n",
    "import numpy as np"
   ]
  },
  {
   "cell_type": "markdown",
   "metadata": {},
   "source": [
    "#### Modules"
   ]
  },
  {
   "cell_type": "code",
   "execution_count": 2,
   "metadata": {
    "collapsed": true
   },
   "outputs": [],
   "source": [
    "class Module(object):\n",
    "    def forward(self, *input):\n",
    "        raise NotImplementedError\n",
    "    def backward(self, *gradwrtoutput):\n",
    "        raise NotImplementedError\n",
    "    def param(self):\n",
    "        return []\n",
    "    def update(self, lr=None):\n",
    "        pass"
   ]
  },
  {
   "cell_type": "code",
   "execution_count": 3,
   "metadata": {
    "collapsed": true
   },
   "outputs": [],
   "source": [
    "class Linear(Module):\n",
    "    \"\"\"Implements the fully connected layer module\n",
    "    \n",
    "    It requires the number of inputs and outputs.\n",
    "\n",
    "    Weights are initialized assuming that a ReLU module\n",
    "    will be used afterwards. If a Tanh module will be used\n",
    "    instead, it is recommended to set\n",
    "    std_w = 1 / np.sqrt(n_input)\n",
    "    \n",
    "    It is possible to set a default learning rate that will be used\n",
    "    during backpropagation if no other learning rate is stated.\n",
    "    \"\"\"\n",
    "    def __init__(self, n_input, n_output, lr=1e-5,\n",
    "        std_w=None, bias=True, std_b=0):\n",
    "\n",
    "        if std_w is None:\n",
    "            # \"Xavier\" initialization\n",
    "            std_w = 1 / np.sqrt(.5 * n_input)\n",
    "        \n",
    "        # Set parameters\n",
    "        self.lr = lr\n",
    "        self.w = Tensor(n_output, n_input).normal_(0, std_w)\n",
    "        self.dw = Tensor(self.w.size()).zero_()\n",
    "        self.cum_dw = Tensor(self.w.size()).zero_()\n",
    "        self.bias = bias\n",
    "        \n",
    "        if bias:\n",
    "            if not std_b:\n",
    "                self.b = Tensor(n_output, 1).fill_(0)\n",
    "            else:\n",
    "                self.b = Tensor(n_output, 1).normal_(0, std_b)\n",
    "            self.db = Tensor(self.b.size()).zero_()\n",
    "            self.cum_db = Tensor(self.b.size()).zero_()\n",
    "\n",
    "    def forward(self, x):\n",
    "        \"\"\"Carries out the forward pass for backpropagation.\"\"\"\n",
    "        if len(x.shape) < 2:\n",
    "            # reshape if required\n",
    "            x = x.view(-1,1)\n",
    "        self.x = x\n",
    "        self.s = self.w @ x\n",
    "        if self.bias:\n",
    "            self.s += self.b\n",
    "        return self.s\n",
    "\n",
    "    def backward(self, grad):\n",
    "        \"\"\"Carries out the backward pass for backpropagation.\n",
    "        It does not update the parameters.\n",
    "        \"\"\"\n",
    "        if len(grad.shape) < 2:\n",
    "            # reshape if required\n",
    "            grad = grad.view(1,-1)\n",
    "        out = grad @ self.w\n",
    "        self.dw = (self.x @ grad).t()\n",
    "        self.cum_dw.add_(self.dw)\n",
    "        if self.bias:\n",
    "            self.db = grad.t()\n",
    "            self.cum_db.add_(self.db)\n",
    "        return out\n",
    "\n",
    "    def param(self):\n",
    "        \"\"\"Returns the list of parameters and gradients.\"\"\"\n",
    "        out = [(self.w, self.dw)]\n",
    "        if self.bias:\n",
    "            out.append((self.b, self.db))\n",
    "        return out\n",
    "    \n",
    "    def update(self, lr=None):\n",
    "        \"\"\"Updates the parameters with the accumulated gradients.\n",
    "        It must be called explicitly. If no lr is stated, the\n",
    "        default lr of the module is used.\n",
    "        \"\"\"\n",
    "        if lr is None:\n",
    "            lr = self.lr\n",
    "        self.w.add_(-lr * self.cum_dw)\n",
    "        self.cum_dw = Tensor(self.w.size()).zero_()\n",
    "        if self.bias:\n",
    "            self.b.add_(-lr * self.cum_db)\n",
    "            self.cum_db = Tensor(self.b.size()).zero_()"
   ]
  },
  {
   "cell_type": "code",
   "execution_count": 4,
   "metadata": {
    "collapsed": true
   },
   "outputs": [],
   "source": [
    "class ReLU(Module):\n",
    "    \"\"\"Implements the Rectified Linear Unit activation layer\"\"\"\n",
    "    def forward(self, x):\n",
    "        \"\"\"Carries out the forward pass for backpropagation.\"\"\"\n",
    "        self.x = x\n",
    "        return self.x.clamp(min=0)\n",
    "\n",
    "    def backward(self, grad):\n",
    "        \"\"\"Carries out the backward pass for backpropagation.\"\"\"\n",
    "        return grad * Tensor(np.where(self.x <= 0,\n",
    "            0, 1)).view(grad.size())"
   ]
  },
  {
   "cell_type": "code",
   "execution_count": 5,
   "metadata": {
    "collapsed": true
   },
   "outputs": [],
   "source": [
    "class LeakyReLU(Module):\n",
    "    \"\"\"Implements the Leaky ReLU activation layer\"\"\"\n",
    "    def __init__(self, a=.001):\n",
    "        self.a = a\n",
    "        \n",
    "        \"\"\"Carries out the forward pass for backpropagation.\"\"\"\n",
    "        self.x = x\n",
    "        return Tensor(np.where(x >= 0, x, self.a * x ))\n",
    "\n",
    "    def backward(self, grad):\n",
    "        \"\"\"Carries out the backward pass for backpropagation.\"\"\"\n",
    "        return grad * Tensor(np.where(self.x >= 0,\n",
    "            1, self.a)).view(grad.size())"
   ]
  },
  {
   "cell_type": "code",
   "execution_count": 6,
   "metadata": {
    "collapsed": true
   },
   "outputs": [],
   "source": [
    "class Tanh(Module):\n",
    "    \"\"\"Implements the Tanh activation layer\"\"\"\n",
    "    def forward(self, x):\n",
    "        \"\"\"Carries out the forward pass for backpropagation.\"\"\"\n",
    "        self.x_tanh = x.tanh()\n",
    "        return self.x_tanh\n",
    "\n",
    "    def backward(self, grad):\n",
    "        \"\"\"Carries out the backward pass for backpropagation.\"\"\"\n",
    "        return grad * (1 - self.x_tanh ** 2).view(grad.size())"
   ]
  },
  {
   "cell_type": "code",
   "execution_count": 7,
   "metadata": {
    "collapsed": true
   },
   "outputs": [],
   "source": [
    "class Sigmoid(Module):\n",
    "    \"\"\"Implements the Rectified Linear Unit activation layer\n",
    "    It is recommended to use the Tanh module instead.\n",
    "    \"\"\"\n",
    "    def forward(self, x):\n",
    "        \"\"\"Carries out the forward pass for backpropagation.\"\"\"\n",
    "        self.sigmoid = (1 + (x / 2).tanh()) / 2\n",
    "        return self.sigmoid\n",
    "\n",
    "    def backward(self, grad):\n",
    "        \"\"\"Carries out the backward pass for backpropagation.\"\"\"\n",
    "        return grad * (self.sigmoid * (1 - self.sigmoid)).view(grad.size())"
   ]
  },
  {
   "cell_type": "code",
   "execution_count": 8,
   "metadata": {
    "collapsed": true
   },
   "outputs": [],
   "source": [
    "class LossMSE(Module):\n",
    "    \"\"\"Implements the MSE loss computation\"\"\"\n",
    "    def forward(self, output, target):\n",
    "        \"\"\"Carries out the forward pass for backpropagation.\"\"\"\n",
    "        self.diff = output.float() - target.float().view(output.size())\n",
    "        return (self.diff ** 2).sum()\n",
    "\n",
    "    def backward(self):\n",
    "        \"\"\"Carries out the backward pass for backpropagation.\"\"\"\n",
    "        return self.diff * 2"
   ]
  },
  {
   "cell_type": "code",
   "execution_count": 9,
   "metadata": {
    "collapsed": true
   },
   "outputs": [],
   "source": [
    "class Sequential(Module):\n",
    "    \"\"\"Allows to combine several modules sequentially\n",
    "    It is possible to either include a loss module in the Sequential\n",
    "    module or to not include it and use a loss module defined outside\n",
    "    of the Sequential module instead.\n",
    "    \"\"\"\n",
    "    def __init__(self, layers, loss=None):\n",
    "        self.layers = layers\n",
    "        self.loss = loss\n",
    "\n",
    "    def forward(self, x, target=None):\n",
    "        \"\"\"Carries out the forward pass for backpropagation\n",
    "        To do it it calls the forward functions of each individual\n",
    "        module.\n",
    "        \"\"\"\n",
    "        if self.loss is not None:\n",
    "            assert target is not None, \"Target required for loss module\"\n",
    "        for l in self.layers:\n",
    "            x = l.forward(x)\n",
    "        if self.loss is not None:\n",
    "            x = self.loss.forward(x, target)\n",
    "        self.x = x\n",
    "        return x\n",
    "\n",
    "    def backward(self, grad=None):\n",
    "        \"\"\"Carries out the backward pass for backpropagation\n",
    "        To do it it calls the backward functions of each individual\n",
    "        module\n",
    "        \"\"\"\n",
    "        if self.loss is not None:\n",
    "            grad = self.loss.backward()\n",
    "        else:\n",
    "            assert grad is not None, \"Initial gradient required when no loss module defined\"\n",
    "        for l in reversed(self.layers):\n",
    "            grad = l.backward(grad)\n",
    "\n",
    "    def param(self):\n",
    "        return [p for l in layers for p in l.param()]\n",
    "    \n",
    "    def update(self, lr=None):\n",
    "        for l in self.layers:\n",
    "            l.update(lr)"
   ]
  },
  {
   "cell_type": "markdown",
   "metadata": {},
   "source": [
    "#### Training"
   ]
  },
  {
   "cell_type": "code",
   "execution_count": 10,
   "metadata": {
    "collapsed": true
   },
   "outputs": [],
   "source": [
    "def adaptive_lr(kappa=0.75, eta0=1e-5):\n",
    "    \"\"\"Adaptive learning rate. After creating the lr with the\n",
    "    values for kappa and eta0, it yields the value for the learning\n",
    "    rate of the next iteration. Used for (Stochastic) Gradient Descent\n",
    "    methods.\n",
    "    \"\"\"\n",
    "    t = 1\n",
    "    while True:\n",
    "        yield eta0 * t ** -kappa\n",
    "        t += 1"
   ]
  },
  {
   "cell_type": "code",
   "execution_count": 11,
   "metadata": {
    "collapsed": true
   },
   "outputs": [],
   "source": [
    "def SGD(model, loss, train_input, train_target, n_epochs, mini_batch_size, a_lr):\n",
    "    \"\"\"Trains a model, which is usually defined as a Sequential module\"\"\"\n",
    "    for e in range(n_epochs):\n",
    "        L_tot = 0\n",
    "        errors_tot = 0\n",
    "\n",
    "        p = np.random.permutation(len(train_target))\n",
    "        train_zipped = zip(train_input[p], train_target[p])\n",
    "        predicted_labels = []        \n",
    "        \n",
    "        for i, (data, label) in enumerate(train_zipped):\n",
    "            d = Tensor(data)\n",
    "            l = Tensor(1).fill_(label)\n",
    "\n",
    "            # Forward pass\n",
    "            output = model.forward(d)\n",
    "            L = loss.forward(output, l)\n",
    "            predicted_labels.append(output)            \n",
    "\n",
    "            # Backward pass\n",
    "            grad = loss.backward()\n",
    "            model.backward(grad)\n",
    "\n",
    "            # update gradients\n",
    "            if not (i + 1) % mini_batch_size:\n",
    "                next_a_lr = next(a_lr)\n",
    "                model.update(next_a_lr)\n",
    "            \n",
    "            # Compute total loss and accuracy\n",
    "            L_tot += L\n",
    "            errors = (l != (output >= 0.5).float() ).sum()\n",
    "            errors_tot += errors\n",
    "            \n",
    "        next_a_lr = next(a_lr)\n",
    "        model.update(next_a_lr)\n",
    "\n",
    "        accuracy = (len(train_target) - errors_tot) / len(train_target)\n",
    "        print('Epoch {:d}  Loss {:.08f}  Accuracy {:.02f}  Errors {}'.format(\n",
    "            e, L_tot, accuracy, errors_tot))\n",
    "    \n",
    "    return train_input[p], train_target[p], np.array(predicted_labels)"
   ]
  },
  {
   "cell_type": "markdown",
   "metadata": {},
   "source": [
    "#### Generate dataset\n",
    "\n",
    "Where is the disk centered? We assume (0,0)"
   ]
  },
  {
   "cell_type": "code",
   "execution_count": 12,
   "metadata": {
    "collapsed": true
   },
   "outputs": [],
   "source": [
    "def generate_disc_set(nb):\n",
    "    data = np.random.uniform(0, 1, size=(nb, 2))\n",
    "    label = ((data - .5) ** 2).sum(1) <= 1 / (2 * np.pi)\n",
    "    return data, label.astype(float)"
   ]
  },
  {
   "cell_type": "code",
   "execution_count": 13,
   "metadata": {
    "collapsed": true
   },
   "outputs": [],
   "source": [
    "train_input, train_target = generate_disc_set(1000)\n",
    "train_data_0 = train_input[train_target == 0]\n",
    "train_data_1 = train_input[train_target == 1]"
   ]
  },
  {
   "cell_type": "code",
   "execution_count": 14,
   "metadata": {},
   "outputs": [
    {
     "data": {
      "image/png": "[encoded data removed]",
      "text/plain": [
       "<matplotlib.figure.Figure at 0x7eff27b39390>"
      ]
     },
     "metadata": {},
     "output_type": "display_data"
    }
   ],
   "source": [
    "# Plot data points\n",
    "import matplotlib.pyplot as plt\n",
    "plt.scatter(train_data_0.transpose()[0], train_data_0.transpose()[1], c=\"red\")\n",
    "plt.scatter(train_data_1.transpose()[0], train_data_1.transpose()[1], c=\"blue\")\n",
    "plt.show()"
   ]
  },
  {
   "cell_type": "markdown",
   "metadata": {},
   "source": [
    "#### Test\n",
    "Why two output units?"
   ]
  },
  {
   "cell_type": "code",
   "execution_count": 15,
   "metadata": {
    "collapsed": true
   },
   "outputs": [],
   "source": [
    "def get_rand_params():\n",
    "    \"\"\"Generates random parameters for testing purposes\"\"\"\n",
    "    kappas = np.linspace(.5, .95, 30)\n",
    "    #kappas = np.linspace(.76, .92, 10)\n",
    "    \n",
    "    etas = np.logspace(-7, -1, 30)\n",
    "    #etas = np.logspace(-4.32, -2, 10)\n",
    "    \n",
    "    mbs = np.linspace(20, 160, 30).round()\n",
    "    \n",
    "    return (np.random.choice(kappas),\n",
    "           np.random.choice(etas),\n",
    "           np.random.choice(mbs))"
   ]
  },
  {
   "cell_type": "raw",
   "metadata": {
    "scrolled": true
   },
   "source": [
    "# Iterate through several combinations of random parameters\n",
    "# This should be helpful for finding the learning rate and minibatch size\n",
    "for i in range(10):\n",
    "    k, e0, mb = get_rand_params()\n",
    "    a_lr = adaptive_lr(kappa=k, eta0=e0)\n",
    "    print()\n",
    "    print()\n",
    "    print(\"-------------------\")\n",
    "    print(\"k:{}, e0:{}, mb:{}\".format(k, e0, mb))\n",
    "    print(\"-------------------\")\n",
    "\n",
    "    loss = LossMSE()\n",
    "    hl1 = [Linear(2, 25, lr=0), ReLU()]\n",
    "    hl2 = [Linear(25, 25, lr=0), ReLU()]\n",
    "    hl3 = [Linear(25, 25, lr=0), ReLU()]\n",
    "    out = [Linear(25, 1, lr=0), Sigmoid()]\n",
    "\n",
    "    model = Sequential(hl1 + hl2 + hl3 + out)\n",
    "\n",
    "    SGD(model, loss, train_input, train_target, 20, mb, a_lr)"
   ]
  },
  {
   "cell_type": "code",
   "execution_count": 16,
   "metadata": {
    "scrolled": false
   },
   "outputs": [
    {
     "name": "stdout",
     "output_type": "stream",
     "text": [
      "Epoch 0  Loss 258.81833600  Accuracy 0.53  Errors 468\n",
      "Epoch 1  Loss 240.41098151  Accuracy 0.59  Errors 407\n",
      "Epoch 2  Loss 237.33636940  Accuracy 0.61  Errors 394\n",
      "Epoch 3  Loss 232.56637305  Accuracy 0.65  Errors 351\n",
      "Epoch 4  Loss 228.12853607  Accuracy 0.66  Errors 337\n",
      "Epoch 5  Loss 223.97658186  Accuracy 0.68  Errors 320\n",
      "Epoch 6  Loss 221.13876348  Accuracy 0.68  Errors 318\n",
      "Epoch 7  Loss 217.52408772  Accuracy 0.68  Errors 322\n",
      "Epoch 8  Loss 214.15478417  Accuracy 0.67  Errors 328\n",
      "Epoch 9  Loss 210.89769307  Accuracy 0.68  Errors 316\n",
      "Epoch 10  Loss 207.96100068  Accuracy 0.68  Errors 319\n",
      "Epoch 11  Loss 205.11545093  Accuracy 0.68  Errors 317\n",
      "Epoch 12  Loss 202.46011591  Accuracy 0.69  Errors 313\n",
      "Epoch 13  Loss 199.92351153  Accuracy 0.70  Errors 303\n",
      "Epoch 14  Loss 196.14127748  Accuracy 0.72  Errors 277\n",
      "Epoch 15  Loss 194.93217710  Accuracy 0.70  Errors 303\n",
      "Epoch 16  Loss 192.27818134  Accuracy 0.70  Errors 302\n",
      "Epoch 17  Loss 189.04114492  Accuracy 0.72  Errors 282\n",
      "Epoch 18  Loss 186.96460424  Accuracy 0.74  Errors 255\n",
      "Epoch 19  Loss 184.38974387  Accuracy 0.73  Errors 273\n",
      "Epoch 20  Loss 181.65955904  Accuracy 0.75  Errors 247\n",
      "Epoch 21  Loss 179.68002947  Accuracy 0.76  Errors 245\n",
      "Epoch 22  Loss 176.77593932  Accuracy 0.77  Errors 234\n",
      "Epoch 23  Loss 174.18121057  Accuracy 0.78  Errors 224\n",
      "Epoch 24  Loss 172.99858089  Accuracy 0.76  Errors 238\n",
      "Epoch 25  Loss 169.39135707  Accuracy 0.78  Errors 219\n",
      "Epoch 26  Loss 166.73734606  Accuracy 0.81  Errors 191\n",
      "Epoch 27  Loss 164.02431840  Accuracy 0.79  Errors 207\n",
      "Epoch 28  Loss 161.59612371  Accuracy 0.81  Errors 188\n",
      "Epoch 29  Loss 158.39758504  Accuracy 0.82  Errors 179\n",
      "Epoch 30  Loss 156.60717089  Accuracy 0.81  Errors 188\n",
      "Epoch 31  Loss 153.55898118  Accuracy 0.83  Errors 167\n",
      "Epoch 32  Loss 150.94618794  Accuracy 0.84  Errors 160\n",
      "Epoch 33  Loss 148.27643795  Accuracy 0.84  Errors 157\n",
      "Epoch 34  Loss 145.53685327  Accuracy 0.85  Errors 153\n",
      "Epoch 35  Loss 143.14654747  Accuracy 0.85  Errors 147\n",
      "Epoch 36  Loss 141.35188736  Accuracy 0.86  Errors 142\n",
      "Epoch 37  Loss 138.68621225  Accuracy 0.87  Errors 131\n",
      "Epoch 38  Loss 136.87240080  Accuracy 0.87  Errors 126\n",
      "Epoch 39  Loss 133.44912248  Accuracy 0.88  Errors 124\n",
      "Epoch 40  Loss 132.45367848  Accuracy 0.88  Errors 123\n",
      "Epoch 41  Loss 129.64455305  Accuracy 0.88  Errors 116\n",
      "Epoch 42  Loss 127.80175310  Accuracy 0.90  Errors 102\n",
      "Epoch 43  Loss 125.19760892  Accuracy 0.90  Errors 103\n",
      "Epoch 44  Loss 123.22575724  Accuracy 0.90  Errors 105\n",
      "Epoch 45  Loss 121.11092526  Accuracy 0.90  Errors 96\n",
      "Epoch 46  Loss 119.33711747  Accuracy 0.90  Errors 103\n",
      "Epoch 47  Loss 116.46310246  Accuracy 0.91  Errors 91\n",
      "Epoch 48  Loss 114.15960603  Accuracy 0.91  Errors 86\n",
      "Epoch 49  Loss 112.07118329  Accuracy 0.92  Errors 84\n",
      "Epoch 50  Loss 109.78759067  Accuracy 0.91  Errors 87\n",
      "Epoch 51  Loss 107.80189767  Accuracy 0.92  Errors 85\n",
      "Epoch 52  Loss 106.25535875  Accuracy 0.92  Errors 81\n",
      "Epoch 53  Loss 104.16461497  Accuracy 0.92  Errors 83\n",
      "Epoch 54  Loss 101.77808101  Accuracy 0.92  Errors 77\n",
      "Epoch 55  Loss 101.22910568  Accuracy 0.93  Errors 74\n",
      "Epoch 56  Loss 98.73512576  Accuracy 0.93  Errors 69\n",
      "Epoch 57  Loss 97.42122522  Accuracy 0.93  Errors 72\n",
      "Epoch 58  Loss 95.72554069  Accuracy 0.93  Errors 71\n",
      "Epoch 59  Loss 93.69513732  Accuracy 0.94  Errors 63\n",
      "Epoch 60  Loss 92.75881618  Accuracy 0.93  Errors 72\n",
      "Epoch 61  Loss 90.72590880  Accuracy 0.94  Errors 65\n",
      "Epoch 62  Loss 90.31214898  Accuracy 0.94  Errors 58\n",
      "Epoch 63  Loss 88.20632688  Accuracy 0.94  Errors 59\n",
      "Epoch 64  Loss 86.76927381  Accuracy 0.94  Errors 56\n",
      "Epoch 65  Loss 86.31848932  Accuracy 0.94  Errors 60\n",
      "Epoch 66  Loss 84.26180657  Accuracy 0.94  Errors 57\n",
      "Epoch 67  Loss 82.72172741  Accuracy 0.95  Errors 49\n",
      "Epoch 68  Loss 82.29190393  Accuracy 0.94  Errors 58\n",
      "Epoch 69  Loss 80.97231275  Accuracy 0.95  Errors 54\n",
      "Epoch 70  Loss 79.32247155  Accuracy 0.95  Errors 50\n",
      "Epoch 71  Loss 78.27725988  Accuracy 0.95  Errors 49\n",
      "Epoch 72  Loss 77.49560117  Accuracy 0.96  Errors 40\n",
      "Epoch 73  Loss 76.70873193  Accuracy 0.95  Errors 46\n",
      "Epoch 74  Loss 75.58105462  Accuracy 0.95  Errors 47\n",
      "Epoch 75  Loss 74.82816955  Accuracy 0.95  Errors 46\n",
      "Epoch 76  Loss 72.85721034  Accuracy 0.95  Errors 45\n",
      "Epoch 77  Loss 72.98100051  Accuracy 0.95  Errors 48\n",
      "Epoch 78  Loss 71.67514688  Accuracy 0.95  Errors 45\n",
      "Epoch 79  Loss 70.58798708  Accuracy 0.96  Errors 42\n",
      "Epoch 80  Loss 69.91870404  Accuracy 0.96  Errors 41\n",
      "Epoch 81  Loss 69.56627268  Accuracy 0.96  Errors 41\n",
      "Epoch 82  Loss 68.38439784  Accuracy 0.96  Errors 42\n",
      "Epoch 83  Loss 67.53807895  Accuracy 0.96  Errors 39\n",
      "Epoch 84  Loss 67.32024723  Accuracy 0.96  Errors 41\n",
      "Epoch 85  Loss 65.68587444  Accuracy 0.97  Errors 33\n",
      "Epoch 86  Loss 65.16325269  Accuracy 0.96  Errors 41\n",
      "Epoch 87  Loss 65.54250964  Accuracy 0.96  Errors 41\n",
      "Epoch 88  Loss 63.80255051  Accuracy 0.97  Errors 34\n",
      "Epoch 89  Loss 63.07735792  Accuracy 0.96  Errors 35\n",
      "Epoch 90  Loss 62.61056830  Accuracy 0.97  Errors 32\n",
      "Epoch 91  Loss 61.50367267  Accuracy 0.97  Errors 33\n",
      "Epoch 92  Loss 61.26948743  Accuracy 0.96  Errors 35\n",
      "Epoch 93  Loss 59.99074087  Accuracy 0.96  Errors 35\n",
      "Epoch 94  Loss 60.40415179  Accuracy 0.97  Errors 31\n",
      "Epoch 95  Loss 58.96167353  Accuracy 0.97  Errors 31\n",
      "Epoch 96  Loss 58.78724016  Accuracy 0.97  Errors 33\n",
      "Epoch 97  Loss 58.76288150  Accuracy 0.96  Errors 38\n",
      "Epoch 98  Loss 57.62012140  Accuracy 0.97  Errors 29\n",
      "Epoch 99  Loss 57.26885714  Accuracy 0.97  Errors 28\n",
      "Epoch 100  Loss 56.60977437  Accuracy 0.97  Errors 29\n",
      "Epoch 101  Loss 56.23634832  Accuracy 0.97  Errors 29\n",
      "Epoch 102  Loss 55.31498815  Accuracy 0.97  Errors 30\n",
      "Epoch 103  Loss 55.26246676  Accuracy 0.97  Errors 26\n",
      "Epoch 104  Loss 54.66651459  Accuracy 0.97  Errors 30\n",
      "Epoch 105  Loss 53.88151305  Accuracy 0.97  Errors 29\n",
      "Epoch 106  Loss 53.41867507  Accuracy 0.97  Errors 29\n",
      "Epoch 107  Loss 52.51691281  Accuracy 0.97  Errors 30\n",
      "Epoch 108  Loss 52.97106398  Accuracy 0.97  Errors 28\n",
      "Epoch 109  Loss 52.05459902  Accuracy 0.97  Errors 30\n",
      "Epoch 110  Loss 51.74815233  Accuracy 0.97  Errors 29\n",
      "Epoch 111  Loss 51.13360259  Accuracy 0.97  Errors 26\n",
      "Epoch 112  Loss 50.68869339  Accuracy 0.97  Errors 28\n",
      "Epoch 113  Loss 50.04624430  Accuracy 0.97  Errors 26\n",
      "Epoch 114  Loss 50.41532388  Accuracy 0.97  Errors 30\n",
      "Epoch 115  Loss 49.22866740  Accuracy 0.97  Errors 29\n",
      "Epoch 116  Loss 49.24555325  Accuracy 0.97  Errors 31\n",
      "Epoch 117  Loss 48.44922660  Accuracy 0.97  Errors 26\n",
      "Epoch 118  Loss 48.11298506  Accuracy 0.98  Errors 23\n",
      "Epoch 119  Loss 47.79823528  Accuracy 0.98  Errors 24\n",
      "Epoch 120  Loss 47.33967574  Accuracy 0.97  Errors 25\n",
      "Epoch 121  Loss 47.60887637  Accuracy 0.97  Errors 27\n",
      "Epoch 122  Loss 46.85483078  Accuracy 0.97  Errors 25\n",
      "Epoch 123  Loss 46.41693984  Accuracy 0.97  Errors 26\n",
      "Epoch 124  Loss 46.60773425  Accuracy 0.97  Errors 28\n",
      "Epoch 125  Loss 46.87520747  Accuracy 0.97  Errors 27\n",
      "Epoch 126  Loss 45.53066669  Accuracy 0.97  Errors 25\n",
      "Epoch 127  Loss 45.08671311  Accuracy 0.97  Errors 25\n",
      "Epoch 128  Loss 44.93217554  Accuracy 0.98  Errors 24\n",
      "Epoch 129  Loss 44.44542659  Accuracy 0.98  Errors 20\n",
      "Epoch 130  Loss 44.09053901  Accuracy 0.97  Errors 26\n",
      "Epoch 131  Loss 44.40458097  Accuracy 0.98  Errors 23\n",
      "Epoch 132  Loss 44.06068130  Accuracy 0.98  Errors 24\n",
      "Epoch 133  Loss 43.22452174  Accuracy 0.98  Errors 24\n",
      "Epoch 134  Loss 42.94393267  Accuracy 0.97  Errors 26\n",
      "Epoch 135  Loss 42.67749130  Accuracy 0.98  Errors 20\n",
      "Epoch 136  Loss 42.83004883  Accuracy 0.98  Errors 24\n",
      "Epoch 137  Loss 41.92735479  Accuracy 0.98  Errors 22\n",
      "Epoch 138  Loss 41.90416456  Accuracy 0.98  Errors 22\n",
      "Epoch 139  Loss 42.41070815  Accuracy 0.98  Errors 22\n",
      "Epoch 140  Loss 41.58685432  Accuracy 0.98  Errors 21\n",
      "Epoch 141  Loss 41.24841799  Accuracy 0.98  Errors 19\n",
      "Epoch 142  Loss 41.40012664  Accuracy 0.98  Errors 20\n",
      "Epoch 143  Loss 41.24020013  Accuracy 0.97  Errors 25\n",
      "Epoch 144  Loss 40.84956771  Accuracy 0.98  Errors 23\n",
      "Epoch 145  Loss 40.27373638  Accuracy 0.98  Errors 18\n",
      "Epoch 146  Loss 40.39284506  Accuracy 0.98  Errors 19\n",
      "Epoch 147  Loss 40.10757687  Accuracy 0.98  Errors 23\n",
      "Epoch 148  Loss 40.06958966  Accuracy 0.98  Errors 20\n",
      "Epoch 149  Loss 39.78378624  Accuracy 0.98  Errors 21\n",
      "Epoch 150  Loss 38.96777814  Accuracy 0.98  Errors 21\n",
      "Epoch 151  Loss 38.89141343  Accuracy 0.98  Errors 20\n"
     ]
    },
    {
     "name": "stdout",
     "output_type": "stream",
     "text": [
      "Epoch 152  Loss 39.59049561  Accuracy 0.98  Errors 22\n",
      "Epoch 153  Loss 38.18544517  Accuracy 0.98  Errors 17\n",
      "Epoch 154  Loss 38.61783478  Accuracy 0.98  Errors 18\n",
      "Epoch 155  Loss 38.21806643  Accuracy 0.98  Errors 19\n",
      "Epoch 156  Loss 37.91330291  Accuracy 0.98  Errors 16\n",
      "Epoch 157  Loss 38.17552238  Accuracy 0.98  Errors 19\n",
      "Epoch 158  Loss 37.59776438  Accuracy 0.98  Errors 18\n",
      "Epoch 159  Loss 37.72101546  Accuracy 0.98  Errors 15\n",
      "Epoch 160  Loss 37.04169769  Accuracy 0.99  Errors 12\n",
      "Epoch 161  Loss 36.94781347  Accuracy 0.98  Errors 17\n",
      "Epoch 162  Loss 36.92455499  Accuracy 0.98  Errors 19\n",
      "Epoch 163  Loss 36.80257951  Accuracy 0.98  Errors 16\n",
      "Epoch 164  Loss 36.72547357  Accuracy 0.98  Errors 15\n",
      "Epoch 165  Loss 36.63637288  Accuracy 0.98  Errors 16\n",
      "Epoch 166  Loss 35.93125630  Accuracy 0.98  Errors 21\n",
      "Epoch 167  Loss 36.94903435  Accuracy 0.98  Errors 18\n",
      "Epoch 168  Loss 35.96359204  Accuracy 0.98  Errors 16\n",
      "Epoch 169  Loss 35.69965171  Accuracy 0.98  Errors 15\n",
      "Epoch 170  Loss 35.61063267  Accuracy 0.99  Errors 11\n",
      "Epoch 171  Loss 35.39108243  Accuracy 0.98  Errors 18\n",
      "Epoch 172  Loss 35.50078752  Accuracy 0.99  Errors 12\n",
      "Epoch 173  Loss 35.38221839  Accuracy 0.98  Errors 18\n",
      "Epoch 174  Loss 34.91196168  Accuracy 0.99  Errors 12\n",
      "Epoch 175  Loss 35.53872419  Accuracy 0.99  Errors 12\n",
      "Epoch 176  Loss 34.64691075  Accuracy 0.99  Errors 14\n",
      "Epoch 177  Loss 34.72752441  Accuracy 0.98  Errors 18\n",
      "Epoch 178  Loss 34.51225469  Accuracy 0.99  Errors 13\n",
      "Epoch 179  Loss 34.17599096  Accuracy 0.99  Errors 10\n",
      "Epoch 180  Loss 34.43658381  Accuracy 0.99  Errors 14\n",
      "Epoch 181  Loss 33.79084676  Accuracy 0.98  Errors 17\n",
      "Epoch 182  Loss 34.24187412  Accuracy 0.98  Errors 15\n",
      "Epoch 183  Loss 33.63057511  Accuracy 0.98  Errors 15\n",
      "Epoch 184  Loss 33.85585756  Accuracy 0.99  Errors 13\n",
      "Epoch 185  Loss 33.56600819  Accuracy 0.99  Errors 12\n",
      "Epoch 186  Loss 33.49843801  Accuracy 0.98  Errors 16\n",
      "Epoch 187  Loss 33.60266379  Accuracy 0.98  Errors 17\n",
      "Epoch 188  Loss 33.01596590  Accuracy 0.99  Errors 14\n",
      "Epoch 189  Loss 33.08576344  Accuracy 0.98  Errors 15\n",
      "Epoch 190  Loss 32.61312928  Accuracy 0.99  Errors 11\n",
      "Epoch 191  Loss 33.32378802  Accuracy 0.98  Errors 19\n",
      "Epoch 192  Loss 32.50391177  Accuracy 0.99  Errors 13\n",
      "Epoch 193  Loss 32.47366921  Accuracy 0.99  Errors 11\n",
      "Epoch 194  Loss 32.34244060  Accuracy 0.99  Errors 14\n",
      "Epoch 195  Loss 32.32092793  Accuracy 0.99  Errors 12\n",
      "Epoch 196  Loss 32.02232215  Accuracy 0.99  Errors 11\n",
      "Epoch 197  Loss 32.39586538  Accuracy 0.99  Errors 14\n",
      "Epoch 198  Loss 32.04408949  Accuracy 0.98  Errors 16\n",
      "Epoch 199  Loss 31.92317585  Accuracy 0.99  Errors 8\n"
     ]
    }
   ],
   "source": [
    "# Some good parameter combinations:\n",
    "#k:0.593103448275862, e0:0.014873521072935119, mb:112.0\n",
    "#k:0.5, e0:0.009236708571873866, mb:34.0\n",
    "#k:0.6241379310344828, e0:0.03856620421163472, mb:92.0\n",
    "\n",
    "k, e0, mb = (.6, 3.5e-2, 60)\n",
    "a_lr = adaptive_lr(kappa=k, eta0=e0)\n",
    "\n",
    "loss = LossMSE()\n",
    "hl1 = [Linear(2, 25, lr=0), ReLU()]\n",
    "hl2 = [Linear(25, 25, lr=0), ReLU()]\n",
    "hl3 = [Linear(25, 25, lr=0), ReLU()]\n",
    "out = [Linear(25, 1, lr=0), Sigmoid()]\n",
    "\n",
    "model = Sequential(hl1 + hl2 + hl3 + out)\n",
    "\n",
    "p_data, p_target, pred_labels = SGD(model, loss, train_input, train_target, 200, mb, a_lr)\n",
    "pred_labels = (pred_labels >= 0.5)"
   ]
  },
  {
   "cell_type": "code",
   "execution_count": 17,
   "metadata": {},
   "outputs": [
    {
     "data": {
      "image/png": "[encoded data removed]",
      "text/plain": [
       "<matplotlib.figure.Figure at 0x7eff237eec50>"
      ]
     },
     "metadata": {},
     "output_type": "display_data"
    }
   ],
   "source": [
    "pred_data_errors = p_data[pred_labels != p_target]\n",
    "\n",
    "# Plot predicted labels\n",
    "plt.scatter(train_data_0.transpose()[0], train_data_0.transpose()[1], c=\"red\", alpha=.3)\n",
    "plt.scatter(train_data_1.transpose()[0], train_data_1.transpose()[1], c=\"blue\", alpha=.3)\n",
    "plt.scatter(pred_data_errors.transpose()[0], pred_data_errors.transpose()[1], c=\"yellow\", alpha=.5)\n",
    "\n",
    "plt.show()"
   ]
  },
  {
   "cell_type": "code",
   "execution_count": 18,
   "metadata": {},
   "outputs": [
    {
     "name": "stdout",
     "output_type": "stream",
     "text": [
      "Loss 34.35099414  Accuracy 0.98  Errors 18\n"
     ]
    },
    {
     "data": {
      "image/png": "[encoded data removed]",
      "text/plain": [
       "<matplotlib.figure.Figure at 0x7eff237cb1d0>"
      ]
     },
     "metadata": {},
     "output_type": "display_data"
    }
   ],
   "source": [
    "test_input, test_target = generate_disc_set(1000)\n",
    "\n",
    "def testing(model, loss, test_input, test_target):\n",
    "    \"\"\"Tests a model, which is usually defined as a Sequential module\"\"\"\n",
    "    L_tot = 0\n",
    "    errors_tot = 0\n",
    "\n",
    "    test_zipped = zip(test_input, test_target)\n",
    "    predicted_labels = []\n",
    "\n",
    "    for data, label in test_zipped:\n",
    "        d = Tensor(data)\n",
    "        l = Tensor(1).fill_(label)\n",
    "\n",
    "        # Get predicted label and loss\n",
    "        output = model.forward(d)\n",
    "        predicted_labels.append(output)\n",
    "        L = loss.forward(output, l)\n",
    "\n",
    "        # Compute total loss and accuracy\n",
    "        L_tot += L\n",
    "        errors = (l != (output >= 0.5).float() ).sum()\n",
    "        errors_tot += errors\n",
    "\n",
    "    accuracy = (len(test_target) - errors_tot) / len(test_target)\n",
    "    print('Loss {:.08f}  Accuracy {:.02f}  Errors {}'.format(\n",
    "        L_tot, accuracy, errors_tot))\n",
    "    \n",
    "    return np.array(predicted_labels)\n",
    "\n",
    "pred_labels = testing(model, loss, test_input, test_target)\n",
    "pred_labels = (pred_labels >= 0.5)\n",
    "\n",
    "test_data_0 = test_input[test_target == 0]\n",
    "test_data_1 = test_input[test_target == 1]\n",
    "pred_data_errors = test_input[pred_labels != test_target]\n",
    "\n",
    "# Plot data points\n",
    "\n",
    "plt.scatter(test_data_0.transpose()[0], test_data_0.transpose()[1], c=\"gray\", alpha=1)\n",
    "plt.scatter(test_data_1.transpose()[0], test_data_1.transpose()[1], c=\"lightgray\", alpha=1)\n",
    "plt.scatter(pred_data_errors.transpose()[0], pred_data_errors.transpose()[1], c=\"red\", alpha=1)\n",
    "plt.show()"
   ]
  },
  {
   "cell_type": "code",
   "execution_count": null,
   "metadata": {
    "collapsed": true
   },
   "outputs": [],
   "source": []
  }
 ],
 "metadata": {
  "kernelspec": {
   "display_name": "Python 3",
   "language": "python",
   "name": "python3"
  },
  "language_info": {
   "codemirror_mode": {
    "name": "ipython",
    "version": 3
   },
   "file_extension": ".py",
   "mimetype": "text/x-python",
   "name": "python",
   "nbconvert_exporter": "python",
   "pygments_lexer": "ipython3",
   "version": "3.6.3"
  }
 },
 "nbformat": 4,
 "nbformat_minor": 2
}
